{
  "nbformat": 4,
  "nbformat_minor": 0,
  "metadata": {
    "colab": {
      "name": "CodeMixedHinglish.ipynb",
      "provenance": [],
      "collapsed_sections": []
    },
    "kernelspec": {
      "name": "python3",
      "display_name": "Python 3"
    },
    "accelerator": "GPU"
  },
  "cells": [
    {
      "cell_type": "code",
      "metadata": {
        "id": "aL6hHXB5WIqS",
        "colab_type": "code",
        "outputId": "332bf2ed-211d-46cc-9108-ab6fc8c2b1a0",
        "colab": {
          "base_uri": "https://localhost:8080/",
          "height": 153
        }
      },
      "source": [
        "!git  clone https://github.com/vik235/CodeMixed-Hinglish "
      ],
      "execution_count": 2,
      "outputs": [
        {
          "output_type": "stream",
          "text": [
            "Cloning into 'CodeMixed-Hinglish'...\n",
            "remote: Enumerating objects: 143, done.\u001b[K\n",
            "remote: Counting objects: 100% (143/143), done.\u001b[K\n",
            "remote: Compressing objects: 100% (99/99), done.\u001b[K\n",
            "remote: Total 716 (delta 37), reused 125 (delta 23), pack-reused 573\n",
            "Receiving objects: 100% (716/716), 71.39 MiB | 25.34 MiB/s, done.\n",
            "Resolving deltas: 100% (213/213), done.\n",
            "Checking out files: 100% (691/691), done.\n"
          ],
          "name": "stdout"
        }
      ]
    },
    {
      "cell_type": "code",
      "metadata": {
        "id": "y-uQ5LsvWeN6",
        "colab_type": "code",
        "outputId": "4acd9abe-9a5c-4dc3-f73d-b219ea8d84c5",
        "colab": {
          "base_uri": "https://localhost:8080/",
          "height": 204
        }
      },
      "source": [
        ""
      ],
      "execution_count": 0,
      "outputs": [
        {
          "output_type": "stream",
          "text": [
            "Cleansing.ipynb\t\t\t   Model_dev_Hot.py\n",
            "data\t\t\t\t   modelperf\n",
            "DataSplit.ipynb\t\t\t   models\n",
            "englishmodel.ipynb\t\t   New\\ Text\\ Document.txt\n",
            "FinalModels\t\t\t   Preprocessing.ipynb\n",
            "HinglishWordRepresentations.ipynb  Preprocessing.py\n",
            "hot.ipynb\t\t\t   README.md\n",
            "hot.py\t\t\t\t   src_data_massage.ipynb\n",
            "indic_nlp_examples.ipynb\t   src_preprocess_messages.ipynb\n",
            "logs\t\t\t\t   training.py\n",
            "Model_dev_Hot.ipynb\t\t   Transliteration\n"
          ],
          "name": "stdout"
        }
      ]
    },
    {
      "cell_type": "code",
      "metadata": {
        "id": "AvBEWQvwWq3G",
        "colab_type": "code",
        "outputId": "d24711e7-6777-4dfd-94c5-1cc2afefa78f",
        "colab": {
          "base_uri": "https://localhost:8080/",
          "height": 238
        }
      },
      "source": [
        "%cd CodeMixed-Hinglish/\n",
        "!dir"
      ],
      "execution_count": 6,
      "outputs": [
        {
          "output_type": "stream",
          "text": [
            "[Errno 2] No such file or directory: 'CodeMixed-Hinglish/'\n",
            "/content/CodeMixed-Hinglish\n",
            "Cleansing.ipynb\t\t\t   Model_dev_Hot.py\n",
            "data\t\t\t\t   modelperf\n",
            "DataSplit.ipynb\t\t\t   models\n",
            "englishmodel.ipynb\t\t   New\\ Text\\ Document.txt\n",
            "FinalModels\t\t\t   Preprocessing.ipynb\n",
            "HinglishWordRepresentations.ipynb  Preprocessing.py\n",
            "hot.ipynb\t\t\t   README.md\n",
            "hot.py\t\t\t\t   src_data_massage.ipynb\n",
            "indic_nlp_examples.ipynb\t   src_preprocess_messages.ipynb\n",
            "logs\t\t\t\t   training.py\n",
            "Model_dev_Hot.ipynb\t\t   Transliteration\n"
          ],
          "name": "stdout"
        }
      ]
    },
    {
      "cell_type": "code",
      "metadata": {
        "id": "wMIAnVjAXPR_",
        "colab_type": "code",
        "outputId": "230e3988-ba1f-49f9-a4f6-5cdb55e16aef",
        "colab": {
          "base_uri": "https://localhost:8080/",
          "height": 221
        }
      },
      "source": [
        "!pip install keras_metrics"
      ],
      "execution_count": 4,
      "outputs": [
        {
          "output_type": "stream",
          "text": [
            "Collecting keras_metrics\n",
            "  Downloading https://files.pythonhosted.org/packages/32/c9/a87420da8e73de944e63a8e9cdcfb1f03ca31a7c4cdcdbd45d2cdf13275a/keras_metrics-1.1.0-py2.py3-none-any.whl\n",
            "Requirement already satisfied: Keras>=2.1.5 in /usr/local/lib/python3.6/dist-packages (from keras_metrics) (2.2.5)\n",
            "Requirement already satisfied: h5py in /usr/local/lib/python3.6/dist-packages (from Keras>=2.1.5->keras_metrics) (2.8.0)\n",
            "Requirement already satisfied: keras-preprocessing>=1.1.0 in /usr/local/lib/python3.6/dist-packages (from Keras>=2.1.5->keras_metrics) (1.1.0)\n",
            "Requirement already satisfied: pyyaml in /usr/local/lib/python3.6/dist-packages (from Keras>=2.1.5->keras_metrics) (3.13)\n",
            "Requirement already satisfied: scipy>=0.14 in /usr/local/lib/python3.6/dist-packages (from Keras>=2.1.5->keras_metrics) (1.3.2)\n",
            "Requirement already satisfied: six>=1.9.0 in /usr/local/lib/python3.6/dist-packages (from Keras>=2.1.5->keras_metrics) (1.12.0)\n",
            "Requirement already satisfied: keras-applications>=1.0.8 in /usr/local/lib/python3.6/dist-packages (from Keras>=2.1.5->keras_metrics) (1.0.8)\n",
            "Requirement already satisfied: numpy>=1.9.1 in /usr/local/lib/python3.6/dist-packages (from Keras>=2.1.5->keras_metrics) (1.17.4)\n",
            "Installing collected packages: keras-metrics\n",
            "Successfully installed keras-metrics-1.1.0\n"
          ],
          "name": "stdout"
        }
      ]
    },
    {
      "cell_type": "code",
      "metadata": {
        "id": "seuu5hmoXJAx",
        "colab_type": "code",
        "outputId": "30e2331d-d096-40a7-b6cf-1eb9195306cb",
        "colab": {
          "base_uri": "https://localhost:8080/",
          "height": 80
        }
      },
      "source": [
        "import os\n",
        "import keras\n",
        "import io\n",
        "import csv\n",
        "import time\n",
        "import datetime\n",
        "\n",
        "from keras.preprocessing.text import Tokenizer \n",
        "from keras.preprocessing.sequence import pad_sequences \n",
        "import numpy as np\n",
        "from keras.utils import np_utils\n",
        "from keras.utils import to_categorical\n",
        "from keras.layers import Dropout, SimpleRNN, LSTM, Bidirectional\n",
        "from keras.layers import BatchNormalization\n",
        "from keras.optimizers import Adam\n",
        "from keras.callbacks import TensorBoard\n",
        "import keras_metrics\n",
        "from keras.utils.vis_utils import plot_model\n",
        "from keras.models import load_model\n",
        "from keras.callbacks import TensorBoard, ModelCheckpoint, EarlyStopping\n",
        "\n",
        "from sklearn.model_selection import cross_val_score\n",
        "from sklearn.model_selection import KFold\n",
        "from sklearn.preprocessing import LabelEncoder\n",
        "from sklearn.pipeline import Pipeline\n",
        "\n",
        "from keras.models import Sequential\n",
        "from keras.layers import Embedding, Flatten, Dense, Conv1D, MaxPooling1D, GlobalMaxPooling1D \n",
        "import keras.backend as K\n",
        "\n",
        "## Plotly\n",
        "import plotly.offline as py\n",
        "import plotly.graph_objs as go\n",
        "py.init_notebook_mode(connected=True)\n",
        "\n",
        "import pandas as pd\n",
        "import matplotlib.pyplot as plt\n",
        "%matplotlib inline\n",
        "from sklearn.manifold import TSNE\n",
        "import time\n"
      ],
      "execution_count": 7,
      "outputs": [
        {
          "output_type": "stream",
          "text": [
            "Using TensorFlow backend.\n"
          ],
          "name": "stderr"
        },
        {
          "output_type": "display_data",
          "data": {
            "text/html": [
              "<p style=\"color: red;\">\n",
              "The default version of TensorFlow in Colab will soon switch to TensorFlow 2.x.<br>\n",
              "We recommend you <a href=\"https://www.tensorflow.org/guide/migrate\" target=\"_blank\">upgrade</a> now \n",
              "or ensure your notebook will continue to use TensorFlow 1.x via the <code>%tensorflow_version 1.x</code> magic:\n",
              "<a href=\"https://colab.research.google.com/notebooks/tensorflow_version.ipynb\" target=\"_blank\">more info</a>.</p>\n"
            ],
            "text/plain": [
              "<IPython.core.display.HTML object>"
            ]
          },
          "metadata": {
            "tags": []
          }
        },
        {
          "output_type": "display_data",
          "data": {
            "text/html": [
              "        <script type=\"text/javascript\">\n",
              "        window.PlotlyConfig = {MathJaxConfig: 'local'};\n",
              "        if (window.MathJax) {MathJax.Hub.Config({SVG: {font: \"STIX-Web\"}});}\n",
              "        if (typeof require !== 'undefined') {\n",
              "        require.undef(\"plotly\");\n",
              "        requirejs.config({\n",
              "            paths: {\n",
              "                'plotly': ['https://cdn.plot.ly/plotly-latest.min']\n",
              "            }\n",
              "        });\n",
              "        require(['plotly'], function(Plotly) {\n",
              "            window._Plotly = Plotly;\n",
              "        });\n",
              "        }\n",
              "        </script>\n",
              "        "
            ]
          },
          "metadata": {
            "tags": []
          }
        }
      ]
    },
    {
      "cell_type": "code",
      "metadata": {
        "id": "JOaPLhFDYTcs",
        "colab_type": "code",
        "outputId": "c62d8b9d-9466-4306-e788-70a3dbc1431e",
        "colab": {
          "base_uri": "https://localhost:8080/",
          "height": 357
        }
      },
      "source": [
        "!wget http://nlp.stanford.edu/data/glove.6B.zip"
      ],
      "execution_count": 8,
      "outputs": [
        {
          "output_type": "stream",
          "text": [
            "--2019-12-01 11:57:31--  http://nlp.stanford.edu/data/glove.6B.zip\n",
            "Resolving nlp.stanford.edu (nlp.stanford.edu)... 171.64.67.140\n",
            "Connecting to nlp.stanford.edu (nlp.stanford.edu)|171.64.67.140|:80... connected.\n",
            "HTTP request sent, awaiting response... 302 Found\n",
            "Location: https://nlp.stanford.edu/data/glove.6B.zip [following]\n",
            "--2019-12-01 11:57:32--  https://nlp.stanford.edu/data/glove.6B.zip\n",
            "Connecting to nlp.stanford.edu (nlp.stanford.edu)|171.64.67.140|:443... connected.\n",
            "HTTP request sent, awaiting response... 301 Moved Permanently\n",
            "Location: http://downloads.cs.stanford.edu/nlp/data/glove.6B.zip [following]\n",
            "--2019-12-01 11:57:32--  http://downloads.cs.stanford.edu/nlp/data/glove.6B.zip\n",
            "Resolving downloads.cs.stanford.edu (downloads.cs.stanford.edu)... 171.64.64.22\n",
            "Connecting to downloads.cs.stanford.edu (downloads.cs.stanford.edu)|171.64.64.22|:80... connected.\n",
            "HTTP request sent, awaiting response... 200 OK\n",
            "Length: 862182613 (822M) [application/zip]\n",
            "Saving to: ‘glove.6B.zip’\n",
            "\n",
            "glove.6B.zip        100%[===================>] 822.24M  2.19MB/s    in 6m 29s  \n",
            "\n",
            "2019-12-01 12:04:01 (2.11 MB/s) - ‘glove.6B.zip’ saved [862182613/862182613]\n",
            "\n"
          ],
          "name": "stdout"
        }
      ]
    },
    {
      "cell_type": "code",
      "metadata": {
        "id": "vqdkM2GSYaOf",
        "colab_type": "code",
        "outputId": "f4794558-0682-4eb4-8bc5-8b48e6bca558",
        "colab": {
          "base_uri": "https://localhost:8080/",
          "height": 102
        }
      },
      "source": [
        "!unzip glove*.zip"
      ],
      "execution_count": 9,
      "outputs": [
        {
          "output_type": "stream",
          "text": [
            "Archive:  glove.6B.zip\n",
            "  inflating: glove.6B.50d.txt        \n",
            "  inflating: glove.6B.100d.txt       \n",
            "  inflating: glove.6B.200d.txt       \n",
            "  inflating: glove.6B.300d.txt       \n"
          ],
          "name": "stdout"
        }
      ]
    },
    {
      "cell_type": "code",
      "metadata": {
        "id": "Oph9I6vyYgZ9",
        "colab_type": "code",
        "outputId": "63266e5e-5a0f-4634-996e-81a2663c4b7e",
        "colab": {
          "base_uri": "https://localhost:8080/",
          "height": 255
        }
      },
      "source": [
        "!ls\n"
      ],
      "execution_count": 10,
      "outputs": [
        {
          "output_type": "stream",
          "text": [
            " Cleansing.ipynb\t\t     logs\n",
            " data\t\t\t\t     Model_dev_Hot.ipynb\n",
            " DataSplit.ipynb\t\t     Model_dev_Hot.py\n",
            " englishmodel.ipynb\t\t     modelperf\n",
            " FinalModels\t\t\t     models\n",
            " glove.6B.100d.txt\t\t    'New Text Document.txt'\n",
            " glove.6B.200d.txt\t\t     Preprocessing.ipynb\n",
            " glove.6B.300d.txt\t\t     Preprocessing.py\n",
            " glove.6B.50d.txt\t\t     README.md\n",
            " glove.6B.zip\t\t\t     src_data_massage.ipynb\n",
            " HinglishWordRepresentations.ipynb   src_preprocess_messages.ipynb\n",
            " hot.ipynb\t\t\t     training.py\n",
            " hot.py\t\t\t\t     Transliteration\n",
            " indic_nlp_examples.ipynb\n"
          ],
          "name": "stdout"
        }
      ]
    },
    {
      "cell_type": "code",
      "metadata": {
        "id": "4BIjMpcjW8wC",
        "colab_type": "code",
        "colab": {}
      },
      "source": [
        "##Set params for the model\n",
        "tensorBoard_logs_dir = 'logs'\n",
        "model_dir = 'models'\n",
        "glove_dir = '.\\\\models\\\\glove'\n",
        "train_dir = \"data/train/\"\n",
        "train_data = 'messages_3.csv'\n",
        "label_data = 'labels_3.csv'\n",
        "\n",
        "maxlen = 200\n",
        "training_samples = 2800\n",
        "validation_samples = 500# len(labels) - training_samples #\n",
        "max_words = 10000\n",
        "num_filters = 64 \n",
        "embedding_dim = 200\n",
        "num_filters = 64 \n",
        "num_classes = 3\n",
        "\n"
      ],
      "execution_count": 0,
      "outputs": []
    },
    {
      "cell_type": "code",
      "metadata": {
        "id": "ToqtEqkXXB3o",
        "colab_type": "code",
        "colab": {}
      },
      "source": [
        "texts = []\n",
        "labels = []\n",
        "train_dir = \"data/train/\"\n",
        "\n",
        "with open(os.path.join(train_dir, train_data), newline ='') as messageData:\n",
        "    reader = csv.reader(messageData)\n",
        "    for row in reader:\n",
        "        message = (''.join(row))\n",
        "        texts.append(message)\n",
        "\n",
        "with open(os.path.join(train_dir, label_data)) as labelData:\n",
        "    reader = csv.reader(labelData)\n",
        "    for row in reader:\n",
        "        #label = (''.join(row))\n",
        "        labels.append(row)\n",
        "\n",
        "labels = np.squeeze(labels)#[(np.squeeze(i)) for i in labels]\n",
        "#np.squeeze(labels[:])\n",
        "#la\n"
      ],
      "execution_count": 0,
      "outputs": []
    },
    {
      "cell_type": "code",
      "metadata": {
        "id": "9O8pieSmXa7_",
        "colab_type": "code",
        "outputId": "36147203-3a26-4124-9fd7-134672f40e00",
        "colab": {
          "base_uri": "https://localhost:8080/",
          "height": 34
        }
      },
      "source": [
        "'''\n",
        "encoder = LabelEncoder()\n",
        "encoder.fit(labels)\n",
        "encoded_Y = encoder.transform(labels,)\n",
        "labells = np_utils.to_categorical(encoded_Y)\n",
        "print(labells[0,])\n",
        "\n",
        "'''\n",
        "labells = np_utils.to_categorical(labels, num_classes=num_classes)\n",
        "labells[0:20,]\n",
        "np.sum(labells, axis = 0)"
      ],
      "execution_count": 13,
      "outputs": [
        {
          "output_type": "execute_result",
          "data": {
            "text/plain": [
              "array([1121., 1818., 1765.], dtype=float32)"
            ]
          },
          "metadata": {
            "tags": []
          },
          "execution_count": 13
        }
      ]
    },
    {
      "cell_type": "code",
      "metadata": {
        "id": "c7Cj4SXqYD0N",
        "colab_type": "code",
        "outputId": "c5614cd8-6799-4419-a162-0ac9cc387dfd",
        "colab": {
          "base_uri": "https://localhost:8080/",
          "height": 102
        }
      },
      "source": [
        "##Tokenizer, Sequencer and padding via Keras\n",
        "np.random.seed(1) \n",
        "\n",
        "#tokenize the data for the maxwords\n",
        "tokenizer = Tokenizer(num_words=max_words)\n",
        "tokenizer.fit_on_texts(texts)\n",
        "\n",
        "#Generate the sequences on texts on the the data by tokenizer\n",
        "sequences = tokenizer.texts_to_sequences(texts)\n",
        "\n",
        "word_index = tokenizer.word_index\n",
        "print('Found %s unique tokens.'% len(word_index))\n",
        "#print(word_index)\n",
        "#Padding sequences (making them all equal)\n",
        "data = pad_sequences(sequences, maxlen=maxlen)\n",
        "\n",
        "labels = np.asarray(labels)\n",
        "print('Shape of the data tensor:' , data.shape)\n",
        "print('Shape of the label tensor:' , labells.shape)\n",
        "\n",
        "indices = np.arange(data.shape[0])\n",
        "np.random.shuffle(indices)\n",
        "\n",
        "data = data[indices]\n",
        "labels = labells[indices,:]\n",
        "\n",
        "x_train = data#[:training_samples]\n",
        "y_train = labels#[:training_samples]\n",
        "print(indices[0:10])\n",
        "#x_test = data[training_samples:training_samples + validation_samples]\n",
        "#y_test = labels[training_samples:training_samples + validation_samples]\n",
        "\n",
        "print(\"Train length\" , len(x_train))\n",
        "#print(\"Test length\" , len(x_test))\n"
      ],
      "execution_count": 14,
      "outputs": [
        {
          "output_type": "stream",
          "text": [
            "Found 7281 unique tokens.\n",
            "Shape of the data tensor: (4704, 200)\n",
            "Shape of the label tensor: (4704, 3)\n",
            "[3727 3729 4021 2968 4496 4258 2637 1766 3494 2416]\n",
            "Train length 4704\n"
          ],
          "name": "stdout"
        }
      ]
    },
    {
      "cell_type": "code",
      "metadata": {
        "id": "GWhyGWZ5aITG",
        "colab_type": "code",
        "outputId": "22fc6be9-9b0d-4628-ceb9-5dc7217d1d82",
        "colab": {
          "base_uri": "https://localhost:8080/",
          "height": 34
        }
      },
      "source": [
        "np.random.seed(1) \n",
        "embedding_index = {}\n",
        "f = open(os.path.join('glove.6B.200d.txt'), encoding=\"utf8\")\n",
        "\n",
        "for line in f:\n",
        "    values = line.split()\n",
        "    word = values[0]\n",
        "   # print(word)\n",
        "    coefs = np.asarray(values[1:], dtype = 'float32')\n",
        "    embedding_index[word] = coefs\n",
        "f.close()\n",
        "\n",
        "\n",
        "print('Found %s word vectors' % len(embedding_index))"
      ],
      "execution_count": 15,
      "outputs": [
        {
          "output_type": "stream",
          "text": [
            "Found 400000 word vectors\n"
          ],
          "name": "stdout"
        }
      ]
    },
    {
      "cell_type": "code",
      "metadata": {
        "id": "3VQMSzFqaQ52",
        "colab_type": "code",
        "outputId": "ef453cc0-6550-46bc-99d7-1810f044a492",
        "colab": {
          "base_uri": "https://localhost:8080/",
          "height": 34
        }
      },
      "source": [
        "np.random.seed(1) \n",
        "embedding_matrix = np.zeros((max_words, embedding_dim))\n",
        "count = 0 \n",
        "ignored_words = []\n",
        "for word, i in word_index.items():\n",
        "    if i < max_words:\n",
        "        embedding_vector = embedding_index.get(word)\n",
        "        if embedding_vector is not None:\n",
        "            embedding_matrix[i] = embedding_vector\n",
        "        else:\n",
        "            ignored_words.append(word)  \n",
        "            count = count + 1\n",
        "print(embedding_matrix.shape)       \n"
      ],
      "execution_count": 16,
      "outputs": [
        {
          "output_type": "stream",
          "text": [
            "(10000, 200)\n"
          ],
          "name": "stdout"
        }
      ]
    },
    {
      "cell_type": "code",
      "metadata": {
        "id": "L2-VWkSBaTbb",
        "colab_type": "code",
        "colab": {}
      },
      "source": [
        "def save_model(model_qualifier, model, location):\n",
        "    model_name = model_qualifier + \"-{}\".format(datetime.date.today()) + \"-{}\".format(time.time())\n",
        "    try:\n",
        "        model.save(os.path.join(location, model_name))\n",
        "        #plot_model(model, to_file=os.path.join(location, model_name)+ '.png')\n",
        "    except:\n",
        "        print(\"Exception occured while saving the model to disc.\")"
      ],
      "execution_count": 0,
      "outputs": []
    },
    {
      "cell_type": "code",
      "metadata": {
        "id": "2PC9UkC1jEeZ",
        "colab_type": "code",
        "colab": {
          "base_uri": "https://localhost:8080/",
          "height": 119
        },
        "outputId": "cd66f950-e4f8-415c-b09c-7202dcee50e7"
      },
      "source": [
        "\n",
        "K.clear_session()"
      ],
      "execution_count": 18,
      "outputs": [
        {
          "output_type": "stream",
          "text": [
            "WARNING:tensorflow:From /usr/local/lib/python3.6/dist-packages/keras/backend/tensorflow_backend.py:107: The name tf.reset_default_graph is deprecated. Please use tf.compat.v1.reset_default_graph instead.\n",
            "\n",
            "WARNING:tensorflow:From /usr/local/lib/python3.6/dist-packages/keras/backend/tensorflow_backend.py:111: The name tf.placeholder_with_default is deprecated. Please use tf.compat.v1.placeholder_with_default instead.\n",
            "\n",
            "WARNING:tensorflow:From /usr/local/lib/python3.6/dist-packages/keras/backend/tensorflow_backend.py:66: The name tf.get_default_graph is deprecated. Please use tf.compat.v1.get_default_graph instead.\n",
            "\n"
          ],
          "name": "stdout"
        }
      ]
    },
    {
      "cell_type": "code",
      "metadata": {
        "id": "ZmS3E-wSaVk3",
        "colab_type": "code",
        "outputId": "ec168ced-5172-4828-b63a-bfd3e2c3749f",
        "colab": {
          "base_uri": "https://localhost:8080/",
          "height": 921
        }
      },
      "source": [
        "np.random.seed(1) \n",
        "\n",
        "model = Sequential() \n",
        "model.add(Embedding(max_words, embedding_dim, input_length=maxlen))\n",
        "'''\n",
        "model.add(LSTM(32, recurrent_dropout = 0.2, return_sequences=True))\n",
        "model.add(LSTM(32, recurrent_dropout = 0.2, return_sequences=True))\n",
        "model.add(LSTM(32, recurrent_dropout = 0.2, return_sequences=True))\n",
        "model.add(LSTM(32))\n",
        "\n",
        "model.add(Conv1D(num_filters, 7, activation='relu', padding='same'))\n",
        "model.add(Dropout(0.6))\n",
        "model.add(MaxPooling1D(2))\n",
        "model.add(Conv1D(num_filters, 7, activation='relu', padding='same'))\n",
        "model.add(Dropout(0.7))\n",
        "model.add(MaxPooling1D(2))\n",
        "model.add(Conv1D(num_filters, 7, activation='relu', padding='same'))\n",
        "model.add(Dropout(0.6))\n",
        "model.add(GlobalMaxPooling1D())\n",
        "'''\n",
        "model.add(Bidirectional(LSTM(32, recurrent_dropout = 0.4, return_sequences=True)))\n",
        "model.add(Bidirectional(LSTM(32, recurrent_dropout = 0.4, return_sequences=True)))\n",
        "model.add(Bidirectional(LSTM(32, recurrent_dropout = 0.4, return_sequences=True)))\n",
        "model.add(Bidirectional(LSTM(32)))\n",
        "#model.add(Dropout(0.5))\n",
        "#model.add(Flatten())\n",
        "model.add(Dense(64, activation = 'relu'))\n",
        "model.add(BatchNormalization())\n",
        "model.add(Dropout(0.5))\n",
        "model.add(Dense(64, activation = 'relu'))\n",
        "model.add(Dropout(0.5))\n",
        "model.add(BatchNormalization())\n",
        "model.add(Dense(3, activation = 'softmax'))\n",
        "model.layers[0].set_weights([embedding_matrix])\n",
        "model.layers[0].trainable = True\n",
        "model_name = \"CodeMixed-Emb-BiLSTM_32x2_64x1_DO-Dense_64x2-{}\".format(int(time.time()))\n",
        "model.summary()\n",
        "\n",
        "'''\n",
        "model = load_model('.\\\\models\\Best_English-Emb-TFL-CNN_64x7x3_DO-Dense_64x2_model.h5')\n",
        "model_name = \"CodeMixed-Emb-UnTrained-CNN_64x7x3_DO-Dense_64x1-{}\".format(int(time.time()))\n",
        "\n",
        "model.trainable = True\n",
        "set_trainable = False\n",
        "for layer in model.layers:\n",
        "   # print(layer.name, ': ', layer.trainable)\n",
        "    if layer.name in ['dense_27','dense_28', 'dense_29']:\n",
        "        set_trainable = True\n",
        "    if set_trainable:\n",
        "        layer.trainable = True\n",
        "    else:\n",
        "        layer.trainable = False\n",
        "\n",
        "model.layers[0].set_weights([embedding_matrix])\n",
        "model.layers[0].trainable = False\n",
        "\n",
        "for layer in model.layers:        \n",
        "    print(layer.name, ': ', layer.trainable)\n",
        "\n",
        "layers = [(layer, layer.name, layer.trainable) for layer in model.layers]\n",
        "pd.DataFrame(layers, columns=['Layer Type', 'Layer Name', 'Layer Trainable'])   \n",
        "\n",
        "'''\n"
      ],
      "execution_count": 19,
      "outputs": [
        {
          "output_type": "stream",
          "text": [
            "WARNING:tensorflow:From /usr/local/lib/python3.6/dist-packages/keras/backend/tensorflow_backend.py:541: The name tf.placeholder is deprecated. Please use tf.compat.v1.placeholder instead.\n",
            "\n",
            "WARNING:tensorflow:From /usr/local/lib/python3.6/dist-packages/keras/backend/tensorflow_backend.py:4432: The name tf.random_uniform is deprecated. Please use tf.random.uniform instead.\n",
            "\n",
            "WARNING:tensorflow:From /usr/local/lib/python3.6/dist-packages/keras/backend/tensorflow_backend.py:3733: calling dropout (from tensorflow.python.ops.nn_ops) with keep_prob is deprecated and will be removed in a future version.\n",
            "Instructions for updating:\n",
            "Please use `rate` instead of `keep_prob`. Rate should be set to `rate = 1 - keep_prob`.\n",
            "WARNING:tensorflow:From /usr/local/lib/python3.6/dist-packages/keras/backend/tensorflow_backend.py:190: The name tf.get_default_session is deprecated. Please use tf.compat.v1.get_default_session instead.\n",
            "\n",
            "WARNING:tensorflow:From /usr/local/lib/python3.6/dist-packages/keras/backend/tensorflow_backend.py:197: The name tf.ConfigProto is deprecated. Please use tf.compat.v1.ConfigProto instead.\n",
            "\n",
            "WARNING:tensorflow:From /usr/local/lib/python3.6/dist-packages/keras/backend/tensorflow_backend.py:203: The name tf.Session is deprecated. Please use tf.compat.v1.Session instead.\n",
            "\n",
            "WARNING:tensorflow:From /usr/local/lib/python3.6/dist-packages/keras/backend/tensorflow_backend.py:207: The name tf.global_variables is deprecated. Please use tf.compat.v1.global_variables instead.\n",
            "\n",
            "WARNING:tensorflow:From /usr/local/lib/python3.6/dist-packages/keras/backend/tensorflow_backend.py:216: The name tf.is_variable_initialized is deprecated. Please use tf.compat.v1.is_variable_initialized instead.\n",
            "\n",
            "WARNING:tensorflow:From /usr/local/lib/python3.6/dist-packages/keras/backend/tensorflow_backend.py:223: The name tf.variables_initializer is deprecated. Please use tf.compat.v1.variables_initializer instead.\n",
            "\n",
            "Model: \"sequential_1\"\n",
            "_________________________________________________________________\n",
            "Layer (type)                 Output Shape              Param #   \n",
            "=================================================================\n",
            "embedding_1 (Embedding)      (None, 200, 200)          2000000   \n",
            "_________________________________________________________________\n",
            "bidirectional_1 (Bidirection (None, 200, 64)           59648     \n",
            "_________________________________________________________________\n",
            "bidirectional_2 (Bidirection (None, 200, 64)           24832     \n",
            "_________________________________________________________________\n",
            "bidirectional_3 (Bidirection (None, 200, 64)           24832     \n",
            "_________________________________________________________________\n",
            "bidirectional_4 (Bidirection (None, 64)                24832     \n",
            "_________________________________________________________________\n",
            "dense_1 (Dense)              (None, 64)                4160      \n",
            "_________________________________________________________________\n",
            "batch_normalization_1 (Batch (None, 64)                256       \n",
            "_________________________________________________________________\n",
            "dropout_1 (Dropout)          (None, 64)                0         \n",
            "_________________________________________________________________\n",
            "dense_2 (Dense)              (None, 64)                4160      \n",
            "_________________________________________________________________\n",
            "dropout_2 (Dropout)          (None, 64)                0         \n",
            "_________________________________________________________________\n",
            "batch_normalization_2 (Batch (None, 64)                256       \n",
            "_________________________________________________________________\n",
            "dense_3 (Dense)              (None, 3)                 195       \n",
            "=================================================================\n",
            "Total params: 2,143,171\n",
            "Trainable params: 2,142,915\n",
            "Non-trainable params: 256\n",
            "_________________________________________________________________\n"
          ],
          "name": "stdout"
        },
        {
          "output_type": "execute_result",
          "data": {
            "text/plain": [
              "'\\nmodel = load_model(\\'.\\\\models\\\\Best_English-Emb-TFL-CNN_64x7x3_DO-Dense_64x2_model.h5\\')\\nmodel_name = \"CodeMixed-Emb-UnTrained-CNN_64x7x3_DO-Dense_64x1-{}\".format(int(time.time()))\\n\\nmodel.trainable = True\\nset_trainable = False\\nfor layer in model.layers:\\n   # print(layer.name, \\': \\', layer.trainable)\\n    if layer.name in [\\'dense_27\\',\\'dense_28\\', \\'dense_29\\']:\\n        set_trainable = True\\n    if set_trainable:\\n        layer.trainable = True\\n    else:\\n        layer.trainable = False\\n\\nmodel.layers[0].set_weights([embedding_matrix])\\nmodel.layers[0].trainable = False\\n\\nfor layer in model.layers:        \\n    print(layer.name, \\': \\', layer.trainable)\\n\\nlayers = [(layer, layer.name, layer.trainable) for layer in model.layers]\\npd.DataFrame(layers, columns=[\\'Layer Type\\', \\'Layer Name\\', \\'Layer Trainable\\'])   \\n\\n'"
            ]
          },
          "metadata": {
            "tags": []
          },
          "execution_count": 19
        }
      ]
    },
    {
      "cell_type": "code",
      "metadata": {
        "id": "_x4b2rPoaaGG",
        "colab_type": "code",
        "colab": {
          "base_uri": "https://localhost:8080/",
          "height": 85
        },
        "outputId": "b7d8977c-d4ec-46ed-e9d8-89a6e733012d"
      },
      "source": [
        "optimizer = Adam(lr=0.005, decay=1e-6)\n",
        "model.compile(optimizer=optimizer, loss = 'categorical_crossentropy', metrics=['acc'])\n"
      ],
      "execution_count": 20,
      "outputs": [
        {
          "output_type": "stream",
          "text": [
            "WARNING:tensorflow:From /usr/local/lib/python3.6/dist-packages/keras/optimizers.py:793: The name tf.train.Optimizer is deprecated. Please use tf.compat.v1.train.Optimizer instead.\n",
            "\n",
            "WARNING:tensorflow:From /usr/local/lib/python3.6/dist-packages/keras/backend/tensorflow_backend.py:3576: The name tf.log is deprecated. Please use tf.math.log instead.\n",
            "\n"
          ],
          "name": "stdout"
        }
      ]
    },
    {
      "cell_type": "code",
      "metadata": {
        "id": "pzVXfy0GahJ3",
        "colab_type": "code",
        "colab": {}
      },
      "source": [
        "#callbacks \n",
        "earlystopping = EarlyStopping(monitor='val_acc', mode='min', verbose=1, patience=100, restore_best_weights= True)\n",
        "\n",
        "modelcheckpoint = ModelCheckpoint('models/Colab_Best_Hinglish-Emb-BiLSTM_32x2_64x1_DO-Dense_64x2_model.h5', monitor='val_acc', mode='min', verbose=1)\n",
        "\n",
        "reduce_lr_plateau = keras.callbacks.ReduceLROnPlateau(monitor='val_acc', factor=0.1, patience=10, verbose=0, mode='auto', min_delta=0.0001, cooldown=0, min_lr=0)\n",
        "tensorboard = TensorBoard(log_dir = tensorBoard_logs_dir + '{}'.format(model_name), \n",
        "                         histogram_freq=1,\n",
        "                         #embeddings_freq=1\n",
        "                         )"
      ],
      "execution_count": 0,
      "outputs": []
    },
    {
      "cell_type": "code",
      "metadata": {
        "id": "uL8-fFJUazxG",
        "colab_type": "code",
        "outputId": "674465f8-0e83-425e-b2aa-8e9aef6d499b",
        "colab": {
          "base_uri": "https://localhost:8080/",
          "height": 1000
        }
      },
      "source": [
        "history = model.fit(x_train, y_train, epochs = 500, batch_size = 1024,validation_split=0.1, callbacks = [tensorboard, earlystopping, reduce_lr_plateau, modelcheckpoint])\n",
        "#results = model.evaluate(x_test, y_test)\n",
        "#model.save_weights(model_dir + '{}'.format(model_name)+'.h5')\n",
        "save_model(\"Colab_Best_Hinglish-Emb-BiLSTM_32x2_64x1_DO-Dense_64x2_model\", model, \"models\")"
      ],
      "execution_count": 0,
      "outputs": [
        {
          "output_type": "stream",
          "text": [
            "WARNING:tensorflow:From /usr/local/lib/python3.6/dist-packages/tensorflow_core/python/ops/math_grad.py:1424: where (from tensorflow.python.ops.array_ops) is deprecated and will be removed in a future version.\n",
            "Instructions for updating:\n",
            "Use tf.where in 2.0, which has the same broadcast rule as np.where\n",
            "WARNING:tensorflow:From /usr/local/lib/python3.6/dist-packages/keras/backend/tensorflow_backend.py:1033: The name tf.assign_add is deprecated. Please use tf.compat.v1.assign_add instead.\n",
            "\n",
            "WARNING:tensorflow:From /usr/local/lib/python3.6/dist-packages/keras/backend/tensorflow_backend.py:1020: The name tf.assign is deprecated. Please use tf.compat.v1.assign instead.\n",
            "\n",
            "Train on 4233 samples, validate on 471 samples\n",
            "WARNING:tensorflow:From /usr/local/lib/python3.6/dist-packages/keras/callbacks.py:1068: The name tf.summary.histogram is deprecated. Please use tf.compat.v1.summary.histogram instead.\n",
            "\n",
            "WARNING:tensorflow:From /usr/local/lib/python3.6/dist-packages/keras/callbacks.py:1122: The name tf.summary.merge_all is deprecated. Please use tf.compat.v1.summary.merge_all instead.\n",
            "\n",
            "WARNING:tensorflow:From /usr/local/lib/python3.6/dist-packages/keras/callbacks.py:1125: The name tf.summary.FileWriter is deprecated. Please use tf.compat.v1.summary.FileWriter instead.\n",
            "\n",
            "Epoch 1/500\n",
            "4233/4233 [==============================] - 25s 6ms/step - loss: 1.3617 - acc: 0.4193 - val_loss: 1.6554 - val_acc: 0.4883\n",
            "WARNING:tensorflow:From /usr/local/lib/python3.6/dist-packages/keras/callbacks.py:1265: The name tf.Summary is deprecated. Please use tf.compat.v1.Summary instead.\n",
            "\n",
            "\n",
            "Epoch 00001: saving model to models/Colab_Best_Hinglish-Emb-BiLSTM_32x2_64x1_DO-Dense_64x2_model.h5\n",
            "Epoch 2/500\n",
            "4233/4233 [==============================] - 18s 4ms/step - loss: 0.8777 - acc: 0.6312 - val_loss: 1.1610 - val_acc: 0.6921\n",
            "\n",
            "Epoch 00002: saving model to models/Colab_Best_Hinglish-Emb-BiLSTM_32x2_64x1_DO-Dense_64x2_model.h5\n",
            "Epoch 3/500\n",
            "4233/4233 [==============================] - 18s 4ms/step - loss: 0.6660 - acc: 0.7307 - val_loss: 0.7768 - val_acc: 0.7792\n",
            "\n",
            "Epoch 00003: saving model to models/Colab_Best_Hinglish-Emb-BiLSTM_32x2_64x1_DO-Dense_64x2_model.h5\n",
            "Epoch 4/500\n",
            "4233/4233 [==============================] - 18s 4ms/step - loss: 0.5244 - acc: 0.7964 - val_loss: 0.7398 - val_acc: 0.8259\n",
            "\n",
            "Epoch 00004: saving model to models/Colab_Best_Hinglish-Emb-BiLSTM_32x2_64x1_DO-Dense_64x2_model.h5\n",
            "Epoch 5/500\n",
            "4233/4233 [==============================] - 18s 4ms/step - loss: 0.4052 - acc: 0.8611 - val_loss: 0.6741 - val_acc: 0.8429\n",
            "\n",
            "Epoch 00005: saving model to models/Colab_Best_Hinglish-Emb-BiLSTM_32x2_64x1_DO-Dense_64x2_model.h5\n",
            "Epoch 6/500\n",
            "4233/4233 [==============================] - 18s 4ms/step - loss: 0.3145 - acc: 0.9036 - val_loss: 0.6941 - val_acc: 0.8514\n",
            "\n",
            "Epoch 00006: saving model to models/Colab_Best_Hinglish-Emb-BiLSTM_32x2_64x1_DO-Dense_64x2_model.h5\n",
            "Epoch 7/500\n",
            "4233/4233 [==============================] - 18s 4ms/step - loss: 0.2380 - acc: 0.9322 - val_loss: 0.6185 - val_acc: 0.8705\n",
            "\n",
            "Epoch 00007: saving model to models/Colab_Best_Hinglish-Emb-BiLSTM_32x2_64x1_DO-Dense_64x2_model.h5\n",
            "Epoch 8/500\n",
            "4233/4233 [==============================] - 18s 4ms/step - loss: 0.1785 - acc: 0.9511 - val_loss: 0.5914 - val_acc: 0.8790\n",
            "\n",
            "Epoch 00008: saving model to models/Colab_Best_Hinglish-Emb-BiLSTM_32x2_64x1_DO-Dense_64x2_model.h5\n",
            "Epoch 9/500\n",
            "4233/4233 [==============================] - 18s 4ms/step - loss: 0.1266 - acc: 0.9709 - val_loss: 0.6244 - val_acc: 0.8896\n",
            "\n",
            "Epoch 00009: saving model to models/Colab_Best_Hinglish-Emb-BiLSTM_32x2_64x1_DO-Dense_64x2_model.h5\n",
            "Epoch 10/500\n",
            "4233/4233 [==============================] - 18s 4ms/step - loss: 0.0954 - acc: 0.9818 - val_loss: 0.7194 - val_acc: 0.8960\n",
            "\n",
            "Epoch 00010: saving model to models/Colab_Best_Hinglish-Emb-BiLSTM_32x2_64x1_DO-Dense_64x2_model.h5\n",
            "Epoch 11/500\n",
            "4233/4233 [==============================] - 18s 4ms/step - loss: 0.0673 - acc: 0.9880 - val_loss: 0.6267 - val_acc: 0.9045\n",
            "\n",
            "Epoch 00011: saving model to models/Colab_Best_Hinglish-Emb-BiLSTM_32x2_64x1_DO-Dense_64x2_model.h5\n",
            "Epoch 12/500\n",
            "4233/4233 [==============================] - 18s 4ms/step - loss: 0.0528 - acc: 0.9896 - val_loss: 0.7099 - val_acc: 0.9023\n",
            "\n",
            "Epoch 00012: saving model to models/Colab_Best_Hinglish-Emb-BiLSTM_32x2_64x1_DO-Dense_64x2_model.h5\n",
            "Epoch 13/500\n",
            "4233/4233 [==============================] - 18s 4ms/step - loss: 0.0517 - acc: 0.9908 - val_loss: 0.6877 - val_acc: 0.9023\n",
            "\n",
            "Epoch 00013: saving model to models/Colab_Best_Hinglish-Emb-BiLSTM_32x2_64x1_DO-Dense_64x2_model.h5\n",
            "Epoch 14/500\n",
            "4233/4233 [==============================] - 18s 4ms/step - loss: 0.0485 - acc: 0.9924 - val_loss: 0.7015 - val_acc: 0.9108\n",
            "\n",
            "Epoch 00014: saving model to models/Colab_Best_Hinglish-Emb-BiLSTM_32x2_64x1_DO-Dense_64x2_model.h5\n",
            "Epoch 15/500\n",
            "4233/4233 [==============================] - 18s 4ms/step - loss: 0.0439 - acc: 0.9931 - val_loss: 0.6426 - val_acc: 0.9130\n",
            "\n",
            "Epoch 00015: saving model to models/Colab_Best_Hinglish-Emb-BiLSTM_32x2_64x1_DO-Dense_64x2_model.h5\n",
            "Epoch 16/500\n",
            "4233/4233 [==============================] - 18s 4ms/step - loss: 0.0411 - acc: 0.9939 - val_loss: 0.7114 - val_acc: 0.8938\n",
            "\n",
            "Epoch 00016: saving model to models/Colab_Best_Hinglish-Emb-BiLSTM_32x2_64x1_DO-Dense_64x2_model.h5\n",
            "Epoch 17/500\n",
            "4233/4233 [==============================] - 18s 4ms/step - loss: 0.0418 - acc: 0.9936 - val_loss: 0.7413 - val_acc: 0.8938\n",
            "\n",
            "Epoch 00017: saving model to models/Colab_Best_Hinglish-Emb-BiLSTM_32x2_64x1_DO-Dense_64x2_model.h5\n",
            "Epoch 18/500\n",
            "4233/4233 [==============================] - 18s 4ms/step - loss: 0.0340 - acc: 0.9943 - val_loss: 0.6946 - val_acc: 0.8960\n",
            "\n",
            "Epoch 00018: saving model to models/Colab_Best_Hinglish-Emb-BiLSTM_32x2_64x1_DO-Dense_64x2_model.h5\n",
            "Epoch 19/500\n",
            "4233/4233 [==============================] - 18s 4ms/step - loss: 0.0320 - acc: 0.9941 - val_loss: 0.6647 - val_acc: 0.8981\n",
            "\n",
            "Epoch 00019: saving model to models/Colab_Best_Hinglish-Emb-BiLSTM_32x2_64x1_DO-Dense_64x2_model.h5\n",
            "Epoch 20/500\n",
            "4233/4233 [==============================] - 18s 4ms/step - loss: 0.0307 - acc: 0.9943 - val_loss: 0.6500 - val_acc: 0.8981\n",
            "\n",
            "Epoch 00020: saving model to models/Colab_Best_Hinglish-Emb-BiLSTM_32x2_64x1_DO-Dense_64x2_model.h5\n",
            "Epoch 21/500\n",
            "4233/4233 [==============================] - 18s 4ms/step - loss: 0.0300 - acc: 0.9953 - val_loss: 0.6118 - val_acc: 0.9045\n",
            "\n",
            "Epoch 00021: saving model to models/Colab_Best_Hinglish-Emb-BiLSTM_32x2_64x1_DO-Dense_64x2_model.h5\n",
            "Epoch 22/500\n",
            "4233/4233 [==============================] - 18s 4ms/step - loss: 0.0287 - acc: 0.9967 - val_loss: 0.6246 - val_acc: 0.8938\n",
            "\n",
            "Epoch 00022: saving model to models/Colab_Best_Hinglish-Emb-BiLSTM_32x2_64x1_DO-Dense_64x2_model.h5\n",
            "Epoch 23/500\n",
            "4233/4233 [==============================] - 18s 4ms/step - loss: 0.0283 - acc: 0.9965 - val_loss: 0.6305 - val_acc: 0.9002\n",
            "\n",
            "Epoch 00023: saving model to models/Colab_Best_Hinglish-Emb-BiLSTM_32x2_64x1_DO-Dense_64x2_model.h5\n",
            "Epoch 24/500\n",
            "4233/4233 [==============================] - 18s 4ms/step - loss: 0.0265 - acc: 0.9965 - val_loss: 0.6772 - val_acc: 0.8960\n",
            "\n",
            "Epoch 00024: saving model to models/Colab_Best_Hinglish-Emb-BiLSTM_32x2_64x1_DO-Dense_64x2_model.h5\n",
            "Epoch 25/500\n",
            "4233/4233 [==============================] - 18s 4ms/step - loss: 0.0205 - acc: 0.9972 - val_loss: 0.7094 - val_acc: 0.8854\n",
            "\n",
            "Epoch 00025: saving model to models/Colab_Best_Hinglish-Emb-BiLSTM_32x2_64x1_DO-Dense_64x2_model.h5\n",
            "Epoch 26/500\n",
            "4233/4233 [==============================] - 18s 4ms/step - loss: 0.0224 - acc: 0.9972 - val_loss: 0.6971 - val_acc: 0.8854\n",
            "\n",
            "Epoch 00026: saving model to models/Colab_Best_Hinglish-Emb-BiLSTM_32x2_64x1_DO-Dense_64x2_model.h5\n",
            "Epoch 27/500\n",
            "4233/4233 [==============================] - 18s 4ms/step - loss: 0.0234 - acc: 0.9969 - val_loss: 0.6820 - val_acc: 0.8896\n",
            "\n",
            "Epoch 00027: saving model to models/Colab_Best_Hinglish-Emb-BiLSTM_32x2_64x1_DO-Dense_64x2_model.h5\n",
            "Epoch 28/500\n",
            "4233/4233 [==============================] - 18s 4ms/step - loss: 0.0206 - acc: 0.9972 - val_loss: 0.6645 - val_acc: 0.8917\n",
            "\n",
            "Epoch 00028: saving model to models/Colab_Best_Hinglish-Emb-BiLSTM_32x2_64x1_DO-Dense_64x2_model.h5\n",
            "Epoch 29/500\n",
            "4233/4233 [==============================] - 18s 4ms/step - loss: 0.0213 - acc: 0.9972 - val_loss: 0.6535 - val_acc: 0.8917\n",
            "\n",
            "Epoch 00029: saving model to models/Colab_Best_Hinglish-Emb-BiLSTM_32x2_64x1_DO-Dense_64x2_model.h5\n",
            "Epoch 30/500\n",
            "4233/4233 [==============================] - 18s 4ms/step - loss: 0.0204 - acc: 0.9969 - val_loss: 0.6421 - val_acc: 0.8917\n",
            "\n",
            "Epoch 00030: saving model to models/Colab_Best_Hinglish-Emb-BiLSTM_32x2_64x1_DO-Dense_64x2_model.h5\n",
            "Epoch 31/500\n",
            "4233/4233 [==============================] - 18s 4ms/step - loss: 0.0202 - acc: 0.9965 - val_loss: 0.6351 - val_acc: 0.8896\n",
            "\n",
            "Epoch 00031: saving model to models/Colab_Best_Hinglish-Emb-BiLSTM_32x2_64x1_DO-Dense_64x2_model.h5\n",
            "Epoch 32/500\n",
            "4233/4233 [==============================] - 19s 4ms/step - loss: 0.0200 - acc: 0.9969 - val_loss: 0.6295 - val_acc: 0.8875\n",
            "\n",
            "Epoch 00032: saving model to models/Colab_Best_Hinglish-Emb-BiLSTM_32x2_64x1_DO-Dense_64x2_model.h5\n",
            "Epoch 33/500\n",
            "4233/4233 [==============================] - 18s 4ms/step - loss: 0.0204 - acc: 0.9972 - val_loss: 0.6309 - val_acc: 0.8854\n",
            "\n",
            "Epoch 00033: saving model to models/Colab_Best_Hinglish-Emb-BiLSTM_32x2_64x1_DO-Dense_64x2_model.h5\n",
            "Epoch 34/500\n",
            "4233/4233 [==============================] - 19s 4ms/step - loss: 0.0172 - acc: 0.9967 - val_loss: 0.6345 - val_acc: 0.8832\n",
            "\n",
            "Epoch 00034: saving model to models/Colab_Best_Hinglish-Emb-BiLSTM_32x2_64x1_DO-Dense_64x2_model.h5\n",
            "Epoch 35/500\n",
            "4233/4233 [==============================] - 18s 4ms/step - loss: 0.0175 - acc: 0.9969 - val_loss: 0.6328 - val_acc: 0.8832\n",
            "\n",
            "Epoch 00035: saving model to models/Colab_Best_Hinglish-Emb-BiLSTM_32x2_64x1_DO-Dense_64x2_model.h5\n",
            "Epoch 36/500\n",
            "4233/4233 [==============================] - 18s 4ms/step - loss: 0.0194 - acc: 0.9972 - val_loss: 0.6283 - val_acc: 0.8832\n",
            "\n",
            "Epoch 00036: saving model to models/Colab_Best_Hinglish-Emb-BiLSTM_32x2_64x1_DO-Dense_64x2_model.h5\n",
            "Epoch 37/500\n",
            "4233/4233 [==============================] - 18s 4ms/step - loss: 0.0183 - acc: 0.9969 - val_loss: 0.6250 - val_acc: 0.8832\n",
            "\n",
            "Epoch 00037: saving model to models/Colab_Best_Hinglish-Emb-BiLSTM_32x2_64x1_DO-Dense_64x2_model.h5\n",
            "Epoch 38/500\n",
            "4233/4233 [==============================] - 18s 4ms/step - loss: 0.0182 - acc: 0.9972 - val_loss: 0.6221 - val_acc: 0.8832\n",
            "\n",
            "Epoch 00038: saving model to models/Colab_Best_Hinglish-Emb-BiLSTM_32x2_64x1_DO-Dense_64x2_model.h5\n",
            "Epoch 39/500\n",
            "4233/4233 [==============================] - 18s 4ms/step - loss: 0.0200 - acc: 0.9960 - val_loss: 0.6199 - val_acc: 0.8832\n",
            "\n",
            "Epoch 00039: saving model to models/Colab_Best_Hinglish-Emb-BiLSTM_32x2_64x1_DO-Dense_64x2_model.h5\n",
            "Epoch 40/500\n",
            "4233/4233 [==============================] - 19s 4ms/step - loss: 0.0160 - acc: 0.9972 - val_loss: 0.6181 - val_acc: 0.8832\n",
            "\n",
            "Epoch 00040: saving model to models/Colab_Best_Hinglish-Emb-BiLSTM_32x2_64x1_DO-Dense_64x2_model.h5\n",
            "Epoch 41/500\n",
            "4233/4233 [==============================] - 18s 4ms/step - loss: 0.0180 - acc: 0.9976 - val_loss: 0.6161 - val_acc: 0.8832\n",
            "\n",
            "Epoch 00041: saving model to models/Colab_Best_Hinglish-Emb-BiLSTM_32x2_64x1_DO-Dense_64x2_model.h5\n",
            "Epoch 42/500\n",
            "4233/4233 [==============================] - 18s 4ms/step - loss: 0.0154 - acc: 0.9972 - val_loss: 0.6142 - val_acc: 0.8832\n",
            "\n",
            "Epoch 00042: saving model to models/Colab_Best_Hinglish-Emb-BiLSTM_32x2_64x1_DO-Dense_64x2_model.h5\n",
            "Epoch 43/500\n",
            "4233/4233 [==============================] - 18s 4ms/step - loss: 0.0144 - acc: 0.9976 - val_loss: 0.6121 - val_acc: 0.8832\n",
            "\n",
            "Epoch 00043: saving model to models/Colab_Best_Hinglish-Emb-BiLSTM_32x2_64x1_DO-Dense_64x2_model.h5\n",
            "Epoch 44/500\n",
            "4233/4233 [==============================] - 18s 4ms/step - loss: 0.0158 - acc: 0.9976 - val_loss: 0.6103 - val_acc: 0.8832\n",
            "\n",
            "Epoch 00044: saving model to models/Colab_Best_Hinglish-Emb-BiLSTM_32x2_64x1_DO-Dense_64x2_model.h5\n",
            "Epoch 45/500\n",
            "4233/4233 [==============================] - 18s 4ms/step - loss: 0.0169 - acc: 0.9972 - val_loss: 0.6078 - val_acc: 0.8832\n",
            "\n",
            "Epoch 00045: saving model to models/Colab_Best_Hinglish-Emb-BiLSTM_32x2_64x1_DO-Dense_64x2_model.h5\n",
            "Epoch 46/500\n",
            "4233/4233 [==============================] - 18s 4ms/step - loss: 0.0166 - acc: 0.9976 - val_loss: 0.6058 - val_acc: 0.8832\n",
            "\n",
            "Epoch 00046: saving model to models/Colab_Best_Hinglish-Emb-BiLSTM_32x2_64x1_DO-Dense_64x2_model.h5\n",
            "Epoch 47/500\n",
            "4233/4233 [==============================] - 18s 4ms/step - loss: 0.0175 - acc: 0.9976 - val_loss: 0.6038 - val_acc: 0.8832\n",
            "\n",
            "Epoch 00047: saving model to models/Colab_Best_Hinglish-Emb-BiLSTM_32x2_64x1_DO-Dense_64x2_model.h5\n",
            "Epoch 48/500\n",
            "3072/4233 [====================>.........] - ETA: 3s - loss: 0.0198 - acc: 0.9967"
          ],
          "name": "stdout"
        }
      ]
    },
    {
      "cell_type": "code",
      "metadata": {
        "id": "R_nLTew9bERE",
        "colab_type": "code",
        "outputId": "98b072c6-8abd-4666-cb2e-64ea57dc0b4e",
        "colab": {
          "base_uri": "https://localhost:8080/",
          "height": 255
        }
      },
      "source": [
        "!dir"
      ],
      "execution_count": 0,
      "outputs": [
        {
          "output_type": "stream",
          "text": [
            "Cleansing.ipynb\t\t\t   logs\n",
            "data\t\t\t\t   Model_dev_Hot.ipynb\n",
            "DataSplit.ipynb\t\t\t   Model_dev_Hot.py\n",
            "englishmodel.ipynb\t\t   modelperf\n",
            "FinalModels\t\t\t   models\n",
            "glove.6B.100d.txt\t\t   New\\ Text\\ Document.txt\n",
            "glove.6B.200d.txt\t\t   Preprocessing.ipynb\n",
            "glove.6B.300d.txt\t\t   Preprocessing.py\n",
            "glove.6B.50d.txt\t\t   README.md\n",
            "glove.6B.zip\t\t\t   src_data_massage.ipynb\n",
            "HinglishWordRepresentations.ipynb  src_preprocess_messages.ipynb\n",
            "hot.ipynb\t\t\t   training.py\n",
            "hot.py\t\t\t\t   Transliteration\n",
            "indic_nlp_examples.ipynb\n"
          ],
          "name": "stdout"
        }
      ]
    },
    {
      "cell_type": "code",
      "metadata": {
        "id": "uVtZPz3Mhzks",
        "colab_type": "code",
        "outputId": "6978a4ae-8d81-4773-eb6a-29a087a6a40f",
        "colab": {
          "base_uri": "https://localhost:8080/",
          "height": 562
        }
      },
      "source": [
        "acc = history.history['acc']\n",
        "val_acc = history.history['val_acc']\n",
        "loss = history.history['loss']\n",
        "val_loss = history.history['val_loss']\n",
        "\n",
        "epochs = range(1, len(acc)+1)\n",
        "\n",
        "plt.plot(epochs, acc, 'bo', label ='Training acc')\n",
        "plt.plot(epochs, val_acc, 'b', label ='Validation acc')\n",
        "plt.title(\"Training and validation accuracy\")\n",
        "plt.legend()\n",
        "plt.figure()\n",
        "\n",
        "plt.plot(epochs, loss, 'bo', label ='Training Loss')\n",
        "plt.plot(epochs, val_loss, 'b', label ='Validation Loss')\n",
        "plt.title(\"Training and validation Losses\")\n",
        "plt.legend()\n",
        "plt.figure()\n",
        "\n",
        "plt.show()"
      ],
      "execution_count": 0,
      "outputs": [
        {
          "output_type": "display_data",
          "data": {
            "image/png": "[encoded data removed]",
            "text/plain": [
              "<Figure size 432x288 with 1 Axes>"
            ]
          },
          "metadata": {
            "tags": []
          }
        },
        {
          "output_type": "display_data",
          "data": {
            "image/png": "[encoded data removed]",
            "text/plain": [
              "<Figure size 432x288 with 1 Axes>"
            ]
          },
          "metadata": {
            "tags": []
          }
        },
        {
          "output_type": "display_data",
          "data": {
            "text/plain": [
              "<Figure size 432x288 with 0 Axes>"
            ]
          },
          "metadata": {
            "tags": []
          }
        }
      ]
    },
    {
      "cell_type": "code",
      "metadata": {
        "id": "zo6RHiKtpUGc",
        "colab_type": "code",
        "outputId": "7b07b909-60bb-404a-d013-1d790cba1420",
        "colab": {
          "base_uri": "https://localhost:8080/",
          "height": 238
        }
      },
      "source": [
        "!wget https://bin.equinox.io/c/4VmDzA7iaHb/ngrok-stable-linux-amd64.zip\n",
        "!unzip ngrok-stable-linux-amd64.zip"
      ],
      "execution_count": 0,
      "outputs": [
        {
          "output_type": "stream",
          "text": [
            "--2019-11-30 14:09:57--  https://bin.equinox.io/c/4VmDzA7iaHb/ngrok-stable-linux-amd64.zip\n",
            "Resolving bin.equinox.io (bin.equinox.io)... 3.229.196.117, 52.71.210.177, 52.3.157.51, ...\n",
            "Connecting to bin.equinox.io (bin.equinox.io)|3.229.196.117|:443... connected.\n",
            "HTTP request sent, awaiting response... 200 OK\n",
            "Length: 13773305 (13M) [application/octet-stream]\n",
            "Saving to: ‘ngrok-stable-linux-amd64.zip’\n",
            "\n",
            "ngrok-stable-linux- 100%[===================>]  13.13M  18.1MB/s    in 0.7s    \n",
            "\n",
            "2019-11-30 14:09:58 (18.1 MB/s) - ‘ngrok-stable-linux-amd64.zip’ saved [13773305/13773305]\n",
            "\n",
            "Archive:  ngrok-stable-linux-amd64.zip\n",
            "  inflating: ngrok                   \n"
          ],
          "name": "stdout"
        }
      ]
    },
    {
      "cell_type": "code",
      "metadata": {
        "id": "wlxsJ9IPp_Sy",
        "colab_type": "code",
        "outputId": "56e498b6-c0ec-43c3-de48-2c79ec13c76f",
        "colab": {
          "base_uri": "https://localhost:8080/",
          "height": 34
        }
      },
      "source": [
        "%cd logs"
      ],
      "execution_count": 0,
      "outputs": [
        {
          "output_type": "stream",
          "text": [
            "/content/CodeMixed-Hinglish/logs\n"
          ],
          "name": "stdout"
        }
      ]
    },
    {
      "cell_type": "code",
      "metadata": {
        "id": "qZ7tkLR4qK-y",
        "colab_type": "code",
        "outputId": "7f4a30f4-7a4c-4227-c9c3-0ddb3ee4a526",
        "colab": {
          "base_uri": "https://localhost:8080/",
          "height": 272
        }
      },
      "source": [
        "!dir"
      ],
      "execution_count": 0,
      "outputs": [
        {
          "output_type": "stream",
          "text": [
            "CodeMixed-HOT-Emb-TFF-CONV-64x1x3-MP-Dense-64x1-BN-DO-1573388387\n",
            "CodeMixed-HOT-Emb-TFF-CONV-64x2x3-MP-Dense-64x1-BN-DO-1573388542\n",
            "CodeMixed-HOT-Emb-TFF-CONV-64x2x7-MP-Dense-64x1-BN-DO-1573388670\n",
            "CodeMixed-HOT-Emb-TFF-CONV-64x3x7-MP-Dense-64x1-BN-DO-1573388824\n",
            "CodeMixed-HOT-Emb-TFF-CONV-64x3x7-MP-Dense-64x1-BN-DO-1574001521\n",
            "CodeMixed-HOT-Emb-TFF-CONV-64x3x7-MP-Dense-64x2-BN-DO-1573389431\n",
            "CodeMixed-HOT-Emb-TFF-CONV-64x3x7-MP-Dense-64x2-BN-DO-1573997675\n",
            "CodeMixed-HOT-Emb-TFF-CONV-64x3x7-MP-Dense-64x2-BN-DO-1574001926\n",
            "CodeMixed-HOT-Emb-TFF-CONV-TransCNN-Model-1573389142\n",
            "CodeMixed-HOT-Emb-TFF-Fl-Dense-64x1-BN-DO-1573388013\n",
            "CodeMixed-HOT-Emb-TFT-CONV-64x3x7-MP-Dense-64x1-BN-DO-1574001702\n",
            "CodeMixed-HOT-Emb-TFT-CONV-64x3x7-MP-Dense-64x2-BN-DO-1574001858\n",
            "CodeMixed-HOT-Emb-TFT-Fl-Dense-64x1-BN-DO-1573388101\n",
            "CodeMixed-HOT-TRANSCNN-BASE-1573389345\n",
            "metadata.tsv\n"
          ],
          "name": "stdout"
        }
      ]
    }
  ]
}