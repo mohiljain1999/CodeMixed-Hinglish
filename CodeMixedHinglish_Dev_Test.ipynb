{
  "nbformat": 4,
  "nbformat_minor": 0,
  "metadata": {
    "colab": {
      "name": "CodeMixedHinglish-Dev-Test.ipynb",
      "provenance": [],
      "collapsed_sections": [],
      "include_colab_link": true
    },
    "kernelspec": {
      "name": "python3",
      "display_name": "Python 3"
    },
    "accelerator": "GPU"
  },
  "cells": [
    {
      "cell_type": "markdown",
      "metadata": {
        "id": "view-in-github",
        "colab_type": "text"
      },
      "source": [
        "<a href=\"https://colab.research.google.com/github/vik235/CodeMixed-Hinglish/blob/master/CodeMixedHinglish_Dev_Test.ipynb\" target=\"_parent\"><img src=\"https://colab.research.google.com/assets/colab-badge.svg\" alt=\"Open In Colab\"/></a>"
      ]
    },
    {
      "cell_type": "code",
      "metadata": {
        "id": "wjBwoJb2IZ1b",
        "colab_type": "code",
        "outputId": "78401ead-c69a-4049-ee1e-46d9428caede",
        "colab": {
          "base_uri": "https://localhost:8080/",
          "height": 153
        }
      },
      "source": [
        "!git  clone https://github.com/vik235/CodeMixed-Hinglish "
      ],
      "execution_count": 5,
      "outputs": [
        {
          "output_type": "stream",
          "text": [
            "Cloning into 'CodeMixed-Hinglish'...\n",
            "remote: Enumerating objects: 231, done.\u001b[K\n",
            "remote: Counting objects: 100% (231/231), done.\u001b[K\n",
            "remote: Compressing objects: 100% (157/157), done.\u001b[K\n",
            "remote: Total 804 (delta 84), reused 195 (delta 52), pack-reused 573\u001b[K\n",
            "Receiving objects: 100% (804/804), 71.84 MiB | 11.90 MiB/s, done.\n",
            "Resolving deltas: 100% (260/260), done.\n",
            "Checking out files: 100% (696/696), done.\n"
          ],
          "name": "stdout"
        }
      ]
    },
    {
      "cell_type": "code",
      "metadata": {
        "id": "YIedAULzInPm",
        "colab_type": "code",
        "outputId": "5e30a9ca-d332-4da0-bd02-8cbf5721091c",
        "colab": {
          "base_uri": "https://localhost:8080/",
          "height": 85
        }
      },
      "source": [
        "%cd CodeMixed-Hinglish/\n",
        "!dir"
      ],
      "execution_count": 6,
      "outputs": [
        {
          "output_type": "stream",
          "text": [
            "/content/CodeMixed-Hinglish\n",
            "Colab\t    FinalModels  modelperf  NoteBooks\t      training.py\n",
            "data\t    hot.py\t model.py   Preprocessing.py  Transliteration\n",
            "dataset.py  logs\t models     README.md\n"
          ],
          "name": "stdout"
        }
      ]
    },
    {
      "cell_type": "code",
      "metadata": {
        "id": "GkwMEHPHIprN",
        "colab_type": "code",
        "outputId": "7e03b424-2f76-4590-eef2-444058f01814",
        "colab": {
          "base_uri": "https://localhost:8080/",
          "height": 238
        }
      },
      "source": [
        "!pip install keras_metrics\n",
        "!pip install tensorboardcolab"
      ],
      "execution_count": 7,
      "outputs": [
        {
          "output_type": "stream",
          "text": [
            "Collecting keras_metrics\n",
            "  Downloading https://files.pythonhosted.org/packages/32/c9/a87420da8e73de944e63a8e9cdcfb1f03ca31a7c4cdcdbd45d2cdf13275a/keras_metrics-1.1.0-py2.py3-none-any.whl\n",
            "Requirement already satisfied: Keras>=2.1.5 in /usr/local/lib/python3.6/dist-packages (from keras_metrics) (2.2.5)\n",
            "Requirement already satisfied: keras-applications>=1.0.8 in /usr/local/lib/python3.6/dist-packages (from Keras>=2.1.5->keras_metrics) (1.0.8)\n",
            "Requirement already satisfied: six>=1.9.0 in /usr/local/lib/python3.6/dist-packages (from Keras>=2.1.5->keras_metrics) (1.12.0)\n",
            "Requirement already satisfied: numpy>=1.9.1 in /usr/local/lib/python3.6/dist-packages (from Keras>=2.1.5->keras_metrics) (1.17.4)\n",
            "Requirement already satisfied: h5py in /usr/local/lib/python3.6/dist-packages (from Keras>=2.1.5->keras_metrics) (2.8.0)\n",
            "Requirement already satisfied: pyyaml in /usr/local/lib/python3.6/dist-packages (from Keras>=2.1.5->keras_metrics) (3.13)\n",
            "Requirement already satisfied: keras-preprocessing>=1.1.0 in /usr/local/lib/python3.6/dist-packages (from Keras>=2.1.5->keras_metrics) (1.1.0)\n",
            "Requirement already satisfied: scipy>=0.14 in /usr/local/lib/python3.6/dist-packages (from Keras>=2.1.5->keras_metrics) (1.3.3)\n",
            "Installing collected packages: keras-metrics\n",
            "Successfully installed keras-metrics-1.1.0\n",
            "Requirement already satisfied: tensorboardcolab in /usr/local/lib/python3.6/dist-packages (0.0.22)\n"
          ],
          "name": "stdout"
        }
      ]
    },
    {
      "cell_type": "code",
      "metadata": {
        "id": "6zbFQT3SGAGU",
        "colab_type": "code",
        "outputId": "7c92e9da-c737-496e-e83b-b835218fa1f1",
        "colab": {
          "base_uri": "https://localhost:8080/",
          "height": 68
        }
      },
      "source": [
        "!ls"
      ],
      "execution_count": 8,
      "outputs": [
        {
          "output_type": "stream",
          "text": [
            "Colab\t    FinalModels  modelperf  NoteBooks\t      training.py\n",
            "data\t    hot.py\t model.py   Preprocessing.py  Transliteration\n",
            "dataset.py  logs\t models     README.md\n"
          ],
          "name": "stdout"
        }
      ]
    },
    {
      "cell_type": "code",
      "metadata": {
        "id": "TPvS0IOJLdNr",
        "colab_type": "code",
        "outputId": "7e3b0605-84a3-4893-e71c-0f5f5ac6a9d2",
        "colab": {
          "base_uri": "https://localhost:8080/",
          "height": 80
        }
      },
      "source": [
        "import os\n",
        "import keras\n",
        "import io\n",
        "import csv\n",
        "import time\n",
        "import datetime\n",
        "import itertools\n",
        "\n",
        "from keras.preprocessing.text import Tokenizer \n",
        "from keras.preprocessing.sequence import pad_sequences \n",
        "import numpy as np\n",
        "from keras.utils import np_utils\n",
        "from keras.utils import to_categorical\n",
        "from keras.layers import Dropout, SimpleRNN, LSTM, Bidirectional, GRU\n",
        "from keras.layers import BatchNormalization\n",
        "from keras.optimizers import Adam\n",
        "from keras.callbacks import TensorBoard\n",
        "import keras_metrics\n",
        "from keras.utils.vis_utils import plot_model\n",
        "from keras.models import load_model\n",
        "from keras.callbacks import TensorBoard, ModelCheckpoint, EarlyStopping\n",
        "\n",
        "from sklearn.model_selection import cross_val_score\n",
        "from sklearn.model_selection import KFold\n",
        "from sklearn.preprocessing import LabelEncoder\n",
        "from sklearn.pipeline import Pipeline\n",
        "from sklearn.metrics import classification_report\n",
        "from sklearn.metrics import confusion_matrix\n",
        "\n",
        "from keras.models import Sequential\n",
        "from keras.layers import Embedding, Flatten, Dense, Conv1D, MaxPooling1D, GlobalMaxPooling1D \n",
        "import keras.backend as K\n",
        "\n",
        "## Plotly\n",
        "import plotly.offline as py\n",
        "import plotly.graph_objs as go\n",
        "py.init_notebook_mode(connected=True)\n",
        "\n",
        "import pandas as pd\n",
        "import matplotlib.pyplot as plt\n",
        "%matplotlib inline\n",
        "from sklearn.manifold import TSNE\n",
        "import time\n",
        "\n",
        "from tensorboardcolab import TensorBoardColab, TensorBoardColabCallback\n"
      ],
      "execution_count": 9,
      "outputs": [
        {
          "output_type": "stream",
          "text": [
            "Using TensorFlow backend.\n"
          ],
          "name": "stderr"
        },
        {
          "output_type": "display_data",
          "data": {
            "text/html": [
              "<p style=\"color: red;\">\n",
              "The default version of TensorFlow in Colab will soon switch to TensorFlow 2.x.<br>\n",
              "We recommend you <a href=\"https://www.tensorflow.org/guide/migrate\" target=\"_blank\">upgrade</a> now \n",
              "or ensure your notebook will continue to use TensorFlow 1.x via the <code>%tensorflow_version 1.x</code> magic:\n",
              "<a href=\"https://colab.research.google.com/notebooks/tensorflow_version.ipynb\" target=\"_blank\">more info</a>.</p>\n"
            ],
            "text/plain": [
              "<IPython.core.display.HTML object>"
            ]
          },
          "metadata": {
            "tags": []
          }
        },
        {
          "output_type": "display_data",
          "data": {
            "text/html": [
              "        <script type=\"text/javascript\">\n",
              "        window.PlotlyConfig = {MathJaxConfig: 'local'};\n",
              "        if (window.MathJax) {MathJax.Hub.Config({SVG: {font: \"STIX-Web\"}});}\n",
              "        if (typeof require !== 'undefined') {\n",
              "        require.undef(\"plotly\");\n",
              "        requirejs.config({\n",
              "            paths: {\n",
              "                'plotly': ['https://cdn.plot.ly/plotly-latest.min']\n",
              "            }\n",
              "        });\n",
              "        require(['plotly'], function(Plotly) {\n",
              "            window._Plotly = Plotly;\n",
              "        });\n",
              "        }\n",
              "        </script>\n",
              "        "
            ]
          },
          "metadata": {
            "tags": []
          }
        }
      ]
    },
    {
      "cell_type": "code",
      "metadata": {
        "id": "3Jl0FXvMLe3G",
        "colab_type": "code",
        "outputId": "78836c72-e0f4-443f-8ee4-2c0bc34adadb",
        "colab": {
          "base_uri": "https://localhost:8080/",
          "height": 357
        }
      },
      "source": [
        "!wget http://nlp.stanford.edu/data/glove.6B.zip"
      ],
      "execution_count": 10,
      "outputs": [
        {
          "output_type": "stream",
          "text": [
            "--2019-12-09 02:06:01--  http://nlp.stanford.edu/data/glove.6B.zip\n",
            "Resolving nlp.stanford.edu (nlp.stanford.edu)... 171.64.67.140\n",
            "Connecting to nlp.stanford.edu (nlp.stanford.edu)|171.64.67.140|:80... connected.\n",
            "HTTP request sent, awaiting response... 302 Found\n",
            "Location: https://nlp.stanford.edu/data/glove.6B.zip [following]\n",
            "--2019-12-09 02:06:01--  https://nlp.stanford.edu/data/glove.6B.zip\n",
            "Connecting to nlp.stanford.edu (nlp.stanford.edu)|171.64.67.140|:443... connected.\n",
            "HTTP request sent, awaiting response... 301 Moved Permanently\n",
            "Location: http://downloads.cs.stanford.edu/nlp/data/glove.6B.zip [following]\n",
            "--2019-12-09 02:06:01--  http://downloads.cs.stanford.edu/nlp/data/glove.6B.zip\n",
            "Resolving downloads.cs.stanford.edu (downloads.cs.stanford.edu)... 171.64.64.22\n",
            "Connecting to downloads.cs.stanford.edu (downloads.cs.stanford.edu)|171.64.64.22|:80... connected.\n",
            "HTTP request sent, awaiting response... 200 OK\n",
            "Length: 862182613 (822M) [application/zip]\n",
            "Saving to: ‘glove.6B.zip’\n",
            "\n",
            "glove.6B.zip        100%[===================>] 822.24M  1.92MB/s    in 6m 34s  \n",
            "\n",
            "2019-12-09 02:12:35 (2.09 MB/s) - ‘glove.6B.zip’ saved [862182613/862182613]\n",
            "\n"
          ],
          "name": "stdout"
        }
      ]
    },
    {
      "cell_type": "code",
      "metadata": {
        "id": "NcGIXis6LhbJ",
        "colab_type": "code",
        "outputId": "d1c26bdb-44c9-4c53-80b5-8f6bcc115a79",
        "colab": {
          "base_uri": "https://localhost:8080/",
          "height": 102
        }
      },
      "source": [
        "!unzip glove*.zip"
      ],
      "execution_count": 11,
      "outputs": [
        {
          "output_type": "stream",
          "text": [
            "Archive:  glove.6B.zip\n",
            "  inflating: glove.6B.50d.txt        \n",
            "  inflating: glove.6B.100d.txt       \n",
            "  inflating: glove.6B.200d.txt       \n",
            "  inflating: glove.6B.300d.txt       \n"
          ],
          "name": "stdout"
        }
      ]
    },
    {
      "cell_type": "code",
      "metadata": {
        "id": "M7wcNu1bLlMJ",
        "colab_type": "code",
        "outputId": "cd77b59d-4338-4228-a502-785788d36cf4",
        "colab": {
          "base_uri": "https://localhost:8080/",
          "height": 85
        }
      },
      "source": [
        "!ls\n"
      ],
      "execution_count": 24,
      "outputs": [
        {
          "output_type": "stream",
          "text": [
            "Colab\t     glove.6B.100d.txt\tglove.6B.zip  model.py\t\tREADME.md\n",
            "data\t     glove.6B.200d.txt\thot.py\t      models\t\ttraining.py\n",
            "dataset.py   glove.6B.300d.txt\tlogs\t      NoteBooks\t\tTransliteration\n",
            "FinalModels  glove.6B.50d.txt\tmodelperf     Preprocessing.py\n"
          ],
          "name": "stdout"
        }
      ]
    },
    {
      "cell_type": "code",
      "metadata": {
        "id": "n0PmNZOSLnq3",
        "colab_type": "code",
        "colab": {}
      },
      "source": [
        "##Set params for the model\n",
        "tensorBoard_logs_dir = '.\\\\logs\\\\'\n",
        "model_dir = '.\\\\models\\\\'\n",
        "glove_dir = 'models\\\\glove'\n",
        "train_dir = 'data/train/'\n",
        "test_dir = 'data/test'\n",
        "dev_dir = 'data/dev/'\n",
        "\n",
        "train_x = 'newtrainMessages.csv'\n",
        "train_y = 'newtrainLabels.csv'\n",
        "\n",
        "dev_x = 'devmessages.csv'\n",
        "dev_y = 'devlabels.csv'\n",
        "\n",
        "dev2_x = 'aug1Devmessages.csv'\n",
        "dev2_y = 'aug1DevLabels.csv'\n",
        "\n",
        "maxlen = 200\n",
        "max_words = 10000\n",
        "num_filters = 64 \n",
        "embedding_dim = 100\n",
        "num_filters = 64 \n",
        "num_classes = 3\n",
        "\n"
      ],
      "execution_count": 0,
      "outputs": []
    },
    {
      "cell_type": "code",
      "metadata": {
        "id": "INGPmkC3MfCz",
        "colab_type": "code",
        "outputId": "e8749177-7a8d-4e21-df1b-b2633e7f776c",
        "colab": {
          "base_uri": "https://localhost:8080/",
          "height": 119
        }
      },
      "source": [
        "traintexts = []\n",
        "trainlabels = []\n",
        "\n",
        "devtexts = []\n",
        "devlabels = []\n",
        "\n",
        "dev2texts = []\n",
        "dev2labels = []\n",
        "\n",
        "\n",
        "with open(os.path.join(train_dir, train_x), newline ='') as messageData:\n",
        "    reader = csv.reader(messageData)\n",
        "    for row in reader:\n",
        "        message = (''.join(row))\n",
        "        traintexts.append(message)\n",
        "\n",
        "with open(os.path.join(train_dir, train_y)) as labelData:\n",
        "    reader = csv.reader(labelData)\n",
        "    for row in reader:\n",
        "        #label = (''.join(row))\n",
        "        trainlabels.append(row)\n",
        "\n",
        "with open(os.path.join(dev_dir, dev_x), newline ='') as messageData:\n",
        "    reader = csv.reader(messageData)\n",
        "    for row in reader:\n",
        "        message = (''.join(row))\n",
        "        devtexts.append(message)\n",
        "\n",
        "with open(os.path.join(dev_dir, dev_y)) as labelData:\n",
        "    reader = csv.reader(labelData)\n",
        "    for row in reader:\n",
        "        #label = (''.join(row))\n",
        "        devlabels.append(row)\n",
        "\n",
        "with open(os.path.join(dev_dir, dev2_x), newline ='') as messageData:\n",
        "    reader = csv.reader(messageData)\n",
        "    for row in reader:\n",
        "        message = (''.join(row))\n",
        "        dev2texts.append(message)\n",
        "\n",
        "with open(os.path.join(dev_dir, dev2_y)) as labelData:\n",
        "    reader = csv.reader(labelData)\n",
        "    for row in reader:\n",
        "        #label = (''.join(row))\n",
        "        dev2labels.append(row)\n",
        "\n",
        "\n",
        "trainlabels = np.squeeze(trainlabels)\n",
        "devlabels = np.squeeze(devlabels)\n",
        "dev2labels = np.squeeze(dev2labels)\n",
        "#testlabels = np.squeeze(testlabels)\n",
        "\n",
        "cp_devlabels = devlabels\n",
        "cp_dev2labels = dev2labels\n",
        "#cp_testlabels = testlabels\n",
        "\n",
        "trainlabels = np_utils.to_categorical(trainlabels, num_classes=num_classes)\n",
        "devlabels = np_utils.to_categorical(devlabels, num_classes=num_classes)\n",
        "dev2labels = np_utils.to_categorical(dev2labels, num_classes=num_classes)\n",
        "#testlabels = np_utils.to_categorical(testlabels, num_classes=num_classes)\n",
        "\n",
        "\n",
        "print('Train labels:', np.sum(trainlabels, axis = 0), int(np.sum(trainlabels)))\n",
        "print('Dev labels:', np.sum(devlabels, axis = 0), int(np.sum(devlabels)))\n",
        "print('Dev2 labels:', np.sum(dev2labels, axis = 0), int(np.sum(dev2labels)))\n",
        "#print('Test labels:', np.sum(testlabels, axis = 0), int(np.sum(testlabels)))\n",
        "\n",
        "print('Train text size:', len(traintexts))\n",
        "print('Dev text size:', len(devtexts))\n",
        "print('Dev2 text size:', len(dev2texts))\n",
        "#print('Test text size:', len(testtexts))\n"
      ],
      "execution_count": 26,
      "outputs": [
        {
          "output_type": "stream",
          "text": [
            "Train labels: [3572. 1638. 2724.] 7934\n",
            "Dev labels: [228.  69. 403.] 700\n",
            "Dev2 labels: [229. 275. 403.] 907\n",
            "Train text size: 7934\n",
            "Dev text size: 700\n",
            "Dev2 text size: 907\n"
          ],
          "name": "stdout"
        }
      ]
    },
    {
      "cell_type": "code",
      "metadata": {
        "id": "svHwfxsL3fPz",
        "colab_type": "code",
        "outputId": "77670d9f-7641-453a-9969-c5feb412bf0b",
        "colab": {
          "base_uri": "https://localhost:8080/",
          "height": 51
        }
      },
      "source": [
        "print(cp_devlabels[0:10])\n",
        "print(cp_dev2labels[0:10])"
      ],
      "execution_count": 27,
      "outputs": [
        {
          "output_type": "stream",
          "text": [
            "['0' '2' '0' '2' '0' '2' '2' '2' '0' '2']\n",
            "['1' '1' '1' '1' '1' '1' '1' '1' '1' '1']\n"
          ],
          "name": "stdout"
        }
      ]
    },
    {
      "cell_type": "code",
      "metadata": {
        "id": "d1H5KEX7Mi28",
        "colab_type": "code",
        "outputId": "d468b166-2f0f-40b4-91d6-d82bb66fadbf",
        "colab": {
          "base_uri": "https://localhost:8080/",
          "height": 54
        }
      },
      "source": [
        "texts = []\n",
        "for t in traintexts:\n",
        "    texts.append(t)\n",
        "for t in devtexts:\n",
        "    texts.append(t)\n",
        "for t in dev2texts:\n",
        "    texts.append(t)\n",
        "    \n",
        "devetexts = []\n",
        "develabels = []\n",
        "\n",
        "'''\n",
        "cp_develabels = []\n",
        "\n",
        "for t in devtexts:\n",
        "    devetexts.append(t)\n",
        "\n",
        "for t in devlabels:\n",
        "    develabels.append(t)\n",
        "#for t in testlabels:\n",
        "#    develabels.append(t)\n",
        "\n",
        "for t in cp_devlabels:\n",
        "    cp_develabels.append(t)\n",
        "#for t in cp_testlabels:\n",
        "#    cp_develabels.append(t)\n",
        "\n",
        "'''\n"
      ],
      "execution_count": 28,
      "outputs": [
        {
          "output_type": "execute_result",
          "data": {
            "text/plain": [
              "'\\ncp_develabels = []\\n\\nfor t in devtexts:\\n    devetexts.append(t)\\n\\nfor t in devlabels:\\n    develabels.append(t)\\n#for t in testlabels:\\n#    develabels.append(t)\\n\\nfor t in cp_devlabels:\\n    cp_develabels.append(t)\\n#for t in cp_testlabels:\\n#    cp_develabels.append(t)\\n\\n'"
            ]
          },
          "metadata": {
            "tags": []
          },
          "execution_count": 28
        }
      ]
    },
    {
      "cell_type": "code",
      "metadata": {
        "id": "-xWJ7TaNMnkL",
        "colab_type": "code",
        "outputId": "9b41b465-9291-4210-a9c2-36c6173ab8e4",
        "colab": {
          "base_uri": "https://localhost:8080/",
          "height": 1000
        }
      },
      "source": [
        "\n",
        "##Tokenizer, Sequencer and padding via Keras\n",
        "###DO NOT RUN THIS\n",
        "np.random.seed(1) \n",
        "\n",
        "#tokenize the data for the maxwords\n",
        "tokenizer = Tokenizer(num_words=max_words)\n",
        "tokenizer.fit_on_texts(texts)\n",
        "\n",
        "#Generate the sequences on texts on the the data by tokenizer\n",
        "trainsequences = tokenizer.texts_to_sequences(traintexts)\n",
        "devsequences = tokenizer.texts_to_sequences(devtexts)\n",
        "dev2sequences = tokenizer.texts_to_sequences(dev2texts)\n",
        "#testsequences = tokenizer.texts_to_sequences(testtexts)\n",
        "#devesequences = tokenizer.texts_to_sequences(devetexts)\n",
        "\n",
        "word_index = tokenizer.word_index\n",
        "print('Found %s unique tokens.'% len(word_index))\n",
        "#print(word_index)\n",
        "#Padding sequences (making them all equal)\n",
        "traindata = pad_sequences(trainsequences, maxlen=maxlen)\n",
        "devdata = pad_sequences(devsequences, maxlen=maxlen)\n",
        "dev2data = pad_sequences(dev2sequences, maxlen=maxlen)\n",
        "#testdata = pad_sequences(testsequences, maxlen=maxlen)\n",
        "#devedata = pad_sequences(devesequences, maxlen=maxlen)\n",
        "\n",
        "print('Train labels before array:', trainlabels[0:10])\n",
        "print('devlabels labels before array:', devlabels[0:10])\n",
        "print('dev2labels labels before array:', dev2labels[0:10])\n",
        "\n",
        "trainlabels = np.asarray(trainlabels)\n",
        "devlabels = np.asarray(devlabels)\n",
        "dev2labels = np.asarray(dev2labels)\n",
        "#testlabels = np.asarray(testlabels)\n",
        "#develabels = np.asarray(develabels)\n",
        "\n",
        "print('Train labels after array:', trainlabels[0:10])\n",
        "print('devlabels labels after array:', devlabels[0:10])\n",
        "print('dev2labels labels after array:', dev2labels[0:10])\n",
        "\n",
        "print('Shape of the train data tensor:' , traindata.shape)\n",
        "print('Shape of the label tensor:' , trainlabels.shape)\n",
        "\n",
        "print('Shape of the dev data tensor:' , devdata.shape)\n",
        "print('Shape of the dev tensor:' , devlabels.shape)\n",
        "\n",
        "print('Shape of the dev2 data tensor:' , dev2data.shape)\n",
        "print('Shape of the dev2 tensor:' , dev2labels.shape)\n",
        "'''\n",
        "print('Shape of the test data tensor:' , testdata.shape)\n",
        "print('Shape of the test tensor:' , testlabels.shape)\n",
        "\n",
        "print('Shape of the Combined Dev tensor:' , devedata.shape)\n",
        "print('Shape of the Combined Dev label tensor:' , develabels.shape)\n",
        "'''\n"
      ],
      "execution_count": 29,
      "outputs": [
        {
          "output_type": "stream",
          "text": [
            "Found 8366 unique tokens.\n",
            "Train labels before array: [[1. 0. 0.]\n",
            " [1. 0. 0.]\n",
            " [1. 0. 0.]\n",
            " [1. 0. 0.]\n",
            " [1. 0. 0.]\n",
            " [1. 0. 0.]\n",
            " [1. 0. 0.]\n",
            " [1. 0. 0.]\n",
            " [1. 0. 0.]\n",
            " [1. 0. 0.]]\n",
            "devlabels labels before array: [[1. 0. 0.]\n",
            " [0. 0. 1.]\n",
            " [1. 0. 0.]\n",
            " [0. 0. 1.]\n",
            " [1. 0. 0.]\n",
            " [0. 0. 1.]\n",
            " [0. 0. 1.]\n",
            " [0. 0. 1.]\n",
            " [1. 0. 0.]\n",
            " [0. 0. 1.]]\n",
            "dev2labels labels before array: [[0. 1. 0.]\n",
            " [0. 1. 0.]\n",
            " [0. 1. 0.]\n",
            " [0. 1. 0.]\n",
            " [0. 1. 0.]\n",
            " [0. 1. 0.]\n",
            " [0. 1. 0.]\n",
            " [0. 1. 0.]\n",
            " [0. 1. 0.]\n",
            " [0. 1. 0.]]\n",
            "Train labels after array: [[1. 0. 0.]\n",
            " [1. 0. 0.]\n",
            " [1. 0. 0.]\n",
            " [1. 0. 0.]\n",
            " [1. 0. 0.]\n",
            " [1. 0. 0.]\n",
            " [1. 0. 0.]\n",
            " [1. 0. 0.]\n",
            " [1. 0. 0.]\n",
            " [1. 0. 0.]]\n",
            "devlabels labels after array: [[1. 0. 0.]\n",
            " [0. 0. 1.]\n",
            " [1. 0. 0.]\n",
            " [0. 0. 1.]\n",
            " [1. 0. 0.]\n",
            " [0. 0. 1.]\n",
            " [0. 0. 1.]\n",
            " [0. 0. 1.]\n",
            " [1. 0. 0.]\n",
            " [0. 0. 1.]]\n",
            "dev2labels labels after array: [[0. 1. 0.]\n",
            " [0. 1. 0.]\n",
            " [0. 1. 0.]\n",
            " [0. 1. 0.]\n",
            " [0. 1. 0.]\n",
            " [0. 1. 0.]\n",
            " [0. 1. 0.]\n",
            " [0. 1. 0.]\n",
            " [0. 1. 0.]\n",
            " [0. 1. 0.]]\n",
            "Shape of the train data tensor: (7934, 200)\n",
            "Shape of the label tensor: (7934, 3)\n",
            "Shape of the dev data tensor: (700, 200)\n",
            "Shape of the dev tensor: (700, 3)\n",
            "Shape of the dev2 data tensor: (907, 200)\n",
            "Shape of the dev2 tensor: (907, 3)\n"
          ],
          "name": "stdout"
        },
        {
          "output_type": "execute_result",
          "data": {
            "text/plain": [
              "\"\\nprint('Shape of the test data tensor:' , testdata.shape)\\nprint('Shape of the test tensor:' , testlabels.shape)\\n\\nprint('Shape of the Combined Dev tensor:' , devedata.shape)\\nprint('Shape of the Combined Dev label tensor:' , develabels.shape)\\n\""
            ]
          },
          "metadata": {
            "tags": []
          },
          "execution_count": 29
        }
      ]
    },
    {
      "cell_type": "code",
      "metadata": {
        "id": "hPUKCAWtNNgp",
        "colab_type": "code",
        "outputId": "c525eeb7-cf3c-4ef6-9d0d-18a9ad165238",
        "colab": {
          "base_uri": "https://localhost:8080/",
          "height": 34
        }
      },
      "source": [
        "np.random.seed(1) \n",
        "embedding_index = {}\n",
        "f = open(os.path.join('glove.6B.200d.txt'), encoding=\"utf8\")\n",
        "\n",
        "for line in f:\n",
        "    values = line.split()\n",
        "    word = values[0]\n",
        "   # print(word)\n",
        "    coefs = np.asarray(values[1:], dtype = 'float32')\n",
        "    embedding_index[word] = coefs\n",
        "f.close()\n",
        "print('Found %s word vectors' % len(embedding_index))"
      ],
      "execution_count": 30,
      "outputs": [
        {
          "output_type": "stream",
          "text": [
            "Found 400000 word vectors\n"
          ],
          "name": "stdout"
        }
      ]
    },
    {
      "cell_type": "code",
      "metadata": {
        "id": "n738cOVtNbjZ",
        "colab_type": "code",
        "outputId": "a8671f7b-2172-4158-caad-9dd835ffd06e",
        "colab": {
          "base_uri": "https://localhost:8080/",
          "height": 34
        }
      },
      "source": [
        "embedding_dim = 200\n",
        "np.random.seed(1) \n",
        "embedding_matrix = np.zeros((max_words, embedding_dim))\n",
        "count = 0 \n",
        "ignored_words = []\n",
        "for word, i in word_index.items():\n",
        "    if i < max_words:\n",
        "        embedding_vector = embedding_index.get(word)\n",
        "        if embedding_vector is not None:\n",
        "            embedding_matrix[i] = embedding_vector\n",
        "        else:\n",
        "            ignored_words.append(word)  \n",
        "            count = count + 1\n",
        "print(embedding_matrix.shape)       \n"
      ],
      "execution_count": 32,
      "outputs": [
        {
          "output_type": "stream",
          "text": [
            "(10000, 200)\n"
          ],
          "name": "stdout"
        }
      ]
    },
    {
      "cell_type": "code",
      "metadata": {
        "id": "Y0aENHi94eDW",
        "colab_type": "code",
        "outputId": "2aaf3d9b-ff37-4f25-9185-c325d43b95db",
        "colab": {
          "base_uri": "https://localhost:8080/",
          "height": 136
        }
      },
      "source": [
        "traindata[0:10]"
      ],
      "execution_count": 33,
      "outputs": [
        {
          "output_type": "execute_result",
          "data": {
            "text/plain": [
              "array([[   0,    0,    0, ..., 1303,   83, 2978],\n",
              "       [   0,    0,    0, ..., 4898,   83, 2978],\n",
              "       [   0,    0,    0, ..., 1303,    6, 2978],\n",
              "       ...,\n",
              "       [   0,    0,    0, ...,    0,   16,   26],\n",
              "       [   0,    0,    0, ...,  887, 2980,  102],\n",
              "       [   0,    0,    0, ..., 2980,  887,  102]], dtype=int32)"
            ]
          },
          "metadata": {
            "tags": []
          },
          "execution_count": 33
        }
      ]
    },
    {
      "cell_type": "code",
      "metadata": {
        "id": "bueBXBWANzkk",
        "colab_type": "code",
        "colab": {}
      },
      "source": [
        "def save_model(model_qualifier, model, location):\n",
        "    model_name = model_qualifier + \"-{}\".format(datetime.date.today()) + \"-{}\".format(time.time())\n",
        "    try:\n",
        "        model.save(os.path.join(location, model_name))\n",
        "        #plot_model(model, to_file=os.path.join(location, model_name)+ '.png')\n",
        "    except:\n",
        "        print(\"Exception occured while saving the model to disc.\")"
      ],
      "execution_count": 0,
      "outputs": []
    },
    {
      "cell_type": "code",
      "metadata": {
        "id": "Q6_ABVHLN2oN",
        "colab_type": "code",
        "colab": {}
      },
      "source": [
        "K.clear_session()\n",
        "%reload_ext tensorboard"
      ],
      "execution_count": 0,
      "outputs": []
    },
    {
      "cell_type": "code",
      "metadata": {
        "id": "NkvDrhvhN45W",
        "colab_type": "code",
        "outputId": "856f17d1-32fb-48c9-9188-c0bf906aad1c",
        "colab": {
          "base_uri": "https://localhost:8080/",
          "height": 680
        }
      },
      "source": [
        "maxlen = 200              # Maximum length of the message/ tweet to be considered\n",
        "max_words = 10000         # vocab length\n",
        "num_filters = 64\n",
        "num_classes = 3\n",
        "num_hidden_lstm = 32\n",
        "num_hidden_rnn_final = 32\n",
        "num_dense_fc = 64\n",
        "recurrent_dropout = 0.2\n",
        "fc_dropout = 0.5\n",
        "cnn_dropout = 0.5\n",
        "kernel_size = 7\n",
        "\n",
        "model = Sequential()\n",
        "model.add(Embedding(max_words, embedding_dim, input_length=maxlen))\n",
        "'''\n",
        "model.add(LSTM(32, recurrent_dropout = 0.2, return_sequences=True))\n",
        "model.add(LSTM(32, recurrent_dropout = 0.2, return_sequences=True))\n",
        "model.add(LSTM(32, recurrent_dropout = 0.2, return_sequences=True))\n",
        "model.add(LSTM(32))\n",
        "\n",
        "model.add(Conv1D(num_filters, kernel_size, activation='relu', padding='same'))\n",
        "model.add(Dropout(cnn_dropout))\n",
        "model.add(MaxPooling1D(2))\n",
        "model.add(Conv1D(num_filters, kernel_size, activation='relu', padding='same'))\n",
        "model.add(Dropout(cnn_dropout))\n",
        "model.add(MaxPooling1D(2))\n",
        "model.add(Conv1D(num_filters, kernel_size, activation='relu', padding='same'))\n",
        "model.add(Dropout(cnn_dropout))\n",
        "model.add(GlobalMaxPooling1D())\n",
        "'''\n",
        "model.add(GRU(num_hidden_lstm, recurrent_dropout=recurrent_dropout, return_sequences=True))\n",
        "model.add(GRU(num_hidden_lstm, recurrent_dropout=recurrent_dropout, return_sequences=True))\n",
        "model.add(GRU(num_hidden_lstm, recurrent_dropout=recurrent_dropout, return_sequences=True))\n",
        "model.add(GRU(num_hidden_rnn_final, recurrent_dropout=recurrent_dropout))\n",
        "#model.add(Dense(num_dense_fc, activation='relu'))\n",
        "#model.add(BatchNormalization())\n",
        "#model.add(Dropout(fc_dropout))\n",
        "#model.add(Dense(num_dense_fc, activation='relu'))\n",
        "#model.add(Dropout(fc_dropout))\n",
        "#model.add(BatchNormalization())\n",
        "model.add(Dense(num_classes, activation='softmax'))\n",
        "model.layers[0].set_weights([embedding_matrix])\n",
        "model.layers[0].trainable = True\n",
        "model_name = \"CodeMixed-Final-EmbFalse-LSTM_32x1_DO-Dense_64x1-Dense_3_Softmax-Model\"\n",
        "model.summary()"
      ],
      "execution_count": 36,
      "outputs": [
        {
          "output_type": "stream",
          "text": [
            "WARNING:tensorflow:From /usr/local/lib/python3.6/dist-packages/keras/backend/tensorflow_backend.py:541: The name tf.placeholder is deprecated. Please use tf.compat.v1.placeholder instead.\n",
            "\n",
            "WARNING:tensorflow:From /usr/local/lib/python3.6/dist-packages/keras/backend/tensorflow_backend.py:4432: The name tf.random_uniform is deprecated. Please use tf.random.uniform instead.\n",
            "\n",
            "WARNING:tensorflow:From /usr/local/lib/python3.6/dist-packages/keras/backend/tensorflow_backend.py:3733: calling dropout (from tensorflow.python.ops.nn_ops) with keep_prob is deprecated and will be removed in a future version.\n",
            "Instructions for updating:\n",
            "Please use `rate` instead of `keep_prob`. Rate should be set to `rate = 1 - keep_prob`.\n",
            "WARNING:tensorflow:From /usr/local/lib/python3.6/dist-packages/keras/backend/tensorflow_backend.py:190: The name tf.get_default_session is deprecated. Please use tf.compat.v1.get_default_session instead.\n",
            "\n",
            "WARNING:tensorflow:From /usr/local/lib/python3.6/dist-packages/keras/backend/tensorflow_backend.py:197: The name tf.ConfigProto is deprecated. Please use tf.compat.v1.ConfigProto instead.\n",
            "\n",
            "WARNING:tensorflow:From /usr/local/lib/python3.6/dist-packages/keras/backend/tensorflow_backend.py:203: The name tf.Session is deprecated. Please use tf.compat.v1.Session instead.\n",
            "\n",
            "WARNING:tensorflow:From /usr/local/lib/python3.6/dist-packages/keras/backend/tensorflow_backend.py:207: The name tf.global_variables is deprecated. Please use tf.compat.v1.global_variables instead.\n",
            "\n",
            "WARNING:tensorflow:From /usr/local/lib/python3.6/dist-packages/keras/backend/tensorflow_backend.py:216: The name tf.is_variable_initialized is deprecated. Please use tf.compat.v1.is_variable_initialized instead.\n",
            "\n",
            "WARNING:tensorflow:From /usr/local/lib/python3.6/dist-packages/keras/backend/tensorflow_backend.py:223: The name tf.variables_initializer is deprecated. Please use tf.compat.v1.variables_initializer instead.\n",
            "\n",
            "Model: \"sequential_1\"\n",
            "_________________________________________________________________\n",
            "Layer (type)                 Output Shape              Param #   \n",
            "=================================================================\n",
            "embedding_1 (Embedding)      (None, 200, 200)          2000000   \n",
            "_________________________________________________________________\n",
            "gru_1 (GRU)                  (None, 200, 32)           22368     \n",
            "_________________________________________________________________\n",
            "gru_2 (GRU)                  (None, 200, 32)           6240      \n",
            "_________________________________________________________________\n",
            "gru_3 (GRU)                  (None, 200, 32)           6240      \n",
            "_________________________________________________________________\n",
            "gru_4 (GRU)                  (None, 32)                6240      \n",
            "_________________________________________________________________\n",
            "dense_1 (Dense)              (None, 3)                 99        \n",
            "=================================================================\n",
            "Total params: 2,041,187\n",
            "Trainable params: 2,041,187\n",
            "Non-trainable params: 0\n",
            "_________________________________________________________________\n"
          ],
          "name": "stdout"
        }
      ]
    },
    {
      "cell_type": "code",
      "metadata": {
        "id": "aGUXf9SCOKDk",
        "colab_type": "code",
        "outputId": "e265ed77-ef8e-40a8-87e8-f404137d97db",
        "colab": {
          "base_uri": "https://localhost:8080/",
          "height": 85
        }
      },
      "source": [
        "optimizer = Adam(lr=0.01, decay=1e-6)\n",
        "model.compile(optimizer=optimizer, loss = 'categorical_crossentropy', metrics=['categorical_accuracy'])"
      ],
      "execution_count": 37,
      "outputs": [
        {
          "output_type": "stream",
          "text": [
            "WARNING:tensorflow:From /usr/local/lib/python3.6/dist-packages/keras/optimizers.py:793: The name tf.train.Optimizer is deprecated. Please use tf.compat.v1.train.Optimizer instead.\n",
            "\n",
            "WARNING:tensorflow:From /usr/local/lib/python3.6/dist-packages/keras/backend/tensorflow_backend.py:3576: The name tf.log is deprecated. Please use tf.math.log instead.\n",
            "\n"
          ],
          "name": "stdout"
        }
      ]
    },
    {
      "cell_type": "code",
      "metadata": {
        "id": "u1f_v9V3OLZb",
        "colab_type": "code",
        "outputId": "592b5782-74c9-4f27-dcce-0d09eae558f1",
        "colab": {
          "base_uri": "https://localhost:8080/",
          "height": 68
        }
      },
      "source": [
        "#callbacks \n",
        "earlystopping = EarlyStopping(monitor='val_loss', mode='min', verbose=1, patience=30, restore_best_weights= True)\n",
        "\n",
        "modelcheckpoint = ModelCheckpoint('models/Best_'+ model_name+ '.h5', monitor='val_loss', mode='min', verbose=1)\n",
        "\n",
        "reduce_lr_plateau = keras.callbacks.ReduceLROnPlateau(monitor='val_loss', factor=0.1, patience=30, verbose=0, mode='auto', min_delta=0.0001, cooldown=0, min_lr=0)\n",
        "tensorboard = TensorBoard(log_dir = tensorBoard_logs_dir + '{}'.format(model_name), \n",
        "                         histogram_freq=1,\n",
        "                         #embeddings_freq=1\n",
        "                         )\n",
        "tbc=TensorBoardColab()"
      ],
      "execution_count": 38,
      "outputs": [
        {
          "output_type": "stream",
          "text": [
            "Wait for 8 seconds...\n",
            "TensorBoard link:\n",
            "http://eac0160b.ngrok.io\n"
          ],
          "name": "stdout"
        }
      ]
    },
    {
      "cell_type": "code",
      "metadata": {
        "id": "zJTYnc0MRDpv",
        "colab_type": "code",
        "colab": {}
      },
      "source": [
        ""
      ],
      "execution_count": 0,
      "outputs": []
    },
    {
      "cell_type": "code",
      "metadata": {
        "id": "56xPQHbhOM7l",
        "colab_type": "code",
        "outputId": "a858c626-0ef4-4966-ab3c-8933b00456ff",
        "colab": {
          "base_uri": "https://localhost:8080/",
          "height": 1000
        }
      },
      "source": [
        "history = model.fit(traindata, trainlabels, epochs = 50, batch_size = 128,validation_split=0.2, callbacks = [tensorboard, earlystopping, reduce_lr_plateau, modelcheckpoint, TensorBoardColabCallback(tbc)])\n",
        "#results = model.evaluate(testdata, testlabels)\n",
        "#print(\"Evaluation results: \", results)\n",
        "#model.save_weights(model_dir + '{}'.format(model_name)+'.h5')\n",
        "save_model(model_name, model, \"models\")"
      ],
      "execution_count": 39,
      "outputs": [
        {
          "output_type": "stream",
          "text": [
            "WARNING:tensorflow:From /usr/local/lib/python3.6/dist-packages/tensorflow_core/python/ops/math_grad.py:1424: where (from tensorflow.python.ops.array_ops) is deprecated and will be removed in a future version.\n",
            "Instructions for updating:\n",
            "Use tf.where in 2.0, which has the same broadcast rule as np.where\n",
            "WARNING:tensorflow:From /usr/local/lib/python3.6/dist-packages/keras/backend/tensorflow_backend.py:1033: The name tf.assign_add is deprecated. Please use tf.compat.v1.assign_add instead.\n",
            "\n",
            "WARNING:tensorflow:From /usr/local/lib/python3.6/dist-packages/keras/backend/tensorflow_backend.py:1020: The name tf.assign is deprecated. Please use tf.compat.v1.assign instead.\n",
            "\n",
            "Train on 6347 samples, validate on 1587 samples\n",
            "WARNING:tensorflow:From /usr/local/lib/python3.6/dist-packages/keras/callbacks.py:1068: The name tf.summary.histogram is deprecated. Please use tf.compat.v1.summary.histogram instead.\n",
            "\n",
            "WARNING:tensorflow:From /usr/local/lib/python3.6/dist-packages/keras/callbacks.py:1122: The name tf.summary.merge_all is deprecated. Please use tf.compat.v1.summary.merge_all instead.\n",
            "\n",
            "WARNING:tensorflow:From /usr/local/lib/python3.6/dist-packages/keras/callbacks.py:1125: The name tf.summary.FileWriter is deprecated. Please use tf.compat.v1.summary.FileWriter instead.\n",
            "\n",
            "Epoch 1/50\n",
            "6347/6347 [==============================] - 86s 14ms/step - loss: 0.4322 - categorical_accuracy: 0.8335 - val_loss: 0.7599 - val_categorical_accuracy: 0.7461\n",
            "WARNING:tensorflow:From /usr/local/lib/python3.6/dist-packages/keras/callbacks.py:1265: The name tf.Summary is deprecated. Please use tf.compat.v1.Summary instead.\n",
            "\n",
            "\n",
            "Epoch 00001: saving model to models/Best_CodeMixed-Final-EmbFalse-LSTM_32x1_DO-Dense_64x1-Dense_3_Softmax-Model.h5\n",
            "Epoch 2/50\n",
            "6347/6347 [==============================] - 83s 13ms/step - loss: 0.0389 - categorical_accuracy: 0.9883 - val_loss: 1.2101 - val_categorical_accuracy: 0.6982\n",
            "\n",
            "Epoch 00002: saving model to models/Best_CodeMixed-Final-EmbFalse-LSTM_32x1_DO-Dense_64x1-Dense_3_Softmax-Model.h5\n",
            "Epoch 3/50\n",
            "6347/6347 [==============================] - 83s 13ms/step - loss: 0.0136 - categorical_accuracy: 0.9959 - val_loss: 1.0295 - val_categorical_accuracy: 0.7782\n",
            "\n",
            "Epoch 00003: saving model to models/Best_CodeMixed-Final-EmbFalse-LSTM_32x1_DO-Dense_64x1-Dense_3_Softmax-Model.h5\n",
            "Epoch 4/50\n",
            "6347/6347 [==============================] - 82s 13ms/step - loss: 0.0067 - categorical_accuracy: 0.9980 - val_loss: 1.2298 - val_categorical_accuracy: 0.7398\n",
            "\n",
            "Epoch 00004: saving model to models/Best_CodeMixed-Final-EmbFalse-LSTM_32x1_DO-Dense_64x1-Dense_3_Softmax-Model.h5\n",
            "Epoch 5/50\n",
            "6347/6347 [==============================] - 82s 13ms/step - loss: 0.0010 - categorical_accuracy: 0.9998 - val_loss: 1.2822 - val_categorical_accuracy: 0.7889\n",
            "\n",
            "Epoch 00005: saving model to models/Best_CodeMixed-Final-EmbFalse-LSTM_32x1_DO-Dense_64x1-Dense_3_Softmax-Model.h5\n",
            "Epoch 6/50\n",
            "6347/6347 [==============================] - 82s 13ms/step - loss: 0.0011 - categorical_accuracy: 0.9998 - val_loss: 1.1922 - val_categorical_accuracy: 0.8003\n",
            "\n",
            "Epoch 00006: saving model to models/Best_CodeMixed-Final-EmbFalse-LSTM_32x1_DO-Dense_64x1-Dense_3_Softmax-Model.h5\n",
            "Epoch 7/50\n",
            "6347/6347 [==============================] - 81s 13ms/step - loss: 2.7392e-04 - categorical_accuracy: 1.0000 - val_loss: 1.7666 - val_categorical_accuracy: 0.7209\n",
            "\n",
            "Epoch 00007: saving model to models/Best_CodeMixed-Final-EmbFalse-LSTM_32x1_DO-Dense_64x1-Dense_3_Softmax-Model.h5\n",
            "Epoch 8/50\n",
            "6347/6347 [==============================] - 80s 13ms/step - loss: 2.7001e-04 - categorical_accuracy: 1.0000 - val_loss: 1.4433 - val_categorical_accuracy: 0.7820\n",
            "\n",
            "Epoch 00008: saving model to models/Best_CodeMixed-Final-EmbFalse-LSTM_32x1_DO-Dense_64x1-Dense_3_Softmax-Model.h5\n",
            "Epoch 9/50\n",
            "6347/6347 [==============================] - 80s 13ms/step - loss: 8.6823e-05 - categorical_accuracy: 1.0000 - val_loss: 1.5239 - val_categorical_accuracy: 0.7782\n",
            "\n",
            "Epoch 00009: saving model to models/Best_CodeMixed-Final-EmbFalse-LSTM_32x1_DO-Dense_64x1-Dense_3_Softmax-Model.h5\n",
            "Epoch 10/50\n",
            "6347/6347 [==============================] - 82s 13ms/step - loss: 6.3108e-05 - categorical_accuracy: 1.0000 - val_loss: 1.5445 - val_categorical_accuracy: 0.7776\n",
            "\n",
            "Epoch 00010: saving model to models/Best_CodeMixed-Final-EmbFalse-LSTM_32x1_DO-Dense_64x1-Dense_3_Softmax-Model.h5\n",
            "Epoch 11/50\n",
            "6347/6347 [==============================] - 80s 13ms/step - loss: 5.1007e-05 - categorical_accuracy: 1.0000 - val_loss: 1.5752 - val_categorical_accuracy: 0.7769\n",
            "\n",
            "Epoch 00011: saving model to models/Best_CodeMixed-Final-EmbFalse-LSTM_32x1_DO-Dense_64x1-Dense_3_Softmax-Model.h5\n",
            "Epoch 12/50\n",
            "6347/6347 [==============================] - 80s 13ms/step - loss: 4.4775e-05 - categorical_accuracy: 1.0000 - val_loss: 1.5977 - val_categorical_accuracy: 0.7763\n",
            "\n",
            "Epoch 00012: saving model to models/Best_CodeMixed-Final-EmbFalse-LSTM_32x1_DO-Dense_64x1-Dense_3_Softmax-Model.h5\n",
            "Epoch 13/50\n",
            "6347/6347 [==============================] - 82s 13ms/step - loss: 3.8721e-05 - categorical_accuracy: 1.0000 - val_loss: 1.6173 - val_categorical_accuracy: 0.7782\n",
            "\n",
            "Epoch 00013: saving model to models/Best_CodeMixed-Final-EmbFalse-LSTM_32x1_DO-Dense_64x1-Dense_3_Softmax-Model.h5\n",
            "Epoch 14/50\n",
            "6347/6347 [==============================] - 80s 13ms/step - loss: 3.3612e-05 - categorical_accuracy: 1.0000 - val_loss: 1.6350 - val_categorical_accuracy: 0.7769\n",
            "\n",
            "Epoch 00014: saving model to models/Best_CodeMixed-Final-EmbFalse-LSTM_32x1_DO-Dense_64x1-Dense_3_Softmax-Model.h5\n",
            "Epoch 15/50\n",
            "6347/6347 [==============================] - 82s 13ms/step - loss: 2.9377e-05 - categorical_accuracy: 1.0000 - val_loss: 1.6521 - val_categorical_accuracy: 0.7782\n",
            "\n",
            "Epoch 00015: saving model to models/Best_CodeMixed-Final-EmbFalse-LSTM_32x1_DO-Dense_64x1-Dense_3_Softmax-Model.h5\n",
            "Epoch 16/50\n",
            "6347/6347 [==============================] - 82s 13ms/step - loss: 2.7112e-05 - categorical_accuracy: 1.0000 - val_loss: 1.6679 - val_categorical_accuracy: 0.7763\n",
            "\n",
            "Epoch 00016: saving model to models/Best_CodeMixed-Final-EmbFalse-LSTM_32x1_DO-Dense_64x1-Dense_3_Softmax-Model.h5\n",
            "Epoch 17/50\n",
            "6347/6347 [==============================] - 81s 13ms/step - loss: 2.4456e-05 - categorical_accuracy: 1.0000 - val_loss: 1.6784 - val_categorical_accuracy: 0.7776\n",
            "\n",
            "Epoch 00017: saving model to models/Best_CodeMixed-Final-EmbFalse-LSTM_32x1_DO-Dense_64x1-Dense_3_Softmax-Model.h5\n",
            "Epoch 18/50\n",
            "6347/6347 [==============================] - 87s 14ms/step - loss: 2.1876e-05 - categorical_accuracy: 1.0000 - val_loss: 1.6935 - val_categorical_accuracy: 0.7757\n",
            "\n",
            "Epoch 00018: saving model to models/Best_CodeMixed-Final-EmbFalse-LSTM_32x1_DO-Dense_64x1-Dense_3_Softmax-Model.h5\n",
            "Epoch 19/50\n",
            "6347/6347 [==============================] - 84s 13ms/step - loss: 1.9576e-05 - categorical_accuracy: 1.0000 - val_loss: 1.7101 - val_categorical_accuracy: 0.7757\n",
            "\n",
            "Epoch 00019: saving model to models/Best_CodeMixed-Final-EmbFalse-LSTM_32x1_DO-Dense_64x1-Dense_3_Softmax-Model.h5\n",
            "Epoch 20/50\n",
            "6347/6347 [==============================] - 85s 13ms/step - loss: 1.8149e-05 - categorical_accuracy: 1.0000 - val_loss: 1.7235 - val_categorical_accuracy: 0.7757\n",
            "\n",
            "Epoch 00020: saving model to models/Best_CodeMixed-Final-EmbFalse-LSTM_32x1_DO-Dense_64x1-Dense_3_Softmax-Model.h5\n",
            "Epoch 21/50\n",
            "6347/6347 [==============================] - 84s 13ms/step - loss: 1.6471e-05 - categorical_accuracy: 1.0000 - val_loss: 1.7385 - val_categorical_accuracy: 0.7750\n",
            "\n",
            "Epoch 00021: saving model to models/Best_CodeMixed-Final-EmbFalse-LSTM_32x1_DO-Dense_64x1-Dense_3_Softmax-Model.h5\n",
            "Epoch 22/50\n",
            "6347/6347 [==============================] - 85s 13ms/step - loss: 1.6683e-05 - categorical_accuracy: 1.0000 - val_loss: 1.7506 - val_categorical_accuracy: 0.7750\n",
            "\n",
            "Epoch 00022: saving model to models/Best_CodeMixed-Final-EmbFalse-LSTM_32x1_DO-Dense_64x1-Dense_3_Softmax-Model.h5\n",
            "Epoch 23/50\n",
            "6347/6347 [==============================] - 84s 13ms/step - loss: 1.4711e-05 - categorical_accuracy: 1.0000 - val_loss: 1.7624 - val_categorical_accuracy: 0.7750\n",
            "\n",
            "Epoch 00023: saving model to models/Best_CodeMixed-Final-EmbFalse-LSTM_32x1_DO-Dense_64x1-Dense_3_Softmax-Model.h5\n",
            "Epoch 24/50\n",
            "6347/6347 [==============================] - 88s 14ms/step - loss: 1.3009e-05 - categorical_accuracy: 1.0000 - val_loss: 1.7759 - val_categorical_accuracy: 0.7750\n",
            "\n",
            "Epoch 00024: saving model to models/Best_CodeMixed-Final-EmbFalse-LSTM_32x1_DO-Dense_64x1-Dense_3_Softmax-Model.h5\n",
            "Epoch 25/50\n",
            "6347/6347 [==============================] - 85s 13ms/step - loss: 1.2812e-05 - categorical_accuracy: 1.0000 - val_loss: 1.7987 - val_categorical_accuracy: 0.7732\n",
            "\n",
            "Epoch 00025: saving model to models/Best_CodeMixed-Final-EmbFalse-LSTM_32x1_DO-Dense_64x1-Dense_3_Softmax-Model.h5\n",
            "Epoch 26/50\n",
            "6347/6347 [==============================] - 89s 14ms/step - loss: 1.2083e-05 - categorical_accuracy: 1.0000 - val_loss: 1.8157 - val_categorical_accuracy: 0.7725\n",
            "\n",
            "Epoch 00026: saving model to models/Best_CodeMixed-Final-EmbFalse-LSTM_32x1_DO-Dense_64x1-Dense_3_Softmax-Model.h5\n",
            "Epoch 27/50\n",
            "6347/6347 [==============================] - 87s 14ms/step - loss: 1.1117e-05 - categorical_accuracy: 1.0000 - val_loss: 1.8250 - val_categorical_accuracy: 0.7725\n",
            "\n",
            "Epoch 00027: saving model to models/Best_CodeMixed-Final-EmbFalse-LSTM_32x1_DO-Dense_64x1-Dense_3_Softmax-Model.h5\n",
            "Epoch 28/50\n",
            "6347/6347 [==============================] - 90s 14ms/step - loss: 1.0052e-05 - categorical_accuracy: 1.0000 - val_loss: 1.8340 - val_categorical_accuracy: 0.7725\n",
            "\n",
            "Epoch 00028: saving model to models/Best_CodeMixed-Final-EmbFalse-LSTM_32x1_DO-Dense_64x1-Dense_3_Softmax-Model.h5\n",
            "Epoch 29/50\n",
            "6347/6347 [==============================] - 89s 14ms/step - loss: 9.7315e-06 - categorical_accuracy: 1.0000 - val_loss: 1.8423 - val_categorical_accuracy: 0.7732\n",
            "\n",
            "Epoch 00029: saving model to models/Best_CodeMixed-Final-EmbFalse-LSTM_32x1_DO-Dense_64x1-Dense_3_Softmax-Model.h5\n",
            "Epoch 30/50\n",
            "6347/6347 [==============================] - 88s 14ms/step - loss: 9.0527e-06 - categorical_accuracy: 1.0000 - val_loss: 1.8551 - val_categorical_accuracy: 0.7732\n",
            "\n",
            "Epoch 00030: saving model to models/Best_CodeMixed-Final-EmbFalse-LSTM_32x1_DO-Dense_64x1-Dense_3_Softmax-Model.h5\n",
            "Epoch 31/50\n",
            "6347/6347 [==============================] - 88s 14ms/step - loss: 8.4888e-06 - categorical_accuracy: 1.0000 - val_loss: 1.8651 - val_categorical_accuracy: 0.7732\n",
            "Restoring model weights from the end of the best epoch\n",
            "\n",
            "Epoch 00031: saving model to models/Best_CodeMixed-Final-EmbFalse-LSTM_32x1_DO-Dense_64x1-Dense_3_Softmax-Model.h5\n",
            "Epoch 00031: early stopping\n"
          ],
          "name": "stdout"
        }
      ]
    },
    {
      "cell_type": "code",
      "metadata": {
        "id": "SthYhTiUGdJX",
        "colab_type": "code",
        "outputId": "d1b80377-53eb-41da-c0bb-2e4432f34cf4",
        "colab": {
          "base_uri": "https://localhost:8080/",
          "height": 129
        }
      },
      "source": [
        "\n",
        "\n",
        "\\beginhistory.history.items()\n",
        "models/Best_CodeMixed-Final-Emb-BiLSTM_32x2_DO-Dense_64x2-Dense_3_Softmax-Model.h5"
      ],
      "execution_count": 40,
      "outputs": [
        {
          "output_type": "error",
          "ename": "SyntaxError",
          "evalue": "ignored",
          "traceback": [
            "\u001b[0;36m  File \u001b[0;32m\"<ipython-input-40-9f7d310c9519>\"\u001b[0;36m, line \u001b[0;32m3\u001b[0m\n\u001b[0;31m    \\beginhistory.history.items()\u001b[0m\n\u001b[0m                                 ^\u001b[0m\n\u001b[0;31mSyntaxError\u001b[0m\u001b[0;31m:\u001b[0m unexpected character after line continuation character\n"
          ]
        }
      ]
    },
    {
      "cell_type": "code",
      "metadata": {
        "id": "mV4tqLShofYy",
        "colab_type": "code",
        "outputId": "9f7c50a1-7eb8-4a15-c383-a53722dea201",
        "colab": {
          "base_uri": "https://localhost:8080/",
          "height": 255
        }
      },
      "source": [
        "print('Loading model: ', 'models/Best_'+ model_name+ '.h5')\n",
        "Bestmodel = load_model('models/Best_'+ model_name+ '.h5')\n",
        "y_pred = Bestmodel.predict_classes(devdata, batch_size=64, verbose=1)\n",
        "print((y_pred[0:30]))\n",
        "dev_labels = [int(label) for label in cp_devlabels]\n",
        "print(np.asarray(dev_labels[0:30]))\n",
        "print(classification_report(dev_labels, y_pred))"
      ],
      "execution_count": 41,
      "outputs": [
        {
          "output_type": "stream",
          "text": [
            "Loading model:  models/Best_CodeMixed-Final-EmbFalse-LSTM_32x1_DO-Dense_64x1-Dense_3_Softmax-Model.h5\n",
            "700/700 [==============================] - 7s 11ms/step\n",
            "[0 2 0 2 1 2 1 2 0 2 0 2 1 0 2 0 2 0 0 2 0 2 2 2 1 2 1 2 2 0]\n",
            "[0 2 0 2 0 2 2 2 0 2 0 2 0 0 2 2 2 0 0 2 0 2 2 2 0 2 1 2 1 0]\n",
            "              precision    recall  f1-score   support\n",
            "\n",
            "           0       0.67      0.82      0.74       228\n",
            "           1       0.58      0.45      0.51        69\n",
            "           2       0.88      0.80      0.84       403\n",
            "\n",
            "    accuracy                           0.77       700\n",
            "   macro avg       0.71      0.69      0.70       700\n",
            "weighted avg       0.78      0.77      0.77       700\n",
            "\n"
          ],
          "name": "stdout"
        }
      ]
    },
    {
      "cell_type": "code",
      "metadata": {
        "id": "HrnWjCiFUhhE",
        "colab_type": "code",
        "outputId": "78585c9f-81a6-4d33-e034-c278b998a6bc",
        "colab": {
          "base_uri": "https://localhost:8080/",
          "height": 255
        }
      },
      "source": [
        "y_pred = Bestmodel.predict_classes(dev2data, batch_size=64, verbose=1)\n",
        "print((y_pred[0:30]))\n",
        "dev2_labels = [int(label) for label in cp_dev2labels]\n",
        "print(np.asarray(dev2_labels[0:60]))\n",
        "print(classification_report(dev2_labels, y_pred))"
      ],
      "execution_count": 0,
      "outputs": [
        {
          "output_type": "stream",
          "text": [
            "907/907 [==============================] - 1s 1ms/step\n",
            "[1 1 1 1 1 1 1 1 1 1 1 1 1 1 1 1 2 2 2 2 1 1 1 1 0 0 0 0 0 0]\n",
            "[1 1 1 1 1 1 1 1 1 1 1 1 1 1 1 1 1 1 1 1 1 1 1 1 1 1 1 1 1 1 1 1 1 1 1 1 1\n",
            " 1 1 1 1 1 1 1 1 1 1 1 1 1 1 1 1 1 1 1 1 1 1 1]\n",
            "              precision    recall  f1-score   support\n",
            "\n",
            "           0       0.53      0.70      0.60       229\n",
            "           1       0.79      0.54      0.64       275\n",
            "           2       0.74      0.77      0.76       403\n",
            "\n",
            "    accuracy                           0.68       907\n",
            "   macro avg       0.69      0.67      0.67       907\n",
            "weighted avg       0.70      0.68      0.68       907\n",
            "\n"
          ],
          "name": "stdout"
        }
      ]
    },
    {
      "cell_type": "code",
      "metadata": {
        "id": "76bBjDp8Pufc",
        "colab_type": "code",
        "outputId": "9daffac2-1f1f-464f-9bb6-1110dc268f21",
        "colab": {
          "base_uri": "https://localhost:8080/",
          "height": 562
        }
      },
      "source": [
        "#print(\"Evaluation results: \", results)\n",
        "acc = history.history['categorical_accuracy']\n",
        "val_acc = history.history['val_categorical_accuracy']\n",
        "loss = history.history['loss']\n",
        "val_loss = history.history['val_loss']\n",
        "\n",
        "epochs = range(1, len(acc)+1)\n",
        "\n",
        "plt.plot(epochs, acc, 'bo', label ='Training acc')\n",
        "plt.plot(epochs, val_acc, 'b', label ='Validation acc')\n",
        "plt.title(\"Training and validation accuracy\")\n",
        "plt.legend()\n",
        "plt.figure()\n",
        "\n",
        "plt.plot(epochs, loss, 'bo', label ='Training Loss')\n",
        "plt.plot(epochs, val_loss, 'b', label ='Validation Loss')\n",
        "plt.title(\"Training and validation Losses\")\n",
        "plt.legend()\n",
        "plt.figure()\n",
        "\n",
        "plt.show()"
      ],
      "execution_count": 42,
      "outputs": [
        {
          "output_type": "display_data",
          "data": {
            "image/png": "[encoded data removed]",
            "text/plain": [
              "<Figure size 432x288 with 1 Axes>"
            ]
          },
          "metadata": {
            "tags": []
          }
        },
        {
          "output_type": "display_data",
          "data": {
            "image/png": "[encoded data removed]",
            "text/plain": [
              "<Figure size 432x288 with 1 Axes>"
            ]
          },
          "metadata": {
            "tags": []
          }
        },
        {
          "output_type": "display_data",
          "data": {
            "text/plain": [
              "<Figure size 432x288 with 0 Axes>"
            ]
          },
          "metadata": {
            "tags": []
          }
        }
      ]
    },
    {
      "cell_type": "code",
      "metadata": {
        "id": "vKctc6cPUsb9",
        "colab_type": "code",
        "outputId": "11b377ea-9935-4557-fa5f-08fb0a9b9f26",
        "colab": {
          "base_uri": "https://localhost:8080/",
          "height": 17
        }
      },
      "source": [
        "%tensorboard --logdir tensorBoard_logs_dir"
      ],
      "execution_count": 0,
      "outputs": [
        {
          "output_type": "display_data",
          "data": {
            "text/html": [
              "\n",
              "    <div id=\"root\"></div>\n",
              "    <script>\n",
              "      (function() {\n",
              "        window.TENSORBOARD_ENV = window.TENSORBOARD_ENV || {};\n",
              "        window.TENSORBOARD_ENV[\"IN_COLAB\"] = true;\n",
              "        document.querySelector(\"base\").href = \"https://localhost:6007\";\n",
              "        function fixUpTensorboard(root) {\n",
              "          const tftb = root.querySelector(\"tf-tensorboard\");\n",
              "          // Disable the fragment manipulation behavior in Colab. Not\n",
              "          // only is the behavior not useful (as the iframe's location\n",
              "          // is not visible to the user), it causes TensorBoard's usage\n",
              "          // of `window.replace` to navigate away from the page and to\n",
              "          // the `localhost:<port>` URL specified by the base URI, which\n",
              "          // in turn causes the frame to (likely) crash.\n",
              "          tftb.removeAttribute(\"use-hash\");\n",
              "        }\n",
              "        function executeAllScripts(root) {\n",
              "          // When `script` elements are inserted into the DOM by\n",
              "          // assigning to an element's `innerHTML`, the scripts are not\n",
              "          // executed. Thus, we manually re-insert these scripts so that\n",
              "          // TensorBoard can initialize itself.\n",
              "          for (const script of root.querySelectorAll(\"script\")) {\n",
              "            const newScript = document.createElement(\"script\");\n",
              "            newScript.type = script.type;\n",
              "            newScript.textContent = script.textContent;\n",
              "            root.appendChild(newScript);\n",
              "            script.remove();\n",
              "          }\n",
              "        }\n",
              "        function setHeight(root, height) {\n",
              "          // We set the height dynamically after the TensorBoard UI has\n",
              "          // been initialized. This avoids an intermediate state in\n",
              "          // which the container plus the UI become taller than the\n",
              "          // final width and cause the Colab output frame to be\n",
              "          // permanently resized, eventually leading to an empty\n",
              "          // vertical gap below the TensorBoard UI. It's not clear\n",
              "          // exactly what causes this problematic intermediate state,\n",
              "          // but setting the height late seems to fix it.\n",
              "          root.style.height = `${height}px`;\n",
              "        }\n",
              "        const root = document.getElementById(\"root\");\n",
              "        fetch(\".\")\n",
              "          .then((x) => x.text())\n",
              "          .then((html) => void (root.innerHTML = html))\n",
              "          .then(() => fixUpTensorboard(root))\n",
              "          .then(() => executeAllScripts(root))\n",
              "          .then(() => setHeight(root, 800));\n",
              "      })();\n",
              "    </script>\n",
              "  "
            ],
            "text/plain": [
              "<IPython.core.display.HTML object>"
            ]
          },
          "metadata": {
            "tags": []
          }
        }
      ]
    },
    {
      "cell_type": "code",
      "metadata": {
        "id": "YpW_QXPoQX9n",
        "colab_type": "code",
        "colab": {}
      },
      "source": [
        "cnf_matrix = confusion_matrix(dev_labels, y_pred)"
      ],
      "execution_count": 0,
      "outputs": []
    },
    {
      "cell_type": "code",
      "metadata": {
        "id": "uAlqKu-SVGeN",
        "colab_type": "code",
        "outputId": "f8427a33-0c17-4154-959e-160e36c0e262",
        "colab": {
          "base_uri": "https://localhost:8080/",
          "height": 68
        }
      },
      "source": [
        "cnf_matrix"
      ],
      "execution_count": 0,
      "outputs": [
        {
          "output_type": "execute_result",
          "data": {
            "text/plain": [
              "array([[257,   4,   1],\n",
              "       [  0,  74,   1],\n",
              "       [  0,   1, 451]])"
            ]
          },
          "metadata": {
            "tags": []
          },
          "execution_count": 129
        }
      ]
    },
    {
      "cell_type": "code",
      "metadata": {
        "id": "asV4VpBiVNld",
        "colab_type": "code",
        "outputId": "5f0c720b-82aa-472a-f64b-47899eb1806b",
        "colab": {
          "base_uri": "https://localhost:8080/",
          "height": 248
        }
      },
      "source": [
        "plt.figure()\n",
        "plot_confusion_matrix(cnf_matrix, classes=['0','1','2'],\n",
        "                      title='Confusion matrix, without normalization')\n",
        "\n",
        "# Plot normalized confusion matrix\n",
        "#plt.figure()\n",
        "#plot_confusion_matrix(cnf_matrix, classes=['0','1','2'], normalize=True,                      title='Normalized confusion matrix')\n",
        "\n",
        "plt.show()"
      ],
      "execution_count": 44,
      "outputs": [
        {
          "output_type": "error",
          "ename": "NameError",
          "evalue": "ignored",
          "traceback": [
            "\u001b[0;31m---------------------------------------------------------------------------\u001b[0m",
            "\u001b[0;31mNameError\u001b[0m                                 Traceback (most recent call last)",
            "\u001b[0;32m<ipython-input-44-4902da034afb>\u001b[0m in \u001b[0;36m<module>\u001b[0;34m()\u001b[0m\n\u001b[1;32m      1\u001b[0m \u001b[0mplt\u001b[0m\u001b[0;34m.\u001b[0m\u001b[0mfigure\u001b[0m\u001b[0;34m(\u001b[0m\u001b[0;34m)\u001b[0m\u001b[0;34m\u001b[0m\u001b[0;34m\u001b[0m\u001b[0m\n\u001b[0;32m----> 2\u001b[0;31m plot_confusion_matrix(cnf_matrix, classes=['0','1','2'],\n\u001b[0m\u001b[1;32m      3\u001b[0m                       title='Confusion matrix, without normalization')\n\u001b[1;32m      4\u001b[0m \u001b[0;34m\u001b[0m\u001b[0m\n\u001b[1;32m      5\u001b[0m \u001b[0;31m# Plot normalized confusion matrix\u001b[0m\u001b[0;34m\u001b[0m\u001b[0;34m\u001b[0m\u001b[0;34m\u001b[0m\u001b[0m\n",
            "\u001b[0;31mNameError\u001b[0m: name 'cnf_matrix' is not defined"
          ]
        },
        {
          "output_type": "display_data",
          "data": {
            "text/plain": [
              "<Figure size 432x288 with 0 Axes>"
            ]
          },
          "metadata": {
            "tags": []
          }
        }
      ]
    },
    {
      "cell_type": "code",
      "metadata": {
        "id": "AxhDdlMWZMlq",
        "colab_type": "code",
        "outputId": "4f1799ba-a711-47bc-94c2-2891656dd20c",
        "colab": {
          "base_uri": "https://localhost:8080/",
          "height": 231
        }
      },
      "source": [
        "plt.figure()\n",
        "plot_confusion_matrix(cnf_matrix, classes=['0','1','2'], normalize=True,\n",
        "                      title='Normalized confusion matrix')\n",
        "\n",
        "plt.show()"
      ],
      "execution_count": 1,
      "outputs": [
        {
          "output_type": "error",
          "ename": "NameError",
          "evalue": "ignored",
          "traceback": [
            "\u001b[0;31m---------------------------------------------------------------------------\u001b[0m",
            "\u001b[0;31mNameError\u001b[0m                                 Traceback (most recent call last)",
            "\u001b[0;32m<ipython-input-1-2e6efe67a348>\u001b[0m in \u001b[0;36m<module>\u001b[0;34m()\u001b[0m\n\u001b[0;32m----> 1\u001b[0;31m \u001b[0mplt\u001b[0m\u001b[0;34m.\u001b[0m\u001b[0mfigure\u001b[0m\u001b[0;34m(\u001b[0m\u001b[0;34m)\u001b[0m\u001b[0;34m\u001b[0m\u001b[0;34m\u001b[0m\u001b[0m\n\u001b[0m\u001b[1;32m      2\u001b[0m plot_confusion_matrix(cnf_matrix, classes=['0','1','2'], normalize=True,\n\u001b[1;32m      3\u001b[0m                       title='Normalized confusion matrix')\n\u001b[1;32m      4\u001b[0m \u001b[0;34m\u001b[0m\u001b[0m\n\u001b[1;32m      5\u001b[0m \u001b[0mplt\u001b[0m\u001b[0;34m.\u001b[0m\u001b[0mshow\u001b[0m\u001b[0;34m(\u001b[0m\u001b[0;34m)\u001b[0m\u001b[0;34m\u001b[0m\u001b[0;34m\u001b[0m\u001b[0m\n",
            "\u001b[0;31mNameError\u001b[0m: name 'plt' is not defined"
          ]
        }
      ]
    },
    {
      "cell_type": "code",
      "metadata": {
        "id": "APNDIg-oVTKO",
        "colab_type": "code",
        "colab": {}
      },
      "source": [
        "def plot_confusion_matrix(cm, classes,\n",
        "                          normalize=False,\n",
        "                          title='Confusion matrix',\n",
        "                          cmap=plt.cm.Blues):\n",
        "    \"\"\"\n",
        "    This function prints and plots the confusion matrix.\n",
        "    Normalization can be applied by setting `normalize=True`.\n",
        "    \"\"\"\n",
        "    plt.imshow(cm, interpolation='nearest', cmap=cmap)\n",
        "    plt.title(title)\n",
        "    plt.colorbar()\n",
        "    tick_marks = np.arange(len(classes))\n",
        "    plt.xticks(tick_marks, classes, rotation=45)\n",
        "    plt.yticks(tick_marks, classes)\n",
        "\n",
        "    if normalize:\n",
        "        cm = cm.astype('float') / cm.sum(axis=1)[:, np.newaxis]\n",
        "        print(\"Normalized confusion matrix\")\n",
        "    else:\n",
        "        print('Confusion matrix, without normalization')\n",
        "\n",
        "    print(cm)\n",
        "\n",
        "    thresh = cm.max() / 2.\n",
        "    for i, j in itertools.product(range(cm.shape[0]), range(cm.shape[1])):\n",
        "        plt.text(j, i, cm[i, j],\n",
        "                 horizontalalignment=\"center\",\n",
        "                 color=\"white\" if cm[i, j] > thresh else \"black\")\n",
        "\n",
        "    plt.tight_layout()\n",
        "    plt.ylabel('True label')\n",
        "    plt.xlabel('Predicted label')"
      ],
      "execution_count": 0,
      "outputs": []
    },
    {
      "cell_type": "code",
      "metadata": {
        "id": "nmE8IwZGVnye",
        "colab_type": "code",
        "colab": {}
      },
      "source": [
        ""
      ],
      "execution_count": 0,
      "outputs": []
    }
  ]
}