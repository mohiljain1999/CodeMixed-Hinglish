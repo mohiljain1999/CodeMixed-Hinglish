{
 "cells": [
  {
   "cell_type": "code",
   "execution_count": 1,
   "metadata": {},
   "outputs": [],
   "source": [
    "'''\n",
    "This notebook does simple massaging on the H.O.T dataset. The originala data that is published for learning is\n",
    "has label and message concatenated together in a csv file. This notebook just separates them. \n",
    "\n",
    "'''"
   ]
  },
  {
   "cell_type": "code",
   "execution_count": 31,
   "metadata": {},
   "outputs": [],
   "source": [
    "import csv\n",
    "import os\n",
    "import numpy as np\n",
    "import matplotlib.pyplot as plt\n",
    "from numpy import *\n",
    "\n",
    "from nltk.corpus import stopwords\n",
    "from nltk.tokenize import word_tokenize"
   ]
  },
  {
   "cell_type": "code",
   "execution_count": 4,
   "metadata": {},
   "outputs": [
    {
     "data": {
      "text/plain": [
       "'C:\\\\Users\\\\vigupta\\\\source\\\\repos\\\\CodeMixed-Hinglish'"
      ]
     },
     "execution_count": 4,
     "metadata": {},
     "output_type": "execute_result"
    }
   ],
   "source": [
    "labels = []\n",
    "messages = []\n"
   ]
  },
  {
   "cell_type": "code",
   "execution_count": 6,
   "metadata": {},
   "outputs": [],
   "source": [
    "## HOT_Dataset_modified.csv is the source dataset for the problem/task at hand \n",
    "\n",
    "with open('.\\\\data\\HOT_Dataset_modified.csv', newline ='') as hot:\n",
    "    reader = csv.reader(hot)\n",
    "    for row in reader:\n",
    "        if row[0] != '':\n",
    "            labels.append(row[0])\n",
    "            messages.append(row[1])\n",
    "    "
   ]
  },
  {
   "cell_type": "code",
   "execution_count": 9,
   "metadata": {},
   "outputs": [],
   "source": [
    "#messages.csv has the sequences i.e. the X's from the label+text data in the source\n",
    "with open('.\\\\data\\\\source\\\\messages.csv', mode='w') as tweets:\n",
    "    writer = csv.writer(tweets, delimiter='\\n', quotechar='\"', quoting=csv.QUOTE_MINIMAL)\n",
    "    writer.writerows([messages])\n"
   ]
  },
  {
   "cell_type": "code",
   "execution_count": 10,
   "metadata": {},
   "outputs": [],
   "source": [
    "with open('.\\\\data\\\\source\\\\labels.csv', mode='w') as classes:\n",
    "    writer = csv.writer(classes,delimiter='\\n', quotechar='\"', quoting=csv.QUOTE_MINIMAL)\n",
    "    writer.writerows([labels])"
   ]
  },
  {
   "cell_type": "code",
   "execution_count": 28,
   "metadata": {},
   "outputs": [
    {
     "name": "stdout",
     "output_type": "stream",
     "text": [
      "Written data\\source for the source data! Please verify in: C:\\Users\\vigupta\\source\\repos\\CodeMixed-Hinglish \\data\\source directory\n",
      "Total messages read: 3189\n",
      "Total labels read: 3189\n"
     ]
    }
   ],
   "source": [
    "print(\"Written data\\source for the source data! Please verify in:\", os.getcwd(), '\\\\data\\\\source directory')\n",
    "print('Total messages read: %i' % len(messages))\n",
    "print('Total labels read: %i' % len(labels))"
   ]
  },
  {
   "cell_type": "code",
   "execution_count": 24,
   "metadata": {},
   "outputs": [],
   "source": [
    "engmessages = []\n",
    "englabels = []\n",
    "with open('.\\\\data\\\\source\\\\labeled_data.csv', newline ='') as engot:\n",
    "    reader = csv.reader(engot)\n",
    "    for row in reader:\n",
    "        englabels.append(row[5])\n",
    "        engmessages.append(row[6])\n",
    "        \n",
    "    "
   ]
  },
  {
   "cell_type": "code",
   "execution_count": 28,
   "metadata": {},
   "outputs": [
    {
     "data": {
      "text/plain": [
       "['2', '1', '1', '1', '1', '1', '1', '1', '1', '1', '1', '1', '1']"
      ]
     },
     "execution_count": 28,
     "metadata": {},
     "output_type": "execute_result"
    }
   ],
   "source": [
    "engmessages[1:14]\n",
    "englabels[1:14]"
   ]
  },
  {
   "cell_type": "code",
   "execution_count": 29,
   "metadata": {},
   "outputs": [],
   "source": [
    "with open('.\\\\data\\\\source\\\\engmessages.csv', mode='w') as tweets:\n",
    "    writer = csv.writer(tweets, delimiter='\\n', quotechar='\"', quoting=csv.QUOTE_MINIMAL)\n",
    "    writer.writerows([engmessages])"
   ]
  },
  {
   "cell_type": "code",
   "execution_count": 30,
   "metadata": {},
   "outputs": [],
   "source": [
    "with open('.\\\\data\\\\source\\\\englabels.csv', mode='w') as classes:\n",
    "    writer = csv.writer(classes,delimiter='\\n', quotechar='\"', quoting=csv.QUOTE_MINIMAL)\n",
    "    writer.writerows([englabels])"
   ]
  },
  {
   "cell_type": "code",
   "execution_count": null,
   "metadata": {},
   "outputs": [],
   "source": []
  }
 ],
 "metadata": {
  "kernelspec": {
   "display_name": "Python 3",
   "language": "python",
   "name": "python3"
  },
  "language_info": {
   "codemirror_mode": {
    "name": "ipython",
    "version": 3
   },
   "file_extension": ".py",
   "mimetype": "text/x-python",
   "name": "python",
   "nbconvert_exporter": "python",
   "pygments_lexer": "ipython3",
   "version": "3.7.4"
  }
 },
 "nbformat": 4,
 "nbformat_minor": 2
}
