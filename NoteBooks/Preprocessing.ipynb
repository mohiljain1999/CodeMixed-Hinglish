{
 "cells": [
  {
   "cell_type": "code",
   "execution_count": 4,
   "metadata": {},
   "outputs": [],
   "source": [
    "import re\n",
    "import io\n",
    "import csv\n",
    "import os\n",
    "import numpy as np\n",
    "import matplotlib.pyplot as plt\n",
    "from numpy import *\n",
    "from googletrans import Translator\n",
    "import unicodedata\n"
   ]
  },
  {
   "cell_type": "code",
   "execution_count": 5,
   "metadata": {},
   "outputs": [],
   "source": [
    "def StandardizeCasing(message):\n",
    "    return message.lower()"
   ]
  },
  {
   "cell_type": "code",
   "execution_count": 6,
   "metadata": {},
   "outputs": [],
   "source": [
    "def RemoveUsermentions(message):\n",
    "    regex = re.compile('@[A-Za-z0-9_-]{2,}', re.S) #remove the @ sign with any trailing letters, digits or _ 2 or more\n",
    "    message = re.sub(regex, '', message)\n",
    "    return message.strip()\n",
    "    "
   ]
  },
  {
   "cell_type": "code",
   "execution_count": 7,
   "metadata": {},
   "outputs": [],
   "source": [
    "def RemoveUrls(message):\n",
    "    regex = re.compile('http[s]?://(?:[a-zA-Z]|[0-9]|[$-_@.&+]|[!*\\(\\),]|(?:%[0-9a-fA-F][0-9a-fA-F]))+', re.S)\n",
    "    message = re.sub(regex, '', message)\n",
    "    return message.strip()"
   ]
  },
  {
   "cell_type": "code",
   "execution_count": 8,
   "metadata": {},
   "outputs": [],
   "source": [
    "def RemoveEmoji(message):\n",
    "    #regex = re.compile('\\[a-z]*',re.S) #remove the @ sign with any trailing letters, digits or _ 2 or more\n",
    "    regex = re.compile(r'\\\\x[A-Za-z0-9]*', re.S)\n",
    "    message = re.sub(regex, '', message)\n",
    "    return message.strip()\n",
    "    #return message.encode('ascii', 'ignore').decode('ascii')\n",
    "    "
   ]
  },
  {
   "cell_type": "code",
   "execution_count": 9,
   "metadata": {},
   "outputs": [],
   "source": [
    "def RemovePunctuation(message):\n",
    "    regex = re.compile('[,:/\\\"[\\]]', re.S) #remove the @ sign with any trailing letters, digits or _ 2 or more\n",
    "    message = re.sub(regex, '', message)\n",
    "    return message.strip()\n",
    "    "
   ]
  },
  {
   "cell_type": "code",
   "execution_count": 10,
   "metadata": {},
   "outputs": [],
   "source": [
    "def RemoveDigits(message):\n",
    "    regex = re.compile('[0-9]+', re.S) #remove the @ sign with any trailing letters, digits or _ 2 or more\n",
    "    message = re.sub(regex, '', message)\n",
    "    return message.strip()\n",
    "    "
   ]
  },
  {
   "cell_type": "code",
   "execution_count": 11,
   "metadata": {},
   "outputs": [],
   "source": [
    "def RemoveUnicode(message):\n",
    "    return unicodedata.normalize('NFKD', message).encode('ascii','ignore')\n",
    "    "
   ]
  },
  {
   "cell_type": "code",
   "execution_count": 12,
   "metadata": {},
   "outputs": [],
   "source": [
    "def RemoveNewlinewithin(message):\n",
    "    #regex = re.compile('\\x', re.S) #remove the @ sign with any trailing letters, digits or _ 2 or more\n",
    "    #message = re.sub(regex, '', message)\n",
    "    #return message.strip()\n",
    "    return message.replace('\\\\n', ' ')\n",
    "    "
   ]
  },
  {
   "cell_type": "code",
   "execution_count": 13,
   "metadata": {},
   "outputs": [],
   "source": [
    "def removeDots(message):\n",
    "    regex = re.compile('[.]+', re.S) #remove the @ sign with any trailing letters, digits or _ 2 or more\n",
    "    message = re.sub(regex, ' ', message)\n",
    "    return message.strip()"
   ]
  },
  {
   "cell_type": "code",
   "execution_count": 14,
   "metadata": {},
   "outputs": [],
   "source": [
    "def RemoveSpecialChars(message):\n",
    "    #regex = re.compile('[?*\\\"\\'!#$^\\&~`@]', re.S) #remove the @ sign with any trailing letters, digits or _ 2 or more\n",
    "    regex = re.compile(r\"[-()\\\"#/@;:<>{}`+=~|.!?,]\", re.S)\n",
    "    message = re.sub(regex, '', message)\n",
    "    return message.strip()"
   ]
  },
  {
   "cell_type": "code",
   "execution_count": 15,
   "metadata": {},
   "outputs": [],
   "source": [
    "def RemoveRT(message):\n",
    "    regex = re.compile('rt ', re.S) #remove the @ sign with any trailing letters, digits or _ 2 or more\n",
    "    message = re.sub(regex, '', message)\n",
    "    return message.strip()"
   ]
  },
  {
   "cell_type": "code",
   "execution_count": 16,
   "metadata": {},
   "outputs": [],
   "source": [
    "def RemoveDEmoji(message):\n",
    "    emoji_pattern = re.compile(\"[\"\n",
    "         u\"\\U0001F600-\\U0001F64F\"  # emoticons\n",
    "         u\"\\U0001F300-\\U0001F5FF\"  # symbols & pictographs\n",
    "         u\"\\U0001F680-\\U0001F6FF\"  # transport & map symbols\n",
    "         u\"\\U0001F1E0-\\U0001F1FF\"  # flags (iOS)\n",
    "         u\"\\U00002702-\\U000027B0\"\n",
    "         u\"\\U000024C2-\\U0001F251\"\n",
    "         \"]+\", flags=re.UNICODE)\n",
    "    return emoji_pattern.sub(r'', message)"
   ]
  },
  {
   "cell_type": "code",
   "execution_count": 77,
   "metadata": {},
   "outputs": [],
   "source": [
    "def PreprocessMessage(message):\n",
    "    message = RemoveEmoji(message)\n",
    "    message = StandardizeCasing(message)\n",
    "    message = RemoveUsermentions(message)\n",
    "    message = RemoveUrls(message)\n",
    "    message = RemovePunctuation(message)\n",
    "    message = RemoveDigits(message)\n",
    "    message = RemoveNewlinewithin(message)\n",
    "    message = removeDots(message)\n",
    "    message = RemoveSpecialChars(message)\n",
    "    message = RemoveRT(message)\n",
    "    return message"
   ]
  },
  {
   "cell_type": "code",
   "execution_count": 17,
   "metadata": {},
   "outputs": [
    {
     "name": "stdout",
     "output_type": "stream",
     "text": [
      "b'haa jaise tum bhi abhi pa'\n"
     ]
    }
   ],
   "source": [
    "message = \"haa jaise tum bhi abhi p\\xe2\\x80\\xa6\"\n",
    "print(RemoveUnicode(message))"
   ]
  },
  {
   "cell_type": "code",
   "execution_count": 81,
   "metadata": {},
   "outputs": [],
   "source": [
    "messages = []\n",
    "with open('messages_cleaned.csv', newline ='') as messageData:\n",
    "    reader = csv.reader(messageData)\n",
    "    for row in reader:\n",
    "        message = (''.join(row))\n",
    "        message = PreprocessMessage(message)\n",
    "        messages.append(message)\n",
    "        \n",
    "    \n",
    "        "
   ]
  },
  {
   "cell_type": "code",
   "execution_count": 82,
   "metadata": {},
   "outputs": [],
   "source": [
    "with open('messages.csv', mode='w') as tweets:\n",
    "    writer = csv.writer(tweets, delimiter='\\n', quotechar='\"', quoting=csv.QUOTE_MINIMAL)\n",
    "    writer.writerows([messages])\n"
   ]
  },
  {
   "cell_type": "code",
   "execution_count": 85,
   "metadata": {},
   "outputs": [
    {
     "ename": "AttributeError",
     "evalue": "'list' object has no attribute 'text'",
     "output_type": "error",
     "traceback": [
      "\u001b[1;31m---------------------------------------------------------------------------\u001b[0m",
      "\u001b[1;31mAttributeError\u001b[0m                            Traceback (most recent call last)",
      "\u001b[1;32m<ipython-input-85-3211e711eb1c>\u001b[0m in \u001b[0;36m<module>\u001b[1;34m\u001b[0m\n\u001b[0;32m      5\u001b[0m     \u001b[1;32mfor\u001b[0m \u001b[0mmessage\u001b[0m \u001b[1;32min\u001b[0m \u001b[0mreader\u001b[0m\u001b[1;33m:\u001b[0m\u001b[1;33m\u001b[0m\u001b[1;33m\u001b[0m\u001b[0m\n\u001b[0;32m      6\u001b[0m         \u001b[0mtrans\u001b[0m \u001b[1;33m=\u001b[0m \u001b[0mtranslator\u001b[0m\u001b[1;33m.\u001b[0m\u001b[0mtranslate\u001b[0m\u001b[1;33m(\u001b[0m\u001b[0mmessage\u001b[0m\u001b[1;33m,\u001b[0m \u001b[0msrc\u001b[0m \u001b[1;33m=\u001b[0m \u001b[1;34m'hi'\u001b[0m\u001b[1;33m,\u001b[0m \u001b[0mdest\u001b[0m \u001b[1;33m=\u001b[0m \u001b[1;34m'en'\u001b[0m\u001b[1;33m)\u001b[0m\u001b[1;33m\u001b[0m\u001b[1;33m\u001b[0m\u001b[0m\n\u001b[1;32m----> 7\u001b[1;33m         \u001b[0mprint\u001b[0m\u001b[1;33m(\u001b[0m\u001b[0mtrans\u001b[0m\u001b[1;33m.\u001b[0m\u001b[0mtext\u001b[0m\u001b[1;33m)\u001b[0m\u001b[1;33m\u001b[0m\u001b[1;33m\u001b[0m\u001b[0m\n\u001b[0m\u001b[0;32m      8\u001b[0m \u001b[1;33m\u001b[0m\u001b[0m\n\u001b[0;32m      9\u001b[0m \u001b[1;33m\u001b[0m\u001b[0m\n",
      "\u001b[1;31mAttributeError\u001b[0m: 'list' object has no attribute 'text'"
     ]
    }
   ],
   "source": [
    "messages_trans = []\n",
    "with open('messages.csv', newline ='') as messageData:\n",
    "    reader = csv.reader(messageData)\n",
    "    translator = Translator()\n",
    "    for message in reader:\n",
    "        trans = translator.translate(message, src = 'hi', dest = 'en')\n",
    "        print(trans.text)\n",
    "        \n",
    "        \n",
    "        \n",
    "    \n",
    "        "
   ]
  },
  {
   "cell_type": "code",
   "execution_count": null,
   "metadata": {},
   "outputs": [],
   "source": []
  }
 ],
 "metadata": {
  "kernelspec": {
   "display_name": "Python 3",
   "language": "python",
   "name": "python3"
  },
  "language_info": {
   "codemirror_mode": {
    "name": "ipython",
    "version": 3
   },
   "file_extension": ".py",
   "mimetype": "text/x-python",
   "name": "python",
   "nbconvert_exporter": "python",
   "pygments_lexer": "ipython3",
   "version": "3.7.4"
  }
 },
 "nbformat": 4,
 "nbformat_minor": 2
}
