{
 "cells": [
  {
   "cell_type": "code",
   "execution_count": 113,
   "metadata": {},
   "outputs": [
    {
     "data": {
      "text/html": [
       "        <script type=\"text/javascript\">\n",
       "        window.PlotlyConfig = {MathJaxConfig: 'local'};\n",
       "        if (window.MathJax) {MathJax.Hub.Config({SVG: {font: \"STIX-Web\"}});}\n",
       "        if (typeof require !== 'undefined') {\n",
       "        require.undef(\"plotly\");\n",
       "        requirejs.config({\n",
       "            paths: {\n",
       "                'plotly': ['https://cdn.plot.ly/plotly-latest.min']\n",
       "            }\n",
       "        });\n",
       "        require(['plotly'], function(Plotly) {\n",
       "            window._Plotly = Plotly;\n",
       "        });\n",
       "        }\n",
       "        </script>\n",
       "        "
      ]
     },
     "metadata": {},
     "output_type": "display_data"
    }
   ],
   "source": [
    "import os\n",
    "import keras\n",
    "import io\n",
    "import csv\n",
    "\n",
    "from keras.preprocessing.text import Tokenizer \n",
    "from keras.preprocessing.sequence import pad_sequences \n",
    "import numpy as np\n",
    "from keras.utils import np_utils\n",
    "from keras.layers import Dropout\n",
    "from keras.layers import BatchNormalization\n",
    "from keras.callbacks import TensorBoard\n",
    "import keras_metrics\n",
    "from keras.utils.vis_utils import plot_model\n",
    "import pydot\n",
    "\n",
    "from sklearn.model_selection import cross_val_score\n",
    "from sklearn.model_selection import KFold\n",
    "from sklearn.preprocessing import LabelEncoder\n",
    "from sklearn.pipeline import Pipeline\n",
    "\n",
    "from keras.models import Sequential\n",
    "from keras.layers import Embedding, Flatten, Dense, Conv1D, MaxPooling1D, GlobalMaxPooling1D \n",
    "\n",
    "## Plotly\n",
    "import plotly.offline as py\n",
    "import plotly.graph_objs as go\n",
    "py.init_notebook_mode(connected=True)\n",
    "\n",
    "import matplotlib.pyplot as plt\n",
    "%matplotlib inline\n",
    "from sklearn.manifold import TSNE\n"
   ]
  },
  {
   "cell_type": "code",
   "execution_count": 114,
   "metadata": {},
   "outputs": [],
   "source": [
    "#set the directory \n",
    "hottransmsg_dir = 'C:\\\\Users\\\\vigupta\\\\OneDrive\\\\Learning\\\\DataScience\\\\DeepLearning\\\\CS230\\\\Project\\Hinglish-Offensive-Text-Classification-master'\n",
    "train_dir = os.path.join(hottransmsg_dir, 'train')\n",
    "train_data = 'transmessages.csv'\n",
    "label_data = 'labels.csv'\n",
    "texts = []\n",
    "labels = []\n",
    "log_dir = './logs'\n",
    "\n",
    "with open(os.path.join(train_dir, train_data), newline ='') as messageData:\n",
    "    reader = csv.reader(messageData)\n",
    "    for row in reader:\n",
    "        message = (''.join(row))\n",
    "        texts.append(message)\n",
    "\n",
    "with open(os.path.join(train_dir, label_data)) as labelData:\n",
    "    reader = csv.reader(labelData)\n",
    "    for row in reader:\n",
    "        #label = (''.join(row))\n",
    "        labels.append(row)\n"
   ]
  },
  {
   "cell_type": "code",
   "execution_count": 116,
   "metadata": {},
   "outputs": [
    {
     "name": "stdout",
     "output_type": "stream",
     "text": [
      "[1. 0. 0.]\n"
     ]
    }
   ],
   "source": [
    "encoder = LabelEncoder()\n",
    "encoder.fit(labels)\n",
    "encoded_Y = encoder.transform(labels)\n",
    "labells = np_utils.to_categorical(encoded_Y)\n",
    "print(labells[0,])\n"
   ]
  },
  {
   "cell_type": "code",
   "execution_count": 117,
   "metadata": {},
   "outputs": [
    {
     "data": {
      "text/plain": [
       "'\\nThis code block is to be ignored; borrowed for a different project\\ntry:\\n    for label_type in [\\'neg\\' , \\'pos\\']:\\n        dir_name = os.path.join(train_dir, label_type)\\n        for fname in os.listdir(dir_name):\\n            if fname[-4:] == \\'.txt\\':\\n                f = open(os.path.join(dir_name, fname), encoding=\"utf8\")\\n                texts.append(f.read())\\n                f.close()\\n                if label_type == \\'neg\\':\\n                    labels.append(0)\\n                else :\\n                    labels.append(1)\\nexcept:\\n    print(\"Error happened in reading and processing the dataset\")\\nprint(\\'The length of the dataset is:\\', len(labels))            \\nprint(\\'The length of the texts is:\\', len(texts))            \\n'"
      ]
     },
     "execution_count": 117,
     "metadata": {},
     "output_type": "execute_result"
    }
   ],
   "source": [
    "'''\n",
    "This code block is to be ignored; borrowed for a different project\n",
    "try:\n",
    "    for label_type in ['neg' , 'pos']:\n",
    "        dir_name = os.path.join(train_dir, label_type)\n",
    "        for fname in os.listdir(dir_name):\n",
    "            if fname[-4:] == '.txt':\n",
    "                f = open(os.path.join(dir_name, fname), encoding=\"utf8\")\n",
    "                texts.append(f.read())\n",
    "                f.close()\n",
    "                if label_type == 'neg':\n",
    "                    labels.append(0)\n",
    "                else :\n",
    "                    labels.append(1)\n",
    "except:\n",
    "    print(\"Error happened in reading and processing the dataset\")\n",
    "print('The length of the dataset is:', len(labels))            \n",
    "print('The length of the texts is:', len(texts))            \n",
    "'''"
   ]
  },
  {
   "cell_type": "code",
   "execution_count": 163,
   "metadata": {},
   "outputs": [
    {
     "name": "stdout",
     "output_type": "stream",
     "text": [
      "Found 7595 unique tokens.\n",
      "Shape of the data tensor: (3189, 100)\n",
      "Shape of the label tensor: (3189, 3)\n",
      "Train length 2500\n",
      "Validation length 500\n"
     ]
    }
   ],
   "source": [
    "##Tokenizer, Sequencer and padding via Keras\n",
    "maxlen = 100\n",
    "training_samples = 2500\n",
    "validation_samples = 500# len(labels) - training_samples #\n",
    "max_words = 10000\n",
    "num_filters = 64 \n",
    "embedding_dim = 100\n",
    "np.random.seed(1) \n",
    "\n",
    "#tokenize the data for the maxwords\n",
    "tokenizer = Tokenizer(num_words=max_words)\n",
    "tokenizer.fit_on_texts(texts)\n",
    "\n",
    "#Generate the sequences on texts on the the data by tokenizer\n",
    "sequences = tokenizer.texts_to_sequences(texts)\n",
    "\n",
    "word_index = tokenizer.word_index\n",
    "print('Found %s unique tokens.'% len(word_index))\n",
    "\n",
    "#Padding sequences (making them all equal)\n",
    "data = pad_sequences(sequences, maxlen=maxlen)\n",
    "\n",
    "labels = np.asarray(labels)\n",
    "print('Shape of the data tensor:' , data.shape)\n",
    "print('Shape of the label tensor:' , labels.shape)\n",
    "\n",
    "indices = np.arange(data.shape[0])\n",
    "np.random.shuffle(indices)\n",
    "\n",
    "data = data[indices]\n",
    "labels = labells[indices,:]\n",
    "\n",
    "x_train = data[:training_samples]\n",
    "y_train = labels[:training_samples]\n",
    "\n",
    "x_val = data[training_samples:training_samples + validation_samples]\n",
    "y_val = labels[training_samples:training_samples + validation_samples]\n",
    "\n",
    "print(\"Train length\" , len(x_train))\n",
    "print(\"Validation length\" , len(x_val))"
   ]
  },
  {
   "cell_type": "code",
   "execution_count": 164,
   "metadata": {},
   "outputs": [
    {
     "data": {
      "text/plain": [
       "array([[0., 0., 1.],\n",
       "       [1., 0., 0.],\n",
       "       [1., 0., 0.],\n",
       "       ...,\n",
       "       [0., 0., 1.],\n",
       "       [1., 0., 0.],\n",
       "       [0., 0., 1.]], dtype=float32)"
      ]
     },
     "execution_count": 164,
     "metadata": {},
     "output_type": "execute_result"
    }
   ],
   "source": [
    "y_val"
   ]
  },
  {
   "cell_type": "code",
   "execution_count": 165,
   "metadata": {},
   "outputs": [
    {
     "name": "stdout",
     "output_type": "stream",
     "text": [
      "Found 400000 word vectors\n"
     ]
    }
   ],
   "source": [
    "np.random.seed(1) \n",
    "glove_dir = 'C:\\\\Users\\\\vigupta\\\\OneDrive\\\\Learning\\\\DataScience\\\\DeepLearning\\\\Glove'\n",
    "\n",
    "embedding_index = {}\n",
    "f = open(os.path.join(glove_dir, 'glove.6B.100d.txt'), encoding=\"utf8\")\n",
    "\n",
    "for line in f:\n",
    "    values = line.split()\n",
    "    word = values[0]\n",
    "   # print(word)\n",
    "    coefs = np.asarray(values[1:], dtype = 'float32')\n",
    "    embedding_index[word] = coefs\n",
    "f.close()\n",
    "\n",
    "print('Found %s word vectors' % len(embedding_index))"
   ]
  },
  {
   "cell_type": "code",
   "execution_count": 166,
   "metadata": {},
   "outputs": [
    {
     "name": "stdout",
     "output_type": "stream",
     "text": [
      "(10000, 100)\n"
     ]
    }
   ],
   "source": [
    "np.random.seed(1) \n",
    "embedding_matrix = np.zeros((max_words, embedding_dim))\n",
    "\n",
    "for word, i in word_index.items():\n",
    "    if i < max_words:\n",
    "        embedding_vector = embedding_index.get(word)\n",
    "        if embedding_vector is not None:\n",
    "            embedding_matrix[i] = embedding_vector\n",
    "print(embedding_matrix.shape)       \n",
    "#embedding_matrix[0:10, ]"
   ]
  },
  {
   "cell_type": "code",
   "execution_count": 173,
   "metadata": {},
   "outputs": [
    {
     "name": "stdout",
     "output_type": "stream",
     "text": [
      "Model: \"sequential_32\"\n",
      "_________________________________________________________________\n",
      "Layer (type)                 Output Shape              Param #   \n",
      "=================================================================\n",
      "embedding_32 (Embedding)     (None, 100, 100)          1000000   \n",
      "_________________________________________________________________\n",
      "conv1d_46 (Conv1D)           (None, 100, 64)           44864     \n",
      "_________________________________________________________________\n",
      "max_pooling1d_25 (MaxPooling (None, 50, 64)            0         \n",
      "_________________________________________________________________\n",
      "conv1d_47 (Conv1D)           (None, 50, 64)            28736     \n",
      "_________________________________________________________________\n",
      "global_max_pooling1d_22 (Glo (None, 64)                0         \n",
      "_________________________________________________________________\n",
      "dropout_66 (Dropout)         (None, 64)                0         \n",
      "_________________________________________________________________\n",
      "dense_76 (Dense)             (None, 64)                4160      \n",
      "_________________________________________________________________\n",
      "batch_normalization_16 (Batc (None, 64)                256       \n",
      "_________________________________________________________________\n",
      "dropout_67 (Dropout)         (None, 64)                0         \n",
      "_________________________________________________________________\n",
      "dense_77 (Dense)             (None, 3)                 195       \n",
      "=================================================================\n",
      "Total params: 1,078,211\n",
      "Trainable params: 1,078,083\n",
      "Non-trainable params: 128\n",
      "_________________________________________________________________\n"
     ]
    }
   ],
   "source": [
    "np.random.seed(1) \n",
    "model = Sequential() \n",
    "model.add(Embedding(max_words, embedding_dim, input_length=maxlen))\n",
    "model.add(Conv1D(num_filters, 7, activation='relu', padding='same'))\n",
    "model.add(MaxPooling1D(2))\n",
    "#model.add(Conv1D(num_filters, 7, activation='relu', padding='same'))\n",
    "#model.add(MaxPooling1D(2))\n",
    "model.add(Conv1D(num_filters, 7, activation='relu', padding='same'))\n",
    "model.add(GlobalMaxPooling1D())\n",
    "model.add(Dropout(0.5))\n",
    "#model.add(Flatten())\n",
    "model.add(Dense(64, activation = 'relu'))\n",
    "model.add(BatchNormalization())\n",
    "model.add(Dropout(0.5))\n",
    "#model.add(Dense(64, activation = 'relu'))\n",
    "#model.add(Dropout(0.5))\n",
    "#model.add(BatchNormalization())\n",
    "model.add(Dense(3, activation = 'softmax'))\n",
    "#plot_model(model, to_file='model_plot.png', show_shapes=True, show_layer_names=True)\n",
    "model.summary()"
   ]
  },
  {
   "cell_type": "code",
   "execution_count": 178,
   "metadata": {},
   "outputs": [],
   "source": [
    "model.layers[0].set_weights([embedding_matrix])\n",
    "model.layers[0].trainable = False"
   ]
  },
  {
   "cell_type": "code",
   "execution_count": 179,
   "metadata": {},
   "outputs": [],
   "source": [
    "model.compile(optimizer='adam', loss = 'categorical_crossentropy', metrics=['acc'])"
   ]
  },
  {
   "cell_type": "code",
   "execution_count": 180,
   "metadata": {},
   "outputs": [
    {
     "name": "stderr",
     "output_type": "stream",
     "text": [
      "C:\\Users\\vigupta\\AppData\\Local\\Continuum\\anaconda3\\lib\\site-packages\\tensorflow_core\\python\\framework\\indexed_slices.py:424: UserWarning:\n",
      "\n",
      "Converting sparse IndexedSlices to a dense Tensor of unknown shape. This may consume a large amount of memory.\n",
      "\n"
     ]
    },
    {
     "name": "stdout",
     "output_type": "stream",
     "text": [
      "Train on 2500 samples, validate on 500 samples\n",
      "Epoch 1/40\n",
      "2500/2500 [==============================] - 5s 2ms/step - loss: 0.1191 - acc: 0.9648 - val_loss: 0.7482 - val_acc: 0.7680\n",
      "Epoch 2/40\n",
      "2500/2500 [==============================] - 4s 2ms/step - loss: 0.1126 - acc: 0.9644 - val_loss: 0.8207 - val_acc: 0.7800\n",
      "Epoch 3/40\n",
      "2500/2500 [==============================] - 5s 2ms/step - loss: 0.1029 - acc: 0.9692 - val_loss: 0.8153 - val_acc: 0.7480\n",
      "Epoch 4/40\n",
      "2500/2500 [==============================] - 4s 2ms/step - loss: 0.0948 - acc: 0.9692 - val_loss: 0.8325 - val_acc: 0.7580\n",
      "Epoch 5/40\n",
      "2500/2500 [==============================] - 4s 2ms/step - loss: 0.0921 - acc: 0.9716 - val_loss: 0.8388 - val_acc: 0.7640\n",
      "Epoch 6/40\n",
      "2500/2500 [==============================] - 5s 2ms/step - loss: 0.0862 - acc: 0.9732 - val_loss: 0.8622 - val_acc: 0.7680\n",
      "Epoch 7/40\n",
      "2500/2500 [==============================] - 5s 2ms/step - loss: 0.0881 - acc: 0.9720 - val_loss: 0.9280 - val_acc: 0.7500\n",
      "Epoch 8/40\n",
      "2500/2500 [==============================] - 5s 2ms/step - loss: 0.0757 - acc: 0.9732 - val_loss: 0.9842 - val_acc: 0.7640\n",
      "Epoch 9/40\n",
      "2500/2500 [==============================] - 5s 2ms/step - loss: 0.0746 - acc: 0.9764 - val_loss: 0.9714 - val_acc: 0.7720\n",
      "Epoch 10/40\n",
      "2500/2500 [==============================] - 5s 2ms/step - loss: 0.0765 - acc: 0.9768 - val_loss: 1.0252 - val_acc: 0.7580\n",
      "Epoch 11/40\n",
      "2500/2500 [==============================] - 5s 2ms/step - loss: 0.0614 - acc: 0.9812 - val_loss: 1.0464 - val_acc: 0.7720\n",
      "Epoch 12/40\n",
      "2500/2500 [==============================] - 5s 2ms/step - loss: 0.0643 - acc: 0.9784 - val_loss: 1.1183 - val_acc: 0.7680\n",
      "Epoch 13/40\n",
      "2500/2500 [==============================] - 5s 2ms/step - loss: 0.0639 - acc: 0.9792 - val_loss: 1.0934 - val_acc: 0.7640\n",
      "Epoch 14/40\n",
      "2500/2500 [==============================] - 5s 2ms/step - loss: 0.0586 - acc: 0.9800 - val_loss: 1.1333 - val_acc: 0.7620\n",
      "Epoch 15/40\n",
      "2500/2500 [==============================] - 5s 2ms/step - loss: 0.0546 - acc: 0.9824 - val_loss: 1.1784 - val_acc: 0.7600\n",
      "Epoch 16/40\n",
      "2500/2500 [==============================] - 5s 2ms/step - loss: 0.0541 - acc: 0.9816 - val_loss: 1.1309 - val_acc: 0.7440\n",
      "Epoch 17/40\n",
      "2500/2500 [==============================] - 5s 2ms/step - loss: 0.0427 - acc: 0.9876 - val_loss: 1.1851 - val_acc: 0.7580\n",
      "Epoch 18/40\n",
      "2500/2500 [==============================] - 5s 2ms/step - loss: 0.0662 - acc: 0.9780 - val_loss: 1.2542 - val_acc: 0.7580\n",
      "Epoch 19/40\n",
      "2500/2500 [==============================] - 5s 2ms/step - loss: 0.0514 - acc: 0.9824 - val_loss: 1.3551 - val_acc: 0.7360\n",
      "Epoch 20/40\n",
      "2500/2500 [==============================] - 5s 2ms/step - loss: 0.0526 - acc: 0.9828 - val_loss: 1.3363 - val_acc: 0.7400\n",
      "Epoch 21/40\n",
      "2500/2500 [==============================] - 5s 2ms/step - loss: 0.0375 - acc: 0.9880 - val_loss: 1.2889 - val_acc: 0.7400\n",
      "Epoch 22/40\n",
      "2500/2500 [==============================] - 5s 2ms/step - loss: 0.0439 - acc: 0.9868 - val_loss: 1.2976 - val_acc: 0.7540\n",
      "Epoch 23/40\n",
      "2500/2500 [==============================] - 5s 2ms/step - loss: 0.0501 - acc: 0.9824 - val_loss: 1.4050 - val_acc: 0.7460\n",
      "Epoch 24/40\n",
      "2500/2500 [==============================] - 5s 2ms/step - loss: 0.0463 - acc: 0.9880 - val_loss: 1.3647 - val_acc: 0.7440\n",
      "Epoch 25/40\n",
      "2500/2500 [==============================] - 5s 2ms/step - loss: 0.0367 - acc: 0.9892 - val_loss: 1.4392 - val_acc: 0.7360\n",
      "Epoch 26/40\n",
      "2500/2500 [==============================] - 5s 2ms/step - loss: 0.0388 - acc: 0.9872 - val_loss: 1.3229 - val_acc: 0.7400\n",
      "Epoch 27/40\n",
      "2500/2500 [==============================] - 5s 2ms/step - loss: 0.0346 - acc: 0.9888 - val_loss: 1.4675 - val_acc: 0.7600\n",
      "Epoch 28/40\n",
      "2500/2500 [==============================] - 5s 2ms/step - loss: 0.0382 - acc: 0.9888 - val_loss: 1.2906 - val_acc: 0.7480\n",
      "Epoch 29/40\n",
      "2500/2500 [==============================] - 5s 2ms/step - loss: 0.0294 - acc: 0.9912 - val_loss: 1.3162 - val_acc: 0.7460\n",
      "Epoch 30/40\n",
      "2500/2500 [==============================] - 5s 2ms/step - loss: 0.0313 - acc: 0.9908 - val_loss: 1.3456 - val_acc: 0.7380\n",
      "Epoch 31/40\n",
      "2500/2500 [==============================] - 5s 2ms/step - loss: 0.0317 - acc: 0.9908 - val_loss: 1.3239 - val_acc: 0.7580\n",
      "Epoch 32/40\n",
      "2500/2500 [==============================] - 5s 2ms/step - loss: 0.0271 - acc: 0.9936 - val_loss: 1.3680 - val_acc: 0.7540\n",
      "Epoch 33/40\n",
      "2500/2500 [==============================] - 5s 2ms/step - loss: 0.0335 - acc: 0.9912 - val_loss: 1.3896 - val_acc: 0.7580\n",
      "Epoch 34/40\n",
      "2500/2500 [==============================] - 5s 2ms/step - loss: 0.0260 - acc: 0.9924 - val_loss: 1.3786 - val_acc: 0.7580\n",
      "Epoch 35/40\n",
      "2500/2500 [==============================] - 5s 2ms/step - loss: 0.0287 - acc: 0.9900 - val_loss: 1.5080 - val_acc: 0.7580\n",
      "Epoch 36/40\n",
      "2500/2500 [==============================] - 5s 2ms/step - loss: 0.0344 - acc: 0.9896 - val_loss: 1.4760 - val_acc: 0.7380\n",
      "Epoch 37/40\n",
      "2500/2500 [==============================] - 5s 2ms/step - loss: 0.0280 - acc: 0.9936 - val_loss: 1.4198 - val_acc: 0.7520\n",
      "Epoch 38/40\n",
      "2500/2500 [==============================] - 5s 2ms/step - loss: 0.0317 - acc: 0.9900 - val_loss: 1.3856 - val_acc: 0.7620\n",
      "Epoch 39/40\n",
      "2500/2500 [==============================] - 5s 2ms/step - loss: 0.0291 - acc: 0.9928 - val_loss: 1.3819 - val_acc: 0.7640\n",
      "Epoch 40/40\n",
      "2500/2500 [==============================] - 5s 2ms/step - loss: 0.0335 - acc: 0.9908 - val_loss: 1.4414 - val_acc: 0.7600\n"
     ]
    }
   ],
   "source": [
    "\n",
    "history = model.fit(x_train, y_train, epochs = 40, batch_size = 256, validation_data=[x_val, y_val])\n",
    "model.save_weights('pre_trained_hot_model.h5')"
   ]
  },
  {
   "cell_type": "code",
   "execution_count": 81,
   "metadata": {},
   "outputs": [
    {
     "data": {
      "text/plain": [
       "'C:\\\\Users\\\\vigupta\\\\OneDrive\\\\Learning\\\\DataScience\\\\DeepLearning\\\\CS230\\\\Project\\\\Hinglish-Offensive-Text-Classification-master'"
      ]
     },
     "execution_count": 81,
     "metadata": {},
     "output_type": "execute_result"
    }
   ],
   "source": [
    "os.getcwd()"
   ]
  },
  {
   "cell_type": "code",
   "execution_count": 183,
   "metadata": {},
   "outputs": [
    {
     "data": {
      "image/png": "[encoded data removed]",
      "text/plain": [
       "<Figure size 432x288 with 1 Axes>"
      ]
     },
     "metadata": {
      "needs_background": "light"
     },
     "output_type": "display_data"
    },
    {
     "data": {
      "image/png": "[encoded data removed]",
      "text/plain": [
       "<Figure size 432x288 with 1 Axes>"
      ]
     },
     "metadata": {
      "needs_background": "light"
     },
     "output_type": "display_data"
    },
    {
     "data": {
      "text/plain": [
       "<Figure size 432x288 with 0 Axes>"
      ]
     },
     "metadata": {},
     "output_type": "display_data"
    }
   ],
   "source": [
    "acc = history.history['acc']\n",
    "val_acc = history.history['val_acc']\n",
    "loss = history.history['loss']\n",
    "val_loss = history.history['val_loss']\n",
    "\n",
    "epochs = range(1, len(acc)+1)\n",
    "\n",
    "plt.plot(epochs, acc, 'bo', label ='Training acc')\n",
    "plt.plot(epochs, val_acc, 'b', label ='Validation acc')\n",
    "plt.title(\"Training and validation accuracy\")\n",
    "plt.legend()\n",
    "plt.figure()\n",
    "\n",
    "plt.plot(epochs, loss, 'bo', label ='Training Loss')\n",
    "plt.plot(epochs, val_loss, 'b', label ='Validation Loss')\n",
    "plt.title(\"Training and validation Losses\")\n",
    "plt.legend()\n",
    "plt.figure()\n",
    "\n",
    "plt.show()"
   ]
  },
  {
   "cell_type": "code",
   "execution_count": 75,
   "metadata": {},
   "outputs": [
    {
     "name": "stdout",
     "output_type": "stream",
     "text": [
      "(10000, 100)\n"
     ]
    }
   ],
   "source": [
    "e = model.layers[0]\n",
    "weights = e.get_weights()[0]\n",
    "print(weights.shape) # shape: (vocab_size, embedding_dim)"
   ]
  },
  {
   "cell_type": "code",
   "execution_count": 76,
   "metadata": {},
   "outputs": [],
   "source": [
    "## Plotting function\n",
    "def plot_words(data, start, stop, step):\n",
    "    trace = go.Scatter(\n",
    "        x = data[start:stop:step,0], \n",
    "        y = data[start:stop:step, 1],\n",
    "        mode = 'markers',\n",
    "        text= word_list[start:stop:step]\n",
    "    )\n",
    "    layout = dict(title= 't-SNE 1 vs t-SNE 2',\n",
    "                  yaxis = dict(title='t-SNE 2'),\n",
    "                  xaxis = dict(title='t-SNE 1'),\n",
    "                  hovermode= 'closest')\n",
    "    fig = dict(data = [trace], layout= layout)\n",
    "    py.iplot(fig)"
   ]
  },
  {
   "cell_type": "code",
   "execution_count": 51,
   "metadata": {},
   "outputs": [
    {
     "ename": "NameError",
     "evalue": "name 'word_list' is not defined",
     "output_type": "error",
     "traceback": [
      "\u001b[1;31m---------------------------------------------------------------------------\u001b[0m",
      "\u001b[1;31mNameError\u001b[0m                                 Traceback (most recent call last)",
      "\u001b[1;32m<ipython-input-51-9e106d02f85d>\u001b[0m in \u001b[0;36m<module>\u001b[1;34m\u001b[0m\n\u001b[0;32m      1\u001b[0m \u001b[0mtsne_embeddings\u001b[0m \u001b[1;33m=\u001b[0m \u001b[0mTSNE\u001b[0m\u001b[1;33m(\u001b[0m\u001b[0mn_components\u001b[0m\u001b[1;33m=\u001b[0m\u001b[1;36m2\u001b[0m\u001b[1;33m)\u001b[0m\u001b[1;33m.\u001b[0m\u001b[0mfit_transform\u001b[0m\u001b[1;33m(\u001b[0m\u001b[0mweights\u001b[0m\u001b[1;33m)\u001b[0m\u001b[1;33m\u001b[0m\u001b[1;33m\u001b[0m\u001b[0m\n\u001b[1;32m----> 2\u001b[1;33m \u001b[0mplot_words\u001b[0m\u001b[1;33m(\u001b[0m\u001b[0mtsne_embeddings\u001b[0m\u001b[1;33m,\u001b[0m \u001b[1;36m0\u001b[0m\u001b[1;33m,\u001b[0m \u001b[1;36m2\u001b[0m\u001b[1;33m,\u001b[0m \u001b[1;36m1\u001b[0m\u001b[1;33m)\u001b[0m\u001b[1;33m\u001b[0m\u001b[1;33m\u001b[0m\u001b[0m\n\u001b[0m",
      "\u001b[1;32m<ipython-input-50-6ad1d4105a79>\u001b[0m in \u001b[0;36mplot_words\u001b[1;34m(data, start, stop, step)\u001b[0m\n\u001b[0;32m      5\u001b[0m         \u001b[0my\u001b[0m \u001b[1;33m=\u001b[0m \u001b[0mdata\u001b[0m\u001b[1;33m[\u001b[0m\u001b[0mstart\u001b[0m\u001b[1;33m:\u001b[0m\u001b[0mstop\u001b[0m\u001b[1;33m:\u001b[0m\u001b[0mstep\u001b[0m\u001b[1;33m,\u001b[0m \u001b[1;36m1\u001b[0m\u001b[1;33m]\u001b[0m\u001b[1;33m,\u001b[0m\u001b[1;33m\u001b[0m\u001b[1;33m\u001b[0m\u001b[0m\n\u001b[0;32m      6\u001b[0m         \u001b[0mmode\u001b[0m \u001b[1;33m=\u001b[0m \u001b[1;34m'markers'\u001b[0m\u001b[1;33m,\u001b[0m\u001b[1;33m\u001b[0m\u001b[1;33m\u001b[0m\u001b[0m\n\u001b[1;32m----> 7\u001b[1;33m         \u001b[0mtext\u001b[0m\u001b[1;33m=\u001b[0m \u001b[0mword_list\u001b[0m\u001b[1;33m[\u001b[0m\u001b[0mstart\u001b[0m\u001b[1;33m:\u001b[0m\u001b[0mstop\u001b[0m\u001b[1;33m:\u001b[0m\u001b[0mstep\u001b[0m\u001b[1;33m]\u001b[0m\u001b[1;33m\u001b[0m\u001b[1;33m\u001b[0m\u001b[0m\n\u001b[0m\u001b[0;32m      8\u001b[0m     )\n\u001b[0;32m      9\u001b[0m     layout = dict(title= 't-SNE 1 vs t-SNE 2',\n",
      "\u001b[1;31mNameError\u001b[0m: name 'word_list' is not defined"
     ]
    }
   ],
   "source": [
    "tsne_embeddings = TSNE(n_components=2).fit_transform(weights)\n",
    "plot_words(tsne_embeddings, 0, 2, 1)"
   ]
  },
  {
   "cell_type": "code",
   "execution_count": null,
   "metadata": {},
   "outputs": [],
   "source": []
  }
 ],
 "metadata": {
  "kernelspec": {
   "display_name": "Python 3",
   "language": "python",
   "name": "python3"
  },
  "language_info": {
   "codemirror_mode": {
    "name": "ipython",
    "version": 3
   },
   "file_extension": ".py",
   "mimetype": "text/x-python",
   "name": "python",
   "nbconvert_exporter": "python",
   "pygments_lexer": "ipython3",
   "version": "3.7.4"
  }
 },
 "nbformat": 4,
 "nbformat_minor": 2
}
