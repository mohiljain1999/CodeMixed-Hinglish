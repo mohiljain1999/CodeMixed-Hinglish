{
 "cells": [
  {
   "cell_type": "code",
   "execution_count": 14,
   "metadata": {},
   "outputs": [],
   "source": [
    "import csv\n",
    "import os\n",
    "import numpy as np\n",
    "import matplotlib.pyplot as plt\n",
    "from numpy import *"
   ]
  },
  {
   "cell_type": "code",
   "execution_count": 15,
   "metadata": {},
   "outputs": [],
   "source": [
    "labels = []\n",
    "messages = []"
   ]
  },
  {
   "cell_type": "code",
   "execution_count": 16,
   "metadata": {},
   "outputs": [],
   "source": [
    "\n",
    "with open('HOT_Dataset_modified.csv', newline ='') as hot:\n",
    "    reader = csv.reader(hot)\n",
    "    for row in reader:\n",
    "        if row[0] != '':\n",
    "            labels.append(row[0])\n",
    "            messages.append(row[1])\n",
    "    "
   ]
  },
  {
   "cell_type": "code",
   "execution_count": 17,
   "metadata": {},
   "outputs": [
    {
     "data": {
      "text/plain": [
       "['@saud5683 @Mutayyab420 @shivang598 @Ranask35 @milkygaay @Aapaawaambaa @thetanmay @INCIndia Haa jaise tum bhi abhi p\\\\xe2\\\\x80\\\\xa6 https://t.co/wZmXZPIMTD',\n",
       " 'Banti hai empowered woman, feminism pe gyan pelti hai aur din bhar roti rehti hai. Pahle rona band kar madarchod!',\n",
       " 'RT @kim_jong_korea: @updatingwait @Acutereply Ab usko chhod mjse bat kr tera baap aa gya hai ab to ldki ko beech me q la ra hai Madarchod t\\\\xe2\\\\x80\\\\xa6',\n",
       " '@InviSibleSold @mabkhan86 @dridadahn Punjab in madarchodon ko Khila raha hai, nokrian day raha hai aur yeh imran ma\\\\xe2\\\\x80\\\\xa6 https://t.co/fxaRgyKZXF',\n",
       " 'RT @MrMonsterSaid: Agar koi bole ki ja ke chill maar to madarchod ki gand maar lene ka.',\n",
       " '@InviSibleSold @mabkhan86 @dridadahn Main jutt Punjabi hoon aur paka N league. Madarchod Imran ki Punjab say nafrat clear hai.',\n",
       " '@adn_merry To Bhosdike tere Baap ka kya ja raha hai? tu Apna Ghar dekh na Madarchod',\n",
       " '@updatingwait @Acutereply SUNNY LEONE BANA KE CHODEGE\\\\nTERI MAA KO\\\\nSAMJH ME AAYA \\\\nMADARCHOD NEEM KA PATTA KADVA HAI\\\\xe2\\\\x80\\\\xa6 https://t.co/tsrMfs26rp',\n",
       " '@akramtyagi @BSF_India @rajnathsingh @Uppolice @moradabadpolice @myogiadityanath Pata nahi aise sanghi kutte ko bha\\\\xe2\\\\x80\\\\xa6 https://t.co/n2PLeOgW0v',\n",
       " 'RT @AnshKSpeaks: Screw the law of the land. If I find this chutiya Madarchod Mulla I will Lynch him, murder him, cut into millions of pieces and Ha\\\\xe2\\\\x80\\\\xa6']"
      ]
     },
     "execution_count": 17,
     "metadata": {},
     "output_type": "execute_result"
    }
   ],
   "source": [
    "messages[0:10]"
   ]
  },
  {
   "cell_type": "code",
   "execution_count": 18,
   "metadata": {},
   "outputs": [],
   "source": [
    "with open('messages_cleaned.csv', mode='w') as tweets:\n",
    "    writer = csv.writer(tweets, delimiter='\\n', quotechar='\"', quoting=csv.QUOTE_MINIMAL)\n",
    "    writer.writerows([messages])\n"
   ]
  },
  {
   "cell_type": "code",
   "execution_count": 19,
   "metadata": {},
   "outputs": [],
   "source": [
    "with open('labels.csv', mode='w') as classes:\n",
    "    writer = csv.writer(classes,delimiter='\\n', quotechar='\"', quoting=csv.QUOTE_MINIMAL)\n",
    "    writer.writerows([labels])"
   ]
  },
  {
   "cell_type": "code",
   "execution_count": 20,
   "metadata": {},
   "outputs": [
    {
     "name": "stdout",
     "output_type": "stream",
     "text": [
      "Look for cleaned up messages.csv and labels.csv in, C:\\Users\\vigupta\\OneDrive\\Learning\\DataScience\\DeepLearning\\CS230\\Project\\Hinglish-Offensive-Text-Classification-master\n"
     ]
    }
   ],
   "source": [
    "print(\"Look for cleaned up messages.csv and labels.csv in,\", os.getcwd())"
   ]
  },
  {
   "cell_type": "code",
   "execution_count": 21,
   "metadata": {},
   "outputs": [],
   "source": [
    "np.random.seed(1)\n",
    "A_prev = np.random.randn(10,5,7,4)"
   ]
  },
  {
   "cell_type": "code",
   "execution_count": 26,
   "metadata": {},
   "outputs": [
    {
     "data": {
      "text/plain": [
       "(5, 7, 4)"
      ]
     },
     "execution_count": 26,
     "metadata": {},
     "output_type": "execute_result"
    }
   ],
   "source": [
    "A_prev[2,:,:,:].shape"
   ]
  },
  {
   "cell_type": "code",
   "execution_count": 27,
   "metadata": {},
   "outputs": [],
   "source": [
    "W = np.random.randn(3,3,4,8)"
   ]
  },
  {
   "cell_type": "code",
   "execution_count": 35,
   "metadata": {},
   "outputs": [
    {
     "data": {
      "text/plain": [
       "(3, 3, 8)"
      ]
     },
     "execution_count": 35,
     "metadata": {},
     "output_type": "execute_result"
    }
   ],
   "source": [
    "W[:,:,2,0:8].shape"
   ]
  },
  {
   "cell_type": "code",
   "execution_count": 36,
   "metadata": {},
   "outputs": [],
   "source": [
    "b = np.random.randn(1,1,1,8)"
   ]
  },
  {
   "cell_type": "code",
   "execution_count": 38,
   "metadata": {},
   "outputs": [
    {
     "data": {
      "text/plain": [
       "(1, 1, 1)"
      ]
     },
     "execution_count": 38,
     "metadata": {},
     "output_type": "execute_result"
    }
   ],
   "source": [
    "b[:,:,:, 1].shape"
   ]
  },
  {
   "cell_type": "code",
   "execution_count": null,
   "metadata": {},
   "outputs": [],
   "source": []
  }
 ],
 "metadata": {
  "kernelspec": {
   "display_name": "Python 3",
   "language": "python",
   "name": "python3"
  },
  "language_info": {
   "codemirror_mode": {
    "name": "ipython",
    "version": 3
   },
   "file_extension": ".py",
   "mimetype": "text/x-python",
   "name": "python",
   "nbconvert_exporter": "python",
   "pygments_lexer": "ipython3",
   "version": "3.7.3"
  }
 },
 "nbformat": 4,
 "nbformat_minor": 2
}
