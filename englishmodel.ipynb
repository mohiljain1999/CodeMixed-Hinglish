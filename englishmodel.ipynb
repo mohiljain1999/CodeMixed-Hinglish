{
 "cells": [
  {
   "cell_type": "code",
   "execution_count": 58,
   "metadata": {},
   "outputs": [
    {
     "data": {
      "text/html": [
       "        <script type=\"text/javascript\">\n",
       "        window.PlotlyConfig = {MathJaxConfig: 'local'};\n",
       "        if (window.MathJax) {MathJax.Hub.Config({SVG: {font: \"STIX-Web\"}});}\n",
       "        if (typeof require !== 'undefined') {\n",
       "        require.undef(\"plotly\");\n",
       "        requirejs.config({\n",
       "            paths: {\n",
       "                'plotly': ['https://cdn.plot.ly/plotly-latest.min']\n",
       "            }\n",
       "        });\n",
       "        require(['plotly'], function(Plotly) {\n",
       "            window._Plotly = Plotly;\n",
       "        });\n",
       "        }\n",
       "        </script>\n",
       "        "
      ]
     },
     "metadata": {},
     "output_type": "display_data"
    }
   ],
   "source": [
    "import os\n",
    "import keras\n",
    "import io\n",
    "import csv\n",
    "import time\n",
    "import datetime\n",
    "\n",
    "from keras.preprocessing.text import Tokenizer \n",
    "from keras.preprocessing.sequence import pad_sequences \n",
    "import numpy as np\n",
    "from keras.utils import np_utils\n",
    "from keras.utils import to_categorical\n",
    "from keras.layers import Dropout, SimpleRNN, LSTM\n",
    "from keras.layers import BatchNormalization\n",
    "from keras.optimizers import Adam\n",
    "import keras_metrics\n",
    "from keras.utils.vis_utils import plot_model\n",
    "from keras.callbacks import TensorBoard, ModelCheckpoint, EarlyStopping\n",
    "\n",
    "\n",
    "from sklearn.model_selection import cross_val_score\n",
    "from sklearn.model_selection import KFold\n",
    "from sklearn.preprocessing import LabelEncoder\n",
    "from sklearn.pipeline import Pipeline\n",
    "\n",
    "from keras.models import Sequential\n",
    "from keras.layers import Embedding, Flatten, Dense, Conv1D, MaxPooling1D, GlobalMaxPooling1D \n",
    "\n",
    "\n",
    "## Plotly\n",
    "import plotly.offline as py\n",
    "import plotly.graph_objs as go\n",
    "py.init_notebook_mode(connected=True)\n",
    "\n",
    "import matplotlib.pyplot as plt\n",
    "%matplotlib inline\n",
    "from sklearn.manifold import TSNE\n",
    "import time\n"
   ]
  },
  {
   "cell_type": "code",
   "execution_count": 12,
   "metadata": {},
   "outputs": [],
   "source": [
    "##Set params for the model\n",
    "tensorBoard_logs_dir = '.\\\\logs\\\\'\n",
    "model_dir = '.\\\\models\\\\'\n",
    "glove_dir = '.\\\\models\\\\glove'\n",
    "train_dir = '.\\\\data\\\\train'\n",
    "train_data = 'transmessages.csv'\n",
    "label_data = 'labels.csv'\n",
    "train_engdata = 'engmessages.csv'\n",
    "label_engdata = 'englabels.csv'\n",
    "\n",
    "maxlen = 100\n",
    "training_samples = 2800\n",
    "validation_samples = 500# len(labels) - training_samples #\n",
    "training_engsamples = 22000\n",
    "validation_engsamples = 2000# len(labels) - training_samples #\n",
    "\n",
    "max_words = 10000\n",
    "num_filters = 64 \n",
    "embedding_dim = 100\n",
    "num_filters = 64 \n",
    "num_classes = 3\n",
    "\n"
   ]
  },
  {
   "cell_type": "code",
   "execution_count": 34,
   "metadata": {},
   "outputs": [
    {
     "data": {
      "text/plain": [
       "array(['2', '1', '1', ..., '1', '1', '2'], dtype='<U1')"
      ]
     },
     "execution_count": 34,
     "metadata": {},
     "output_type": "execute_result"
    }
   ],
   "source": [
    "texts = []\n",
    "labels = []\n",
    "\n",
    "with open(os.path.join(train_dir, train_engdata), newline ='') as messageData:\n",
    "    reader = csv.reader(messageData)\n",
    "    for row in reader:\n",
    "        message = (''.join(row))\n",
    "        texts.append(message)\n",
    "\n",
    "with open(os.path.join(train_dir, label_engdata)) as labelData:\n",
    "    reader = csv.reader(labelData)\n",
    "    for row in reader:\n",
    "        #label = (''.join(row))\n",
    "        labels.append(row)\n",
    "np.squeeze(labels[:])\n"
   ]
  },
  {
   "cell_type": "code",
   "execution_count": 35,
   "metadata": {},
   "outputs": [
    {
     "data": {
      "text/plain": [
       "array([ 1430., 19190.,  4163.], dtype=float32)"
      ]
     },
     "execution_count": 35,
     "metadata": {},
     "output_type": "execute_result"
    }
   ],
   "source": [
    "'''\n",
    "encoder = LabelEncoder()\n",
    "encoder.fit(labels)\n",
    "encoded_Y = encoder.transform(labels,)\n",
    "labells = np_utils.to_categorical(encoded_Y)\n",
    "print(labells[0,])\n",
    "\n",
    "'''\n",
    "labells = np_utils.to_categorical(labels, num_classes=num_classes)\n",
    "labells[0:20,]\n",
    "np.sum(labells, axis = 0)"
   ]
  },
  {
   "cell_type": "code",
   "execution_count": 39,
   "metadata": {},
   "outputs": [
    {
     "name": "stdout",
     "output_type": "stream",
     "text": [
      "Found 21214 unique tokens.\n",
      "Shape of the data tensor: (24783, 100)\n",
      "Shape of the label tensor: (24783, 3)\n",
      "Train length 22000\n",
      "Test length 500\n"
     ]
    }
   ],
   "source": [
    "##Tokenizer, Sequencer and padding via Keras\n",
    "np.random.seed(1) \n",
    "\n",
    "#tokenize the data for the maxwords\n",
    "tokenizer = Tokenizer(num_words=max_words)\n",
    "tokenizer.fit_on_texts(texts)\n",
    "\n",
    "#Generate the sequences on texts on the the data by tokenizer\n",
    "sequences = tokenizer.texts_to_sequences(texts)\n",
    "\n",
    "word_index = tokenizer.word_index\n",
    "print('Found %s unique tokens.'% len(word_index))\n",
    "#print(word_index)\n",
    "#Padding sequences (making them all equal)\n",
    "data = pad_sequences(sequences, maxlen=maxlen)\n",
    "\n",
    "labels = np.asarray(labels)\n",
    "print('Shape of the data tensor:' , data.shape)\n",
    "print('Shape of the label tensor:' , labells.shape)\n",
    "\n",
    "indices = np.arange(data.shape[0])\n",
    "np.random.shuffle(indices)\n",
    "\n",
    "data = data[indices]\n",
    "labels = labells[indices,:]\n",
    "\n",
    "x_train = data[:training_engsamples]\n",
    "y_train = labels[:training_engsamples]\n",
    "\n",
    "x_test = data[training_samples:training_samples + validation_samples]\n",
    "y_test = labels[training_samples:training_samples + validation_samples]\n",
    "\n",
    "print(\"Train length\" , len(x_train))\n",
    "print(\"Test length\" , len(x_test))\n",
    "\n",
    "with open(os.path.join(tensorBoard_logs_dir, 'metadata.tsv'), 'w') as f:\n",
    "    np.savetxt(f, y_test)\n"
   ]
  },
  {
   "cell_type": "code",
   "execution_count": 37,
   "metadata": {},
   "outputs": [
    {
     "data": {
      "text/plain": [
       "array([[1., 0., 0.],\n",
       "       [0., 1., 0.],\n",
       "       [0., 1., 0.],\n",
       "       ...,\n",
       "       [0., 1., 0.],\n",
       "       [0., 1., 0.],\n",
       "       [0., 1., 0.]], dtype=float32)"
      ]
     },
     "execution_count": 37,
     "metadata": {},
     "output_type": "execute_result"
    }
   ],
   "source": [
    "y_test"
   ]
  },
  {
   "cell_type": "code",
   "execution_count": 38,
   "metadata": {},
   "outputs": [
    {
     "name": "stdout",
     "output_type": "stream",
     "text": [
      "Found 400000 word vectors\n"
     ]
    }
   ],
   "source": [
    "np.random.seed(1) \n",
    "embedding_index = {}\n",
    "f = open(os.path.join(glove_dir, 'glove.6B.100d.txt'), encoding=\"utf8\")\n",
    "\n",
    "for line in f:\n",
    "    values = line.split()\n",
    "    word = values[0]\n",
    "   # print(word)\n",
    "    coefs = np.asarray(values[1:], dtype = 'float32')\n",
    "    embedding_index[word] = coefs\n",
    "f.close()\n",
    "\n",
    "\n",
    "print('Found %s word vectors' % len(embedding_index))"
   ]
  },
  {
   "cell_type": "code",
   "execution_count": 40,
   "metadata": {},
   "outputs": [
    {
     "name": "stdout",
     "output_type": "stream",
     "text": [
      "(10000, 100)\n"
     ]
    }
   ],
   "source": [
    "np.random.seed(1) \n",
    "embedding_matrix = np.zeros((max_words, embedding_dim))\n",
    "\n",
    "for word, i in word_index.items():\n",
    "    if i < max_words:\n",
    "        embedding_vector = embedding_index.get(word)\n",
    "        if embedding_vector is not None:\n",
    "            embedding_matrix[i] = embedding_vector\n",
    "print(embedding_matrix.shape)       \n",
    "#embedding_matrix[0:10, ]"
   ]
  },
  {
   "cell_type": "code",
   "execution_count": 95,
   "metadata": {},
   "outputs": [],
   "source": [
    "def save_model(model_qualifier, model, location):\n",
    "    model_name = model_qualifier + \"-{}\".format(datetime.date.today()) + \"-{}\".format(time.time()) + \".h5\"\n",
    "    try:\n",
    "        model.save(os.path.join(location, model_name))\n",
    "        #plot_model(model, to_file=os.path.join(location, model_name)+ '.png')\n",
    "    except:\n",
    "        print(\"Exception occured while saving the model to disc.\")"
   ]
  },
  {
   "cell_type": "code",
   "execution_count": 101,
   "metadata": {},
   "outputs": [
    {
     "name": "stdout",
     "output_type": "stream",
     "text": [
      "Model: \"sequential_11\"\n",
      "_________________________________________________________________\n",
      "Layer (type)                 Output Shape              Param #   \n",
      "=================================================================\n",
      "embedding_11 (Embedding)     (None, 100, 100)          1000000   \n",
      "_________________________________________________________________\n",
      "conv1d_31 (Conv1D)           (None, 100, 64)           44864     \n",
      "_________________________________________________________________\n",
      "batch_normalization_29 (Batc (None, 100, 64)           256       \n",
      "_________________________________________________________________\n",
      "dropout_53 (Dropout)         (None, 100, 64)           0         \n",
      "_________________________________________________________________\n",
      "max_pooling1d_21 (MaxPooling (None, 50, 64)            0         \n",
      "_________________________________________________________________\n",
      "conv1d_32 (Conv1D)           (None, 50, 64)            28736     \n",
      "_________________________________________________________________\n",
      "batch_normalization_30 (Batc (None, 50, 64)            256       \n",
      "_________________________________________________________________\n",
      "dropout_54 (Dropout)         (None, 50, 64)            0         \n",
      "_________________________________________________________________\n",
      "max_pooling1d_22 (MaxPooling (None, 25, 64)            0         \n",
      "_________________________________________________________________\n",
      "conv1d_33 (Conv1D)           (None, 25, 64)            28736     \n",
      "_________________________________________________________________\n",
      "batch_normalization_31 (Batc (None, 25, 64)            256       \n",
      "_________________________________________________________________\n",
      "dropout_55 (Dropout)         (None, 25, 64)            0         \n",
      "_________________________________________________________________\n",
      "global_max_pooling1d_11 (Glo (None, 64)                0         \n",
      "_________________________________________________________________\n",
      "dropout_56 (Dropout)         (None, 64)                0         \n",
      "_________________________________________________________________\n",
      "dense_27 (Dense)             (None, 64)                4160      \n",
      "_________________________________________________________________\n",
      "batch_normalization_32 (Batc (None, 64)                256       \n",
      "_________________________________________________________________\n",
      "dropout_57 (Dropout)         (None, 64)                0         \n",
      "_________________________________________________________________\n",
      "dense_28 (Dense)             (None, 64)                4160      \n",
      "_________________________________________________________________\n",
      "dropout_58 (Dropout)         (None, 64)                0         \n",
      "_________________________________________________________________\n",
      "dense_29 (Dense)             (None, 3)                 195       \n",
      "=================================================================\n",
      "Total params: 1,111,875\n",
      "Trainable params: 111,363\n",
      "Non-trainable params: 1,000,512\n",
      "_________________________________________________________________\n"
     ]
    }
   ],
   "source": [
    "np.random.seed(1) \n",
    "model = Sequential() \n",
    "model.add(Embedding(max_words, embedding_dim, input_length=maxlen))\n",
    "'''\n",
    "model.add(LSTM(32, recurrent_dropout = 0.2, return_sequences=True))\n",
    "model.add(LSTM(32, recurrent_dropout = 0.2, return_sequences=True))\n",
    "model.add(LSTM(32, recurrent_dropout = 0.2, return_sequences=True))\n",
    "model.add(LSTM(32))\n",
    "\n",
    "'''\n",
    "model.add(Conv1D(num_filters, 7, activation='relu', padding='same'))\n",
    "model.add(BatchNormalization())\n",
    "model.add(Dropout(0.5))\n",
    "model.add(MaxPooling1D(2))\n",
    "model.add(Conv1D(num_filters, 7, activation='relu', padding='same'))\n",
    "model.add(BatchNormalization())\n",
    "model.add(Dropout(0.5))\n",
    "model.add(MaxPooling1D(2))\n",
    "model.add(Conv1D(num_filters, 7, activation='relu', padding='same'))\n",
    "model.add(BatchNormalization())\n",
    "model.add(Dropout(0.5))\n",
    "model.add(GlobalMaxPooling1D())\n",
    "model.add(Dropout(0.5))\n",
    "#model.add(Flatten())\n",
    "model.add(Dense(64, activation = 'relu'))\n",
    "model.add(BatchNormalization())\n",
    "model.add(Dropout(0.5))\n",
    "model.add(Dense(64, activation = 'relu'))\n",
    "model.add(Dropout(0.5))\n",
    "#model.add(BatchNormalization())\n",
    "model.add(Dense(3, activation = 'softmax'))\n",
    "model.layers[0].set_weights([embedding_matrix])\n",
    "model.layers[0].trainable = False\n",
    "model.summary()\n",
    "model_name = \"English-Emb-TFL-CNN_64x7x3_DO-Dense_64x2-{}\".format(int(time.time()))\n"
   ]
  },
  {
   "cell_type": "code",
   "execution_count": 102,
   "metadata": {},
   "outputs": [],
   "source": [
    "optimizer = Adam(learning_rate=0.01, decay=1e-6)\n",
    "model.compile(optimizer=optimizer, loss = 'categorical_crossentropy', metrics=['acc'])"
   ]
  },
  {
   "cell_type": "code",
   "execution_count": 103,
   "metadata": {},
   "outputs": [],
   "source": [
    "#callbacks \n",
    "earlystopping = EarlyStopping(monitor='val_acc', mode='min', verbose=1, patience=40, restore_best_weights= True)\n",
    "\n",
    "modelcheckpoint = ModelCheckpoint('.\\\\models\\Best_English-Emb-TFL-CNN_64x7x3_DO-Dense_64x2_model.h5', monitor='val_acc', mode='min', verbose=1)\n",
    "\n",
    "reduce_lr_plateau = keras.callbacks.callbacks.ReduceLROnPlateau(monitor='val_acc', factor=0.1, patience=10, verbose=0, mode='auto', min_delta=0.0001, cooldown=0, min_lr=0)\n",
    "\n",
    "\n",
    "tensorboard = TensorBoard(log_dir = tensorBoard_logs_dir + '{}'.format(model_name), \n",
    "                         histogram_freq=1,\n",
    "                         #embeddings_freq=1\n",
    "                         )"
   ]
  },
  {
   "cell_type": "code",
   "execution_count": 104,
   "metadata": {},
   "outputs": [
    {
     "name": "stdout",
     "output_type": "stream",
     "text": [
      "Train on 19800 samples, validate on 2200 samples\n",
      "Epoch 1/100\n",
      "19800/19800 [==============================] - 44s 2ms/step - loss: 0.8472 - acc: 0.7237 - val_loss: 0.6483 - val_acc: 0.7750\n",
      "\n",
      "Epoch 00001: saving model to .\\models\\Best_English-Emb-TFL-CNN_64x7x3_DO-Dense_64x2_model.h5\n",
      "Epoch 2/100\n",
      "19800/19800 [==============================] - 35s 2ms/step - loss: 0.5626 - acc: 0.7940 - val_loss: 0.5486 - val_acc: 0.8455\n",
      "\n",
      "Epoch 00002: saving model to .\\models\\Best_English-Emb-TFL-CNN_64x7x3_DO-Dense_64x2_model.h5\n",
      "Epoch 3/100\n",
      "19800/19800 [==============================] - 31s 2ms/step - loss: 0.4707 - acc: 0.8361 - val_loss: 0.5272 - val_acc: 0.8577\n",
      "\n",
      "Epoch 00003: saving model to .\\models\\Best_English-Emb-TFL-CNN_64x7x3_DO-Dense_64x2_model.h5\n",
      "Epoch 4/100\n",
      "19800/19800 [==============================] - 30s 2ms/step - loss: 0.4232 - acc: 0.8564 - val_loss: 0.4953 - val_acc: 0.8541\n",
      "\n",
      "Epoch 00004: saving model to .\\models\\Best_English-Emb-TFL-CNN_64x7x3_DO-Dense_64x2_model.h5\n",
      "Epoch 5/100\n",
      "19800/19800 [==============================] - 29s 1ms/step - loss: 0.4062 - acc: 0.8642 - val_loss: 0.4860 - val_acc: 0.8664\n",
      "\n",
      "Epoch 00005: saving model to .\\models\\Best_English-Emb-TFL-CNN_64x7x3_DO-Dense_64x2_model.h5\n",
      "Epoch 6/100\n",
      "19800/19800 [==============================] - 29s 1ms/step - loss: 0.3841 - acc: 0.8722 - val_loss: 0.4769 - val_acc: 0.8564\n",
      "\n",
      "Epoch 00006: saving model to .\\models\\Best_English-Emb-TFL-CNN_64x7x3_DO-Dense_64x2_model.h5\n",
      "Epoch 7/100\n",
      "19800/19800 [==============================] - 31s 2ms/step - loss: 0.3732 - acc: 0.8778 - val_loss: 0.4497 - val_acc: 0.8573\n",
      "\n",
      "Epoch 00007: saving model to .\\models\\Best_English-Emb-TFL-CNN_64x7x3_DO-Dense_64x2_model.h5\n",
      "Epoch 8/100\n",
      "19800/19800 [==============================] - 34s 2ms/step - loss: 0.3584 - acc: 0.8817 - val_loss: 0.4623 - val_acc: 0.8559\n",
      "\n",
      "Epoch 00008: saving model to .\\models\\Best_English-Emb-TFL-CNN_64x7x3_DO-Dense_64x2_model.h5\n",
      "Epoch 9/100\n",
      "19800/19800 [==============================] - 29s 1ms/step - loss: 0.3519 - acc: 0.8849 - val_loss: 0.4232 - val_acc: 0.8627\n",
      "\n",
      "Epoch 00009: saving model to .\\models\\Best_English-Emb-TFL-CNN_64x7x3_DO-Dense_64x2_model.h5\n",
      "Epoch 10/100\n",
      "19800/19800 [==============================] - 27s 1ms/step - loss: 0.3439 - acc: 0.8892 - val_loss: 0.4088 - val_acc: 0.8582\n",
      "\n",
      "Epoch 00010: saving model to .\\models\\Best_English-Emb-TFL-CNN_64x7x3_DO-Dense_64x2_model.h5\n",
      "Epoch 11/100\n",
      "19800/19800 [==============================] - 28s 1ms/step - loss: 0.3380 - acc: 0.8917 - val_loss: 0.4874 - val_acc: 0.8477\n",
      "\n",
      "Epoch 00011: saving model to .\\models\\Best_English-Emb-TFL-CNN_64x7x3_DO-Dense_64x2_model.h5\n",
      "Epoch 12/100\n",
      "19800/19800 [==============================] - 29s 1ms/step - loss: 0.3295 - acc: 0.8925 - val_loss: 0.4068 - val_acc: 0.8627\n",
      "\n",
      "Epoch 00012: saving model to .\\models\\Best_English-Emb-TFL-CNN_64x7x3_DO-Dense_64x2_model.h5\n",
      "Epoch 13/100\n",
      "19800/19800 [==============================] - 26s 1ms/step - loss: 0.3247 - acc: 0.8956 - val_loss: 0.3881 - val_acc: 0.8691\n",
      "\n",
      "Epoch 00013: saving model to .\\models\\Best_English-Emb-TFL-CNN_64x7x3_DO-Dense_64x2_model.h5\n",
      "Epoch 14/100\n",
      "19800/19800 [==============================] - 26s 1ms/step - loss: 0.3191 - acc: 0.8972 - val_loss: 0.4043 - val_acc: 0.8723\n",
      "\n",
      "Epoch 00014: saving model to .\\models\\Best_English-Emb-TFL-CNN_64x7x3_DO-Dense_64x2_model.h5\n",
      "Epoch 15/100\n",
      "19800/19800 [==============================] - 26s 1ms/step - loss: 0.3097 - acc: 0.9004 - val_loss: 0.3648 - val_acc: 0.8750\n",
      "\n",
      "Epoch 00015: saving model to .\\models\\Best_English-Emb-TFL-CNN_64x7x3_DO-Dense_64x2_model.h5\n",
      "Epoch 16/100\n",
      "19800/19800 [==============================] - 26s 1ms/step - loss: 0.3068 - acc: 0.9013 - val_loss: 0.4082 - val_acc: 0.8636\n",
      "\n",
      "Epoch 00016: saving model to .\\models\\Best_English-Emb-TFL-CNN_64x7x3_DO-Dense_64x2_model.h5\n",
      "Epoch 17/100\n",
      "19800/19800 [==============================] - 27s 1ms/step - loss: 0.2966 - acc: 0.9036 - val_loss: 0.3744 - val_acc: 0.8723\n",
      "\n",
      "Epoch 00017: saving model to .\\models\\Best_English-Emb-TFL-CNN_64x7x3_DO-Dense_64x2_model.h5\n",
      "Epoch 18/100\n",
      "19800/19800 [==============================] - 28s 1ms/step - loss: 0.2890 - acc: 0.9031 - val_loss: 0.3435 - val_acc: 0.8768\n",
      "\n",
      "Epoch 00018: saving model to .\\models\\Best_English-Emb-TFL-CNN_64x7x3_DO-Dense_64x2_model.h5\n",
      "Epoch 19/100\n",
      "19800/19800 [==============================] - 27s 1ms/step - loss: 0.2928 - acc: 0.9038 - val_loss: 0.3969 - val_acc: 0.8682\n",
      "\n",
      "Epoch 00019: saving model to .\\models\\Best_English-Emb-TFL-CNN_64x7x3_DO-Dense_64x2_model.h5\n",
      "Epoch 20/100\n",
      "19800/19800 [==============================] - 29s 1ms/step - loss: 0.2842 - acc: 0.9057 - val_loss: 0.3457 - val_acc: 0.8791\n",
      "\n",
      "Epoch 00020: saving model to .\\models\\Best_English-Emb-TFL-CNN_64x7x3_DO-Dense_64x2_model.h5\n",
      "Epoch 21/100\n",
      "19800/19800 [==============================] - 33s 2ms/step - loss: 0.2777 - acc: 0.9055 - val_loss: 0.3394 - val_acc: 0.8836\n",
      "\n",
      "Epoch 00021: saving model to .\\models\\Best_English-Emb-TFL-CNN_64x7x3_DO-Dense_64x2_model.h5\n",
      "Epoch 22/100\n",
      "19800/19800 [==============================] - 29s 1ms/step - loss: 0.2848 - acc: 0.9042 - val_loss: 0.3663 - val_acc: 0.8736\n",
      "\n",
      "Epoch 00022: saving model to .\\models\\Best_English-Emb-TFL-CNN_64x7x3_DO-Dense_64x2_model.h5\n",
      "Epoch 23/100\n",
      "19800/19800 [==============================] - 28s 1ms/step - loss: 0.2729 - acc: 0.9085 - val_loss: 0.3573 - val_acc: 0.8773\n",
      "\n",
      "Epoch 00023: saving model to .\\models\\Best_English-Emb-TFL-CNN_64x7x3_DO-Dense_64x2_model.h5\n",
      "Epoch 24/100\n",
      "19800/19800 [==============================] - 29s 1ms/step - loss: 0.2619 - acc: 0.9104 - val_loss: 0.3548 - val_acc: 0.8741\n",
      "\n",
      "Epoch 00024: saving model to .\\models\\Best_English-Emb-TFL-CNN_64x7x3_DO-Dense_64x2_model.h5\n",
      "Epoch 25/100\n",
      "19800/19800 [==============================] - 28s 1ms/step - loss: 0.2626 - acc: 0.9125 - val_loss: 0.3844 - val_acc: 0.8750\n",
      "\n",
      "Epoch 00025: saving model to .\\models\\Best_English-Emb-TFL-CNN_64x7x3_DO-Dense_64x2_model.h5\n",
      "Epoch 26/100\n",
      "19800/19800 [==============================] - 29s 1ms/step - loss: 0.2652 - acc: 0.9081 - val_loss: 0.3537 - val_acc: 0.8786\n",
      "\n",
      "Epoch 00026: saving model to .\\models\\Best_English-Emb-TFL-CNN_64x7x3_DO-Dense_64x2_model.h5\n",
      "Epoch 27/100\n",
      "19800/19800 [==============================] - 37s 2ms/step - loss: 0.2602 - acc: 0.9105 - val_loss: 0.3468 - val_acc: 0.8827\n",
      "\n",
      "Epoch 00027: saving model to .\\models\\Best_English-Emb-TFL-CNN_64x7x3_DO-Dense_64x2_model.h5\n",
      "Epoch 28/100\n",
      "19800/19800 [==============================] - 34s 2ms/step - loss: 0.2475 - acc: 0.9124 - val_loss: 0.3508 - val_acc: 0.8805\n",
      "\n",
      "Epoch 00028: saving model to .\\models\\Best_English-Emb-TFL-CNN_64x7x3_DO-Dense_64x2_model.h5\n",
      "Epoch 29/100\n",
      "19800/19800 [==============================] - 32s 2ms/step - loss: 0.2468 - acc: 0.9132 - val_loss: 0.3622 - val_acc: 0.8759\n",
      "\n",
      "Epoch 00029: saving model to .\\models\\Best_English-Emb-TFL-CNN_64x7x3_DO-Dense_64x2_model.h5\n",
      "Epoch 30/100\n",
      "19800/19800 [==============================] - 30s 1ms/step - loss: 0.2427 - acc: 0.9133 - val_loss: 0.3583 - val_acc: 0.8723\n",
      "\n",
      "Epoch 00030: saving model to .\\models\\Best_English-Emb-TFL-CNN_64x7x3_DO-Dense_64x2_model.h5\n",
      "Epoch 31/100\n",
      "19800/19800 [==============================] - 28s 1ms/step - loss: 0.2391 - acc: 0.9130 - val_loss: 0.3557 - val_acc: 0.8777\n",
      "\n",
      "Epoch 00031: saving model to .\\models\\Best_English-Emb-TFL-CNN_64x7x3_DO-Dense_64x2_model.h5\n",
      "Epoch 32/100\n",
      "19800/19800 [==============================] - 30s 2ms/step - loss: 0.2303 - acc: 0.9167 - val_loss: 0.3642 - val_acc: 0.8709\n",
      "\n",
      "Epoch 00032: saving model to .\\models\\Best_English-Emb-TFL-CNN_64x7x3_DO-Dense_64x2_model.h5\n",
      "Epoch 33/100\n",
      "19800/19800 [==============================] - 31s 2ms/step - loss: 0.2199 - acc: 0.9194 - val_loss: 0.3604 - val_acc: 0.8741\n",
      "\n",
      "Epoch 00033: saving model to .\\models\\Best_English-Emb-TFL-CNN_64x7x3_DO-Dense_64x2_model.h5\n",
      "Epoch 34/100\n",
      "19800/19800 [==============================] - 28s 1ms/step - loss: 0.2124 - acc: 0.9198 - val_loss: 0.3694 - val_acc: 0.8736\n",
      "\n",
      "Epoch 00034: saving model to .\\models\\Best_English-Emb-TFL-CNN_64x7x3_DO-Dense_64x2_model.h5\n",
      "Epoch 35/100\n",
      "19800/19800 [==============================] - 27s 1ms/step - loss: 0.2127 - acc: 0.9212 - val_loss: 0.3696 - val_acc: 0.8727\n",
      "\n"
     ]
    },
    {
     "name": "stdout",
     "output_type": "stream",
     "text": [
      "Epoch 00035: saving model to .\\models\\Best_English-Emb-TFL-CNN_64x7x3_DO-Dense_64x2_model.h5\n",
      "Epoch 36/100\n",
      "19800/19800 [==============================] - 27s 1ms/step - loss: 0.2078 - acc: 0.9227 - val_loss: 0.3776 - val_acc: 0.8709\n",
      "\n",
      "Epoch 00036: saving model to .\\models\\Best_English-Emb-TFL-CNN_64x7x3_DO-Dense_64x2_model.h5\n",
      "Epoch 37/100\n",
      "19800/19800 [==============================] - 27s 1ms/step - loss: 0.2005 - acc: 0.9235 - val_loss: 0.3919 - val_acc: 0.8659\n",
      "\n",
      "Epoch 00037: saving model to .\\models\\Best_English-Emb-TFL-CNN_64x7x3_DO-Dense_64x2_model.h5\n",
      "Epoch 38/100\n",
      "19800/19800 [==============================] - 27s 1ms/step - loss: 0.2020 - acc: 0.9238 - val_loss: 0.3989 - val_acc: 0.8668\n",
      "\n",
      "Epoch 00038: saving model to .\\models\\Best_English-Emb-TFL-CNN_64x7x3_DO-Dense_64x2_model.h5\n",
      "Epoch 39/100\n",
      "19800/19800 [==============================] - 27s 1ms/step - loss: 0.2005 - acc: 0.9247 - val_loss: 0.3890 - val_acc: 0.8668\n",
      "\n",
      "Epoch 00039: saving model to .\\models\\Best_English-Emb-TFL-CNN_64x7x3_DO-Dense_64x2_model.h5\n",
      "Epoch 40/100\n",
      "19800/19800 [==============================] - 27s 1ms/step - loss: 0.2003 - acc: 0.9234 - val_loss: 0.3907 - val_acc: 0.8691\n",
      "\n",
      "Epoch 00040: saving model to .\\models\\Best_English-Emb-TFL-CNN_64x7x3_DO-Dense_64x2_model.h5\n",
      "Epoch 41/100\n",
      "19800/19800 [==============================] - 27s 1ms/step - loss: 0.2001 - acc: 0.9245 - val_loss: 0.3846 - val_acc: 0.8682\n",
      "Restoring model weights from the end of the best epoch\n",
      "\n",
      "Epoch 00041: saving model to .\\models\\Best_English-Emb-TFL-CNN_64x7x3_DO-Dense_64x2_model.h5\n",
      "Epoch 00041: early stopping\n",
      "500/500 [==============================] - 0s 404us/step\n"
     ]
    }
   ],
   "source": [
    "history = model.fit(x_train, y_train, epochs = 100, batch_size = 512,validation_split=0.1, callbacks = [tensorboard, earlystopping, reduce_lr_plateau, modelcheckpoint])\n",
    "results = model.evaluate(x_test, y_test)\n",
    "model.save_weights(model_dir + '{}'.format(model_name)+'.h5')\n",
    "save_model(\"English-Emb-TFL-CNN_64x7x3_DO-Dense_64x2\", model, \".\\\\models\")"
   ]
  },
  {
   "cell_type": "code",
   "execution_count": 77,
   "metadata": {},
   "outputs": [
    {
     "data": {
      "text/plain": [
       "'C:\\\\Users\\\\vigupta\\\\source\\\\repos\\\\CodeMixed-Hinglish'"
      ]
     },
     "execution_count": 77,
     "metadata": {},
     "output_type": "execute_result"
    }
   ],
   "source": [
    "os.getcwd()"
   ]
  },
  {
   "cell_type": "code",
   "execution_count": 105,
   "metadata": {},
   "outputs": [
    {
     "data": {
      "image/png": "[encoded data removed]",
      "text/plain": [
       "<Figure size 432x288 with 1 Axes>"
      ]
     },
     "metadata": {
      "needs_background": "light"
     },
     "output_type": "display_data"
    },
    {
     "data": {
      "image/png": "[encoded data removed]",
      "text/plain": [
       "<Figure size 432x288 with 1 Axes>"
      ]
     },
     "metadata": {
      "needs_background": "light"
     },
     "output_type": "display_data"
    },
    {
     "data": {
      "text/plain": [
       "<Figure size 432x288 with 0 Axes>"
      ]
     },
     "metadata": {},
     "output_type": "display_data"
    }
   ],
   "source": [
    "acc = history.history['acc']\n",
    "val_acc = history.history['val_acc']\n",
    "loss = history.history['loss']\n",
    "val_loss = history.history['val_loss']\n",
    "\n",
    "epochs = range(1, len(acc)+1)\n",
    "\n",
    "plt.plot(epochs, acc, 'bo', label ='Training acc')\n",
    "plt.plot(epochs, val_acc, 'b', label ='Validation acc')\n",
    "plt.title(\"Training and validation accuracy\")\n",
    "plt.legend()\n",
    "plt.figure()\n",
    "\n",
    "plt.plot(epochs, loss, 'bo', label ='Training Loss')\n",
    "plt.plot(epochs, val_loss, 'b', label ='Validation Loss')\n",
    "plt.title(\"Training and validation Losses\")\n",
    "plt.legend()\n",
    "plt.figure()\n",
    "\n",
    "plt.show()"
   ]
  },
  {
   "cell_type": "code",
   "execution_count": 106,
   "metadata": {},
   "outputs": [
    {
     "name": "stdout",
     "output_type": "stream",
     "text": [
      "['loss', 'acc']\n"
     ]
    },
    {
     "data": {
      "text/plain": [
       "[0.613394326210022, 0.8100000023841858]"
      ]
     },
     "execution_count": 106,
     "metadata": {},
     "output_type": "execute_result"
    }
   ],
   "source": [
    "print(model.metrics_names)\n",
    "results"
   ]
  },
  {
   "cell_type": "code",
   "execution_count": 107,
   "metadata": {},
   "outputs": [
    {
     "name": "stdout",
     "output_type": "stream",
     "text": [
      "(10000, 100)\n"
     ]
    },
    {
     "data": {
      "text/plain": [
       "array([[ 3.3097e-01,  8.2649e-02,  6.6941e-01, -8.0890e-01, -2.2723e-01,\n",
       "         3.6855e-01,  2.5496e-01,  1.4880e-01,  2.4357e-01,  1.1173e-01],\n",
       "       [ 1.5731e-01,  3.9530e-01,  6.3586e-01, -1.0975e+00, -9.5768e-01,\n",
       "        -1.3841e-02, -1.9853e-01,  2.5418e-01,  3.6731e-01, -1.7486e-01],\n",
       "       [ 6.7826e-01,  4.8788e-02,  5.8604e-01, -8.6665e-01, -8.4912e-01,\n",
       "         3.1358e-01,  2.4237e-01, -1.1072e-01, -1.8458e-01, -4.1500e-01],\n",
       "       [-2.6870e-01,  8.1708e-01,  6.9896e-01, -7.2341e-01,  9.1566e-02,\n",
       "         1.9557e-01, -5.2112e-01, -2.4313e-01, -4.4701e-01, -2.7039e-01],\n",
       "       [ 5.8854e-01, -2.0250e-01,  7.3479e-01, -6.8338e-01, -1.9675e-01,\n",
       "        -1.8020e-01, -3.9177e-01,  3.4172e-01, -6.0561e-01,  6.3816e-01],\n",
       "       [-7.9756e-02,  2.1322e-01, -8.7372e-01, -7.9387e-01,  6.8266e-02,\n",
       "        -8.2002e-02,  4.8882e-02,  1.2984e-01,  4.2201e-01,  1.0945e-01],\n",
       "       [ 2.5839e-01, -1.3339e-01,  2.7551e-01, -8.2961e-01, -4.8300e-01,\n",
       "         7.1471e-01, -5.7770e-01, -7.8464e-01,  2.6379e-01, -2.6224e-01],\n",
       "       [-1.6440e-01, -2.7706e-01, -3.3697e-01, -2.8408e-01, -5.1646e-01,\n",
       "        -2.8802e-01,  3.6968e-02,  1.3733e-01,  5.4184e-01,  1.4114e-01],\n",
       "       [ 8.9934e-02,  4.7316e-01,  8.6486e-01, -6.2064e-01, -6.9461e-01,\n",
       "         5.4046e-01, -4.9467e-02,  1.9138e-01,  1.0333e-01, -3.1908e-01],\n",
       "       [ 5.4635e-01,  1.9018e-01,  5.1298e-01, -7.6729e-01, -2.3824e-01,\n",
       "        -6.5802e-02,  2.4464e-01,  3.2024e-01, -1.3215e-01, -5.1083e-01],\n",
       "       [ 5.2501e-02, -6.3272e-01,  6.8001e-01, -9.7070e-01, -9.0732e-01,\n",
       "         1.5615e-01, -1.7836e-02,  1.3188e-01,  7.7814e-02, -7.6276e-04],\n",
       "       [ 1.4433e-01,  4.3951e-01,  5.8324e-01, -7.4477e-01, -4.9797e-01,\n",
       "         8.6928e-02, -2.9798e-01,  3.9964e-01,  1.4083e-01, -3.6578e-01],\n",
       "       [ 9.8204e-02, -3.1437e-01,  8.1890e-01, -1.1469e+00, -1.6131e-01,\n",
       "         1.4506e-01, -8.4310e-01,  6.0309e-02,  6.1314e-01,  1.8681e-02],\n",
       "       [-3.1087e-02,  2.2155e-01,  4.4494e-01,  9.2176e-01, -1.8663e-01,\n",
       "         6.9117e-02,  3.2930e-01,  2.6915e-01,  1.5562e-01,  3.1308e-01],\n",
       "       [-3.7574e-01, -1.0383e-01,  5.2039e-01, -1.1504e+00, -5.5426e-01,\n",
       "        -1.7097e-02, -2.1759e-01, -6.4172e-01,  4.9247e-01,  1.4471e-01],\n",
       "       [ 3.4557e-01, -3.8619e-01,  2.7454e-01, -4.2369e-01,  1.7439e-01,\n",
       "         3.4936e-01,  3.9542e-01, -8.6806e-01,  8.3107e-01,  9.7458e-02],\n",
       "       [-2.3076e-01,  4.7070e-01,  7.6068e-01, -1.5495e+00,  2.0060e-01,\n",
       "         6.2710e-01, -3.1733e-01,  7.0152e-01,  7.7749e-01,  6.7572e-01],\n",
       "       [ 1.3841e-01,  3.8702e-01, -1.8832e-01, -5.4116e-01, -2.2686e-01,\n",
       "         9.5853e-01,  2.2229e-01,  1.5847e-01,  3.6206e-01, -6.2996e-01],\n",
       "       [ 4.5108e-02,  8.3492e-03,  1.0102e+00,  3.8761e-02, -3.0003e-01,\n",
       "         1.0823e-01,  2.6686e-01, -1.7974e-01,  6.7932e-01, -8.4417e-02]],\n",
       "      dtype=float32)"
      ]
     },
     "execution_count": 107,
     "metadata": {},
     "output_type": "execute_result"
    }
   ],
   "source": [
    "e = model.layers[0]\n",
    "weights = e.get_weights()[0]\n",
    "print(weights.shape) # shape: (vocab_size, embedding_dim)\n",
    "\n",
    "weights[1:20, 0:10]"
   ]
  },
  {
   "cell_type": "code",
   "execution_count": 76,
   "metadata": {},
   "outputs": [],
   "source": [
    "## Plotting function\n",
    "def plot_words(data, start, stop, step):\n",
    "    trace = go.Scatter(\n",
    "        x = data[start:stop:step,0], \n",
    "        y = data[start:stop:step, 1],\n",
    "        mode = 'markers',\n",
    "        text= word_list[start:stop:step]\n",
    "    )\n",
    "    layout = dict(title= 't-SNE 1 vs t-SNE 2',\n",
    "                  yaxis = dict(title='t-SNE 2'),\n",
    "                  xaxis = dict(title='t-SNE 1'),\n",
    "                  hovermode= 'closest')\n",
    "    fig = dict(data = [trace], layout= layout)\n",
    "    py.iplot(fig)"
   ]
  },
  {
   "cell_type": "code",
   "execution_count": 51,
   "metadata": {},
   "outputs": [
    {
     "ename": "NameError",
     "evalue": "name 'word_list' is not defined",
     "output_type": "error",
     "traceback": [
      "\u001b[1;31m---------------------------------------------------------------------------\u001b[0m",
      "\u001b[1;31mNameError\u001b[0m                                 Traceback (most recent call last)",
      "\u001b[1;32m<ipython-input-51-9e106d02f85d>\u001b[0m in \u001b[0;36m<module>\u001b[1;34m\u001b[0m\n\u001b[0;32m      1\u001b[0m \u001b[0mtsne_embeddings\u001b[0m \u001b[1;33m=\u001b[0m \u001b[0mTSNE\u001b[0m\u001b[1;33m(\u001b[0m\u001b[0mn_components\u001b[0m\u001b[1;33m=\u001b[0m\u001b[1;36m2\u001b[0m\u001b[1;33m)\u001b[0m\u001b[1;33m.\u001b[0m\u001b[0mfit_transform\u001b[0m\u001b[1;33m(\u001b[0m\u001b[0mweights\u001b[0m\u001b[1;33m)\u001b[0m\u001b[1;33m\u001b[0m\u001b[1;33m\u001b[0m\u001b[0m\n\u001b[1;32m----> 2\u001b[1;33m \u001b[0mplot_words\u001b[0m\u001b[1;33m(\u001b[0m\u001b[0mtsne_embeddings\u001b[0m\u001b[1;33m,\u001b[0m \u001b[1;36m0\u001b[0m\u001b[1;33m,\u001b[0m \u001b[1;36m2\u001b[0m\u001b[1;33m,\u001b[0m \u001b[1;36m1\u001b[0m\u001b[1;33m)\u001b[0m\u001b[1;33m\u001b[0m\u001b[1;33m\u001b[0m\u001b[0m\n\u001b[0m",
      "\u001b[1;32m<ipython-input-50-6ad1d4105a79>\u001b[0m in \u001b[0;36mplot_words\u001b[1;34m(data, start, stop, step)\u001b[0m\n\u001b[0;32m      5\u001b[0m         \u001b[0my\u001b[0m \u001b[1;33m=\u001b[0m \u001b[0mdata\u001b[0m\u001b[1;33m[\u001b[0m\u001b[0mstart\u001b[0m\u001b[1;33m:\u001b[0m\u001b[0mstop\u001b[0m\u001b[1;33m:\u001b[0m\u001b[0mstep\u001b[0m\u001b[1;33m,\u001b[0m \u001b[1;36m1\u001b[0m\u001b[1;33m]\u001b[0m\u001b[1;33m,\u001b[0m\u001b[1;33m\u001b[0m\u001b[1;33m\u001b[0m\u001b[0m\n\u001b[0;32m      6\u001b[0m         \u001b[0mmode\u001b[0m \u001b[1;33m=\u001b[0m \u001b[1;34m'markers'\u001b[0m\u001b[1;33m,\u001b[0m\u001b[1;33m\u001b[0m\u001b[1;33m\u001b[0m\u001b[0m\n\u001b[1;32m----> 7\u001b[1;33m         \u001b[0mtext\u001b[0m\u001b[1;33m=\u001b[0m \u001b[0mword_list\u001b[0m\u001b[1;33m[\u001b[0m\u001b[0mstart\u001b[0m\u001b[1;33m:\u001b[0m\u001b[0mstop\u001b[0m\u001b[1;33m:\u001b[0m\u001b[0mstep\u001b[0m\u001b[1;33m]\u001b[0m\u001b[1;33m\u001b[0m\u001b[1;33m\u001b[0m\u001b[0m\n\u001b[0m\u001b[0;32m      8\u001b[0m     )\n\u001b[0;32m      9\u001b[0m     layout = dict(title= 't-SNE 1 vs t-SNE 2',\n",
      "\u001b[1;31mNameError\u001b[0m: name 'word_list' is not defined"
     ]
    }
   ],
   "source": [
    "tsne_embeddings = TSNE(n_components=2).fit_transform(weights)\n",
    "plot_words(tsne_embeddings, 0, 2, 1)"
   ]
  },
  {
   "cell_type": "code",
   "execution_count": null,
   "metadata": {},
   "outputs": [],
   "source": []
  }
 ],
 "metadata": {
  "kernelspec": {
   "display_name": "Python 3",
   "language": "python",
   "name": "python3"
  },
  "language_info": {
   "codemirror_mode": {
    "name": "ipython",
    "version": 3
   },
   "file_extension": ".py",
   "mimetype": "text/x-python",
   "name": "python",
   "nbconvert_exporter": "python",
   "pygments_lexer": "ipython3",
   "version": "3.7.4"
  }
 },
 "nbformat": 4,
 "nbformat_minor": 2
}
