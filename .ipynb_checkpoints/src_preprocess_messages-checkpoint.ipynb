{
 "cells": [
  {
   "cell_type": "code",
   "execution_count": 16,
   "metadata": {},
   "outputs": [],
   "source": [
    "import re\n",
    "import io\n",
    "import csv\n",
    "import os\n",
    "import numpy as np\n",
    "import matplotlib.pyplot as plt\n",
    "from numpy import *\n",
    "from googletrans import Translator\n",
    "import unicodedata\n"
   ]
  },
  {
   "cell_type": "code",
   "execution_count": 17,
   "metadata": {},
   "outputs": [],
   "source": [
    "def StandardizeCasing(message):\n",
    "    return message.lower()"
   ]
  },
  {
   "cell_type": "code",
   "execution_count": 18,
   "metadata": {},
   "outputs": [],
   "source": [
    "def RemoveUsermentions(message):\n",
    "    regex = re.compile('@[A-Za-z0-9_-]{2,}', re.S) #remove the @ sign with any trailing letters, digits or _ 2 or more\n",
    "    message = re.sub(regex, '', message)\n",
    "    return message.strip()\n",
    "    "
   ]
  },
  {
   "cell_type": "code",
   "execution_count": 19,
   "metadata": {},
   "outputs": [],
   "source": [
    "def RemoveUrls(message):\n",
    "    regex = re.compile('http[s]?://(?:[a-zA-Z]|[0-9]|[$-_@.&+]|[!*\\(\\),]|(?:%[0-9a-fA-F][0-9a-fA-F]))+', re.S)\n",
    "    message = re.sub(regex, '', message)\n",
    "    return message.strip()"
   ]
  },
  {
   "cell_type": "code",
   "execution_count": 20,
   "metadata": {},
   "outputs": [],
   "source": [
    "def RemoveEmoji(message):\n",
    "    #regex = re.compile('\\[a-z]*',re.S) #remove the @ sign with any trailing letters, digits or _ 2 or more\n",
    "    regex = re.compile(r'\\\\x[A-Za-z0-9]*', re.S)\n",
    "    message = re.sub(regex, '', message)\n",
    "    return message.strip()\n",
    "    #return message.encode('ascii', 'ignore').decode('ascii')\n",
    "    "
   ]
  },
  {
   "cell_type": "code",
   "execution_count": 21,
   "metadata": {},
   "outputs": [],
   "source": [
    "def RemovePunctuation(message):\n",
    "    regex = re.compile('[,:/\\\"[\\]]', re.S) #remove the @ sign with any trailing letters, digits or _ 2 or more\n",
    "    message = re.sub(regex, '', message)\n",
    "    return message.strip()\n",
    "    "
   ]
  },
  {
   "cell_type": "code",
   "execution_count": 22,
   "metadata": {},
   "outputs": [],
   "source": [
    "def RemoveDigits(message):\n",
    "    regex = re.compile('[0-9]+', re.S) #remove the @ sign with any trailing letters, digits or _ 2 or more\n",
    "    message = re.sub(regex, '', message)\n",
    "    return message.strip()\n",
    "    "
   ]
  },
  {
   "cell_type": "code",
   "execution_count": 23,
   "metadata": {},
   "outputs": [],
   "source": [
    "def RemoveUnicode(message):\n",
    "    return unicodedata.normalize('NFKD', message).encode('ascii','ignore')\n",
    "    "
   ]
  },
  {
   "cell_type": "code",
   "execution_count": 24,
   "metadata": {},
   "outputs": [],
   "source": [
    "def RemoveNewlinewithin(message):\n",
    "    #regex = re.compile('\\x', re.S) #remove the @ sign with any trailing letters, digits or _ 2 or more\n",
    "    #message = re.sub(regex, '', message)\n",
    "    #return message.strip()\n",
    "    return message.replace('\\\\n', ' ')\n",
    "    "
   ]
  },
  {
   "cell_type": "code",
   "execution_count": 25,
   "metadata": {},
   "outputs": [],
   "source": [
    "def removeDots(message):\n",
    "    regex = re.compile('[.]+', re.S) #remove the @ sign with any trailing letters, digits or _ 2 or more\n",
    "    message = re.sub(regex, ' ', message)\n",
    "    return message.strip()"
   ]
  },
  {
   "cell_type": "code",
   "execution_count": 26,
   "metadata": {},
   "outputs": [],
   "source": [
    "def RemoveSpecialChars(message):\n",
    "    #regex = re.compile('[?*\\\"\\'!#$^\\&~`@]', re.S) #remove the @ sign with any trailing letters, digits or _ 2 or more\n",
    "    regex = re.compile(r\"[-()\\\"#/@;:<>{}`+=~|.!?,]\", re.S)\n",
    "    message = re.sub(regex, '', message)\n",
    "    return message.strip()"
   ]
  },
  {
   "cell_type": "code",
   "execution_count": 27,
   "metadata": {},
   "outputs": [],
   "source": [
    "def RemoveRT(message):\n",
    "    regex = re.compile('rt ', re.S) #remove the @ sign with any trailing letters, digits or _ 2 or more\n",
    "    message = re.sub(regex, '', message)\n",
    "    return message.strip()"
   ]
  },
  {
   "cell_type": "code",
   "execution_count": 28,
   "metadata": {},
   "outputs": [],
   "source": [
    "def RemoveDEmoji(message):\n",
    "    emoji_pattern = re.compile(\"[\"\n",
    "         u\"\\U0001F600-\\U0001F64F\"  # emoticons\n",
    "         u\"\\U0001F300-\\U0001F5FF\"  # symbols & pictographs\n",
    "         u\"\\U0001F680-\\U0001F6FF\"  # transport & map symbols\n",
    "         u\"\\U0001F1E0-\\U0001F1FF\"  # flags (iOS)\n",
    "         u\"\\U00002702-\\U000027B0\"\n",
    "         u\"\\U000024C2-\\U0001F251\"\n",
    "         \"]+\", flags=re.UNICODE)\n",
    "    return emoji_pattern.sub(r'', message)"
   ]
  },
  {
   "cell_type": "code",
   "execution_count": 29,
   "metadata": {},
   "outputs": [],
   "source": [
    "def PreprocessMessage(message):\n",
    "    message = RemoveEmoji(message)\n",
    "    message = StandardizeCasing(message)\n",
    "    message = RemoveUsermentions(message)\n",
    "    message = RemoveUrls(message)\n",
    "    message = RemovePunctuation(message)\n",
    "    message = RemoveDigits(message)\n",
    "    message = RemoveNewlinewithin(message)\n",
    "    message = removeDots(message)\n",
    "    message = RemoveSpecialChars(message)\n",
    "    message = RemoveRT(message)\n",
    "    return message"
   ]
  },
  {
   "cell_type": "code",
   "execution_count": 14,
   "metadata": {},
   "outputs": [
    {
     "name": "stdout",
     "output_type": "stream",
     "text": [
      "b'haa jaise tum bhi abhi pa'\n"
     ]
    }
   ],
   "source": [
    "message = \"haa jaise tum bhi abhi p\\xe2\\x80\\xa6\"\n",
    "print(RemoveUnicode(message))"
   ]
  },
  {
   "cell_type": "code",
   "execution_count": 36,
   "metadata": {},
   "outputs": [],
   "source": [
    "messages = []\n",
    "labels = []\n",
    "with open('.\\\\data\\\\source\\\\messages.csv', newline ='') as messageData:\n",
    "    reader = csv.reader(messageData)\n",
    "    for row in reader:\n",
    "        message = (''.join(row))\n",
    "        message = PreprocessMessage(message)\n",
    "        messages.append(message)\n",
    "        \n",
    "with open('.\\\\data\\\\source\\\\labels.csv', newline ='') as messageData:\n",
    "    reader = csv.reader(messageData)\n",
    "    for row in reader:\n",
    "        label = (''.join(row))\n",
    "        labels.append(label)\n",
    "      "
   ]
  },
  {
   "cell_type": "code",
   "execution_count": 37,
   "metadata": {},
   "outputs": [],
   "source": [
    "with open('.\\\\data\\\\final\\\\messages.csv', mode='w') as tweets:\n",
    "    writer = csv.writer(tweets, delimiter='\\n', quotechar='\"', quoting=csv.QUOTE_MINIMAL)\n",
    "    writer.writerows([messages])\n",
    "with open('.\\\\data\\\\final\\\\labels.csv', mode='w') as tweets:\n",
    "    writer = csv.writer(tweets, delimiter='\\n', quotechar='\"', quoting=csv.QUOTE_MINIMAL)\n",
    "    writer.writerows([messages])\n"
   ]
  },
  {
   "cell_type": "code",
   "execution_count": null,
   "metadata": {},
   "outputs": [],
   "source": []
  }
 ],
 "metadata": {
  "kernelspec": {
   "display_name": "Python 3",
   "language": "python",
   "name": "python3"
  },
  "language_info": {
   "codemirror_mode": {
    "name": "ipython",
    "version": 3
   },
   "file_extension": ".py",
   "mimetype": "text/x-python",
   "name": "python",
   "nbconvert_exporter": "python",
   "pygments_lexer": "ipython3",
   "version": "3.7.4"
  }
 },
 "nbformat": 4,
 "nbformat_minor": 2
}
