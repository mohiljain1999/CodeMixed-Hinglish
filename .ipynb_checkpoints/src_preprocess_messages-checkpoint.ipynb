{
 "cells": [
  {
   "cell_type": "code",
   "execution_count": 1,
   "metadata": {},
   "outputs": [],
   "source": [
    "import re\n",
    "import io\n",
    "import csv\n",
    "import os\n",
    "import json\n",
    "import numpy as np\n",
    "import matplotlib.pyplot as plt\n",
    "from numpy import *\n",
    "from googletrans import Translator\n",
    "import unicodedata\n"
   ]
  },
  {
   "cell_type": "code",
   "execution_count": 2,
   "metadata": {},
   "outputs": [],
   "source": [
    "def StandardizeCasing(message):\n",
    "    return message.lower()"
   ]
  },
  {
   "cell_type": "code",
   "execution_count": 3,
   "metadata": {},
   "outputs": [],
   "source": [
    "def RemoveUsermentions(message):\n",
    "    regex = re.compile('@[A-Za-z0-9_-]{2,}', re.S) #remove the @ sign with any trailing letters, digits or _ 2 or more\n",
    "    message = re.sub(regex, '', message)\n",
    "    return message.strip()\n",
    "    "
   ]
  },
  {
   "cell_type": "code",
   "execution_count": 4,
   "metadata": {},
   "outputs": [],
   "source": [
    "def RemoveUrls(message):\n",
    "    regex = re.compile('http[s]?://(?:[a-zA-Z]|[0-9]|[$-_@.&+]|[!*\\(\\),]|(?:%[0-9a-fA-F][0-9a-fA-F]))+', re.S)\n",
    "    message = re.sub(regex, '', message)\n",
    "    return message.strip()"
   ]
  },
  {
   "cell_type": "code",
   "execution_count": 5,
   "metadata": {},
   "outputs": [],
   "source": [
    "def RemoveEmoji(message):\n",
    "    #regex = re.compile('\\[a-z]*',re.S) #remove the @ sign with any trailing letters, digits or _ 2 or more\n",
    "    regex = re.compile(r'\\\\x[A-Za-z0-9]*', re.S)\n",
    "    message = re.sub(regex, '', message)\n",
    "    return message.strip()\n",
    "    #return message.encode('ascii', 'ignore').decode('ascii')\n",
    "    "
   ]
  },
  {
   "cell_type": "code",
   "execution_count": 6,
   "metadata": {},
   "outputs": [],
   "source": [
    "def RemovePunctuation(message):\n",
    "    regex = re.compile('[,:/\\\"[\\]]', re.S) #remove the @ sign with any trailing letters, digits or _ 2 or more\n",
    "    message = re.sub(regex, '', message)\n",
    "    return message.strip()\n",
    "    "
   ]
  },
  {
   "cell_type": "code",
   "execution_count": 7,
   "metadata": {},
   "outputs": [],
   "source": [
    "def RemoveDigits(message):\n",
    "    regex = re.compile('[0-9]+', re.S) #remove the @ sign with any trailing letters, digits or _ 2 or more\n",
    "    message = re.sub(regex, '', message)\n",
    "    return message.strip()\n",
    "    "
   ]
  },
  {
   "cell_type": "code",
   "execution_count": 8,
   "metadata": {},
   "outputs": [],
   "source": [
    "def RemoveUnicode(message):\n",
    "    return unicodedata.normalize('NFKD', message).encode('ascii','ignore')\n",
    "    "
   ]
  },
  {
   "cell_type": "code",
   "execution_count": 9,
   "metadata": {},
   "outputs": [],
   "source": [
    "def RemoveNewlinewithin(message):\n",
    "    #regex = re.compile('\\x', re.S) #remove the @ sign with any trailing letters, digits or _ 2 or more\n",
    "    #message = re.sub(regex, '', message)\n",
    "    #return message.strip()\n",
    "    return message.replace('\\\\n', ' ')\n",
    "    "
   ]
  },
  {
   "cell_type": "code",
   "execution_count": 10,
   "metadata": {},
   "outputs": [],
   "source": [
    "def removeDots(message):\n",
    "    regex = re.compile('[.]+', re.S) #remove the @ sign with any trailing letters, digits or _ 2 or more\n",
    "    message = re.sub(regex, ' ', message)\n",
    "    return message.strip()"
   ]
  },
  {
   "cell_type": "code",
   "execution_count": 38,
   "metadata": {},
   "outputs": [],
   "source": [
    "def RemoveSpecialChars(message):\n",
    "    #regex = re.compile('[?*\\\"\\'!#$^\\&~`@]', re.S) #remove the @ sign with any trailing letters, digits or _ 2 or more\n",
    "    regex = re.compile(r\"[-()\\\"#/@;:<>{}`+=~|.!?,&]\", re.S)\n",
    "    message = re.sub(regex, '', message)\n",
    "    return message.strip()"
   ]
  },
  {
   "cell_type": "code",
   "execution_count": 12,
   "metadata": {},
   "outputs": [],
   "source": [
    "def RemoveRT(message):\n",
    "    regex = re.compile('rt ', re.S) #remove the @ sign with any trailing letters, digits or _ 2 or more\n",
    "    message = re.sub(regex, '', message)\n",
    "    return message.strip()"
   ]
  },
  {
   "cell_type": "code",
   "execution_count": 13,
   "metadata": {},
   "outputs": [],
   "source": [
    "def RemoveDEmoji(message):\n",
    "    emoji_pattern = re.compile(\"[\"\n",
    "         u\"\\U0001F600-\\U0001F64F\"  # emoticons\n",
    "         u\"\\U0001F300-\\U0001F5FF\"  # symbols & pictographs\n",
    "         u\"\\U0001F680-\\U0001F6FF\"  # transport & map symbols\n",
    "         u\"\\U0001F1E0-\\U0001F1FF\"  # flags (iOS)\n",
    "         u\"\\U00002702-\\U000027B0\"\n",
    "         u\"\\U000024C2-\\U0001F251\"\n",
    "         \"]+\", flags=re.UNICODE)\n",
    "    return emoji_pattern.sub(r'', message)"
   ]
  },
  {
   "cell_type": "code",
   "execution_count": 14,
   "metadata": {},
   "outputs": [],
   "source": [
    "def Transliterate(message, highlish_dict):\n",
    "    transmessage = []\n",
    "    for word in message.split():\n",
    "        #print(word , \":\", trans.get(word))\n",
    "        if (trans.get(word)!= None):\n",
    "            transmessage.append(trans[word])\n",
    "        else:\n",
    "            transmessage.append(word)\n",
    "    return \" \".join(transmessage)                   \n",
    "        \n",
    "    "
   ]
  },
  {
   "cell_type": "code",
   "execution_count": 20,
   "metadata": {},
   "outputs": [],
   "source": [
    "def PreprocessMessage(message, trans):\n",
    "    message = RemoveEmoji(message)\n",
    "    message = StandardizeCasing(message)\n",
    "    message = RemoveUsermentions(message)\n",
    "    message = RemoveUrls(message)\n",
    "    message = RemovePunctuation(message)\n",
    "    message = RemoveDigits(message)\n",
    "    message = RemoveNewlinewithin(message)\n",
    "    message = removeDots(message)\n",
    "    message = RemoveSpecialChars(message)\n",
    "    message = RemoveRT(message)\n",
    "    message = Transliterate(message, trans)\n",
    "    return message"
   ]
  },
  {
   "cell_type": "code",
   "execution_count": 21,
   "metadata": {},
   "outputs": [],
   "source": [
    "def EngPreprocessMessage(message):\n",
    "    message = RemoveEmoji(message)\n",
    "    message = StandardizeCasing(message)\n",
    "    message = RemoveUsermentions(message)\n",
    "    message = RemoveUrls(message)\n",
    "    message = RemovePunctuation(message)\n",
    "    message = RemoveDigits(message)\n",
    "    message = RemoveNewlinewithin(message)\n",
    "    message = removeDots(message)\n",
    "    message = RemoveSpecialChars(message)\n",
    "    message = RemoveRT(message)\n",
    "    return message"
   ]
  },
  {
   "cell_type": "code",
   "execution_count": 63,
   "metadata": {},
   "outputs": [
    {
     "name": "stdout",
     "output_type": "stream",
     "text": [
      "<class 'dict'>\n",
      "have\n",
      "haa : ha\n",
      "jaise : for example\n",
      "tum : you\n",
      "bhi : also\n",
      "abhi : actually\n",
      "pshdf : None\n",
      "ha for example you also actually pshdf\n"
     ]
    }
   ],
   "source": [
    "with open(file = r\".\\\\data\\transliteration\\dictionary_hinglish_transliteration.txt\", mode = 'r') as hinglish_dict:\n",
    "        trans = json.load(hinglish_dict)\n",
    "        print(type(trans))\n",
    "        print(trans[\"hai\"])\n",
    "message = \"haa jaise tum bhi abhi pshdf\"\n",
    "print(Transliterate(message, trans))"
   ]
  },
  {
   "cell_type": "code",
   "execution_count": 91,
   "metadata": {},
   "outputs": [],
   "source": [
    "messages = []\n",
    "labels = []\n",
    "\n",
    "with open(file = r\".\\\\data\\transliteration\\dictionary_hinglish_transliteration.txt\", mode = 'r') as hinglish_dict:\n",
    "    trans = json.load(hinglish_dict)\n",
    "    \n",
    "with open(file = r\".\\\\data\\transliteration\\Hinglish_Profanity_List.csv\", mode = 'r') as profane_data:\n",
    "    reader = csv.reader(profane_data)\n",
    "    for row in reader:\n",
    "        trans[row[0]] = row[1]\n",
    "\n",
    "with open('.\\\\data\\\\source\\\\messages.csv', newline ='') as messageData:\n",
    "    reader = csv.reader(messageData)\n",
    "    for row in reader:\n",
    "        message = (''.join(row))\n",
    "        message = PreprocessMessage(message, trans)\n",
    "        messages.append(message)\n",
    "        \n",
    "with open('.\\\\data\\\\source\\\\labels.csv', newline ='') as messageData:\n",
    "    reader = csv.reader(messageData)\n",
    "    for row in reader:\n",
    "        label = (''.join(row))\n",
    "        labels.append(label)\n",
    "  "
   ]
  },
  {
   "cell_type": "code",
   "execution_count": 39,
   "metadata": {},
   "outputs": [],
   "source": [
    "engmessages = []\n",
    "englabels = []\n",
    "with open('.\\\\data\\\\source\\\\engmessages.csv', newline ='') as messageData:\n",
    "    reader = csv.reader(messageData)\n",
    "    for row in reader:\n",
    "        message = (''.join(row))\n",
    "        message = EngPreprocessMessage(message)\n",
    "        engmessages.append(message)\n",
    "        \n",
    "with open('.\\\\data\\\\source\\\\englabels.csv', newline ='') as messageData:\n",
    "    reader = csv.reader(messageData)\n",
    "    for row in reader:\n",
    "        label = (''.join(row))\n",
    "        englabels.append(label)\n"
   ]
  },
  {
   "cell_type": "code",
   "execution_count": 93,
   "metadata": {},
   "outputs": [],
   "source": [
    "with open('.\\\\data\\\\final\\\\messages_1.csv', mode='w') as tweets:\n",
    "    writer = csv.writer(tweets, delimiter='\\n', quotechar='\"', quoting=csv.QUOTE_MINIMAL)\n",
    "    writer.writerows([messages])\n",
    "with open('.\\\\data\\\\final\\\\labels_1.csv', mode='w') as tweets:\n",
    "    writer = csv.writer(tweets, delimiter='\\n', quotechar='\"', quoting=csv.QUOTE_MINIMAL)\n",
    "    writer.writerows([labels])\n"
   ]
  },
  {
   "cell_type": "code",
   "execution_count": 40,
   "metadata": {},
   "outputs": [
    {
     "data": {
      "text/plain": [
       "[\"t  as a woma you should't complai about cleaig up you house  amp as a ma you should always take the tash out\",\n",
       " 't  boy dats cold tyga dw bad fo cuffi dat hoe i the st place',\n",
       " 't  dawg t  you eve fuck a bitch ad she stat to cy you be cofused as shit',\n",
       " 't   she look like a tay',\n",
       " 't  the shit you hea about me might be tue o it might be fake tha the bitch who told it to ya',\n",
       " 'the shit just blows me claim you so faithful ad dow fo somebody but still fuckig with hoes',\n",
       " 'i ca ot just sit up ad hate o aothe bitch   i got too much shit goig o',\n",
       " \"cause i'm tied of you big bitches comig fo us skiy gils\",\n",
       " 'amp you might ot get ya bitch back amp thats that',\n",
       " 'hobbies iclude fightig maiam\\r\\n\\r\\nbitch',\n",
       " 'keeks is a bitch she cuves eveyoe  lol i walked ito a covesatio like this  smh',\n",
       " 'muda gag bitch its gag lad',\n",
       " 'so hoes that smoke ae loses   yea   go o ig',\n",
       " 'bad bitches is the oly thig that i like',\n",
       " 'bitch get up off me']"
      ]
     },
     "execution_count": 40,
     "metadata": {},
     "output_type": "execute_result"
    }
   ],
   "source": [
    "engmessages[0:15]"
   ]
  },
  {
   "cell_type": "code",
   "execution_count": 10,
   "metadata": {},
   "outputs": [
    {
     "data": {
      "text/plain": [
       "'C:\\\\Users\\\\vigupta\\\\source\\\\repos\\\\CodeMixed-Hinglish'"
      ]
     },
     "execution_count": 10,
     "metadata": {},
     "output_type": "execute_result"
    }
   ],
   "source": [
    "os.getcwd()"
   ]
  },
  {
   "cell_type": "code",
   "execution_count": null,
   "metadata": {},
   "outputs": [],
   "source": []
  }
 ],
 "metadata": {
  "kernelspec": {
   "display_name": "Python 3",
   "language": "python",
   "name": "python3"
  },
  "language_info": {
   "codemirror_mode": {
    "name": "ipython",
    "version": 3
   },
   "file_extension": ".py",
   "mimetype": "text/x-python",
   "name": "python",
   "nbconvert_exporter": "python",
   "pygments_lexer": "ipython3",
   "version": "3.7.4"
  }
 },
 "nbformat": 4,
 "nbformat_minor": 2
}
