{
 "cells": [
  {
   "cell_type": "code",
   "execution_count": 79,
   "metadata": {},
   "outputs": [
    {
     "data": {
      "text/html": [
       "        <script type=\"text/javascript\">\n",
       "        window.PlotlyConfig = {MathJaxConfig: 'local'};\n",
       "        if (window.MathJax) {MathJax.Hub.Config({SVG: {font: \"STIX-Web\"}});}\n",
       "        if (typeof require !== 'undefined') {\n",
       "        require.undef(\"plotly\");\n",
       "        requirejs.config({\n",
       "            paths: {\n",
       "                'plotly': ['https://cdn.plot.ly/plotly-latest.min']\n",
       "            }\n",
       "        });\n",
       "        require(['plotly'], function(Plotly) {\n",
       "            window._Plotly = Plotly;\n",
       "        });\n",
       "        }\n",
       "        </script>\n",
       "        "
      ]
     },
     "metadata": {},
     "output_type": "display_data"
    }
   ],
   "source": [
    "import os\n",
    "import keras\n",
    "import io\n",
    "import csv\n",
    "import time\n",
    "import datetime\n",
    "\n",
    "from keras.preprocessing.text import Tokenizer \n",
    "from keras.preprocessing.sequence import pad_sequences \n",
    "import numpy as np\n",
    "from keras.utils import np_utils\n",
    "from keras.utils import to_categorical\n",
    "from keras.layers import Dropout, SimpleRNN, LSTM\n",
    "from keras.layers import BatchNormalization\n",
    "from keras.optimizers import Adam\n",
    "from keras.callbacks import TensorBoard\n",
    "import keras_metrics\n",
    "from keras.utils.vis_utils import plot_model\n",
    "\n",
    "\n",
    "from sklearn.model_selection import cross_val_score\n",
    "from sklearn.model_selection import KFold\n",
    "from sklearn.preprocessing import LabelEncoder\n",
    "from sklearn.pipeline import Pipeline\n",
    "\n",
    "from keras.models import Sequential\n",
    "from keras.layers import Embedding, Flatten, Dense, Conv1D, MaxPooling1D, GlobalMaxPooling1D \n",
    "\n",
    "\n",
    "## Plotly\n",
    "import plotly.offline as py\n",
    "import plotly.graph_objs as go\n",
    "py.init_notebook_mode(connected=True)\n",
    "\n",
    "import matplotlib.pyplot as plt\n",
    "%matplotlib inline\n",
    "from sklearn.manifold import TSNE\n",
    "import time\n"
   ]
  },
  {
   "cell_type": "code",
   "execution_count": 80,
   "metadata": {},
   "outputs": [],
   "source": [
    "##Set params for the model\n",
    "tensorBoard_logs_dir = '.\\\\logs\\\\'\n",
    "model_dir = '.\\\\models\\\\'\n",
    "glove_dir = '.\\\\models\\\\glove'\n",
    "train_dir = '.\\\\data\\\\train'\n",
    "train_data = 'transmessages.csv'\n",
    "label_data = 'labels.csv'\n",
    "maxlen = 100\n",
    "training_samples = 2800\n",
    "validation_samples = 500# len(labels) - training_samples #\n",
    "max_words = 10000\n",
    "num_filters = 64 \n",
    "embedding_dim = 100\n",
    "num_filters = 64 \n",
    "num_classes = 3\n",
    "\n"
   ]
  },
  {
   "cell_type": "code",
   "execution_count": 81,
   "metadata": {},
   "outputs": [],
   "source": [
    "texts = []\n",
    "labels = []\n",
    "\n",
    "with open(os.path.join(train_dir, train_data), newline ='') as messageData:\n",
    "    reader = csv.reader(messageData)\n",
    "    for row in reader:\n",
    "        message = (''.join(row))\n",
    "        texts.append(message)\n",
    "\n",
    "with open(os.path.join(train_dir, label_data)) as labelData:\n",
    "    reader = csv.reader(labelData)\n",
    "    for row in reader:\n",
    "        #label = (''.join(row))\n",
    "        labels.append(row)\n",
    "\n",
    "labels = np.squeeze(labels)#[(np.squeeze(i)) for i in labels]\n"
   ]
  },
  {
   "cell_type": "code",
   "execution_count": 82,
   "metadata": {},
   "outputs": [
    {
     "data": {
      "text/plain": [
       "array([1121.,  303., 1765.], dtype=float32)"
      ]
     },
     "execution_count": 82,
     "metadata": {},
     "output_type": "execute_result"
    }
   ],
   "source": [
    "'''\n",
    "encoder = LabelEncoder()\n",
    "encoder.fit(labels)\n",
    "encoded_Y = encoder.transform(labels,)\n",
    "labells = np_utils.to_categorical(encoded_Y)\n",
    "print(labells[0,])\n",
    "\n",
    "'''\n",
    "labells = np_utils.to_categorical(labels, num_classes=num_classes)\n",
    "labells[0:20,]\n",
    "np.sum(labells, axis = 0)"
   ]
  },
  {
   "cell_type": "code",
   "execution_count": 83,
   "metadata": {},
   "outputs": [
    {
     "name": "stdout",
     "output_type": "stream",
     "text": [
      "Found 7595 unique tokens.\n",
      "Shape of the data tensor: (3189, 100)\n",
      "Shape of the label tensor: (3189, 3)\n",
      "Train length 2800\n",
      "Test length 389\n"
     ]
    }
   ],
   "source": [
    "##Tokenizer, Sequencer and padding via Keras\n",
    "np.random.seed(1) \n",
    "\n",
    "#tokenize the data for the maxwords\n",
    "tokenizer = Tokenizer(num_words=max_words)\n",
    "tokenizer.fit_on_texts(texts)\n",
    "\n",
    "#Generate the sequences on texts on the the data by tokenizer\n",
    "sequences = tokenizer.texts_to_sequences(texts)\n",
    "\n",
    "word_index = tokenizer.word_index\n",
    "print('Found %s unique tokens.'% len(word_index))\n",
    "#print(word_index)\n",
    "#Padding sequences (making them all equal)\n",
    "data = pad_sequences(sequences, maxlen=maxlen)\n",
    "\n",
    "labels = np.asarray(labels)\n",
    "print('Shape of the data tensor:' , data.shape)\n",
    "print('Shape of the label tensor:' , labells.shape)\n",
    "\n",
    "indices = np.arange(data.shape[0])\n",
    "np.random.shuffle(indices)\n",
    "\n",
    "data = data[indices]\n",
    "labels = labells[indices,:]\n",
    "\n",
    "x_train = data[:training_samples]\n",
    "y_train = labels[:training_samples]\n",
    "\n",
    "x_test = data[training_samples:training_samples + validation_samples]\n",
    "y_test = labels[training_samples:training_samples + validation_samples]\n",
    "\n",
    "print(\"Train length\" , len(x_train))\n",
    "print(\"Test length\" , len(x_test))\n",
    "\n",
    "with open(os.path.join(tensorBoard_logs_dir, 'metadata.tsv'), 'w') as f:\n",
    "    np.savetxt(f, y_test)\n"
   ]
  },
  {
   "cell_type": "code",
   "execution_count": 84,
   "metadata": {},
   "outputs": [
    {
     "data": {
      "text/plain": [
       "array([[1., 0., 0.],\n",
       "       [0., 1., 0.],\n",
       "       [0., 0., 1.],\n",
       "       ...,\n",
       "       [0., 0., 1.],\n",
       "       [1., 0., 0.],\n",
       "       [1., 0., 0.]], dtype=float32)"
      ]
     },
     "execution_count": 84,
     "metadata": {},
     "output_type": "execute_result"
    }
   ],
   "source": [
    "y_test"
   ]
  },
  {
   "cell_type": "code",
   "execution_count": 85,
   "metadata": {},
   "outputs": [
    {
     "name": "stdout",
     "output_type": "stream",
     "text": [
      "Found 400000 word vectors\n"
     ]
    }
   ],
   "source": [
    "np.random.seed(1) \n",
    "embedding_index = {}\n",
    "f = open(os.path.join(glove_dir, 'glove.6B.100d.txt'), encoding=\"utf8\")\n",
    "\n",
    "for line in f:\n",
    "    values = line.split()\n",
    "    word = values[0]\n",
    "   # print(word)\n",
    "    coefs = np.asarray(values[1:], dtype = 'float32')\n",
    "    embedding_index[word] = coefs\n",
    "f.close()\n",
    "\n",
    "\n",
    "print('Found %s word vectors' % len(embedding_index))"
   ]
  },
  {
   "cell_type": "code",
   "execution_count": 87,
   "metadata": {},
   "outputs": [
    {
     "name": "stdout",
     "output_type": "stream",
     "text": [
      "(10000, 100)\n"
     ]
    }
   ],
   "source": [
    "np.random.seed(1) \n",
    "embedding_matrix = np.zeros((max_words, embedding_dim))\n",
    "\n",
    "for word, i in word_index.items():\n",
    "    if i < max_words:\n",
    "        embedding_vector = embedding_index.get(word)\n",
    "        if embedding_vector is not None:\n",
    "            embedding_matrix[i] = embedding_vector\n",
    "print(embedding_matrix.shape)       \n",
    "#embedding_matrix[0:10, ]"
   ]
  },
  {
   "cell_type": "code",
   "execution_count": 88,
   "metadata": {},
   "outputs": [],
   "source": [
    "def save_model(model_qualifier, model, location):\n",
    "    model_name = model_qualifier + \"-{}\".format(datetime.date.today()) + \"-{}\".format(time.time())\n",
    "    try:\n",
    "        model.save(os.path.join(location, model_name))\n",
    "        #plot_model(model, to_file=os.path.join(location, model_name)+ '.png')\n",
    "    except:\n",
    "        print(\"Exception occured while saving the model to disc.\")"
   ]
  },
  {
   "cell_type": "code",
   "execution_count": 94,
   "metadata": {},
   "outputs": [
    {
     "name": "stdout",
     "output_type": "stream",
     "text": [
      "Model: \"sequential_22\"\n",
      "_________________________________________________________________\n",
      "Layer (type)                 Output Shape              Param #   \n",
      "=================================================================\n",
      "embedding_21 (Embedding)     (None, 100, 100)          1000000   \n",
      "_________________________________________________________________\n",
      "conv1d_10 (Conv1D)           (None, 100, 64)           44864     \n",
      "_________________________________________________________________\n",
      "dropout_34 (Dropout)         (None, 100, 64)           0         \n",
      "_________________________________________________________________\n",
      "max_pooling1d_7 (MaxPooling1 (None, 50, 64)            0         \n",
      "_________________________________________________________________\n",
      "conv1d_11 (Conv1D)           (None, 50, 64)            28736     \n",
      "_________________________________________________________________\n",
      "dropout_35 (Dropout)         (None, 50, 64)            0         \n",
      "_________________________________________________________________\n",
      "max_pooling1d_8 (MaxPooling1 (None, 25, 64)            0         \n",
      "_________________________________________________________________\n",
      "conv1d_12 (Conv1D)           (None, 25, 64)            28736     \n",
      "_________________________________________________________________\n",
      "dropout_36 (Dropout)         (None, 25, 64)            0         \n",
      "_________________________________________________________________\n",
      "global_max_pooling1d_4 (Glob (None, 64)                0         \n",
      "_________________________________________________________________\n",
      "dense_41 (Dense)             (None, 64)                4160      \n",
      "_________________________________________________________________\n",
      "batch_normalization_21 (Batc (None, 64)                256       \n",
      "_________________________________________________________________\n",
      "dropout_37 (Dropout)         (None, 64)                0         \n",
      "_________________________________________________________________\n",
      "dense_42 (Dense)             (None, 3)                 195       \n",
      "=================================================================\n",
      "Total params: 1,106,947\n",
      "Trainable params: 1,106,819\n",
      "Non-trainable params: 128\n",
      "_________________________________________________________________\n"
     ]
    }
   ],
   "source": [
    "np.random.seed(1) \n",
    "model = Sequential() \n",
    "model.add(Embedding(max_words, embedding_dim, input_length=maxlen))\n",
    "'''\n",
    "model.add(LSTM(32, recurrent_dropout = 0.2, return_sequences=True))\n",
    "model.add(LSTM(32, recurrent_dropout = 0.2, return_sequences=True))\n",
    "model.add(LSTM(32, recurrent_dropout = 0.2, return_sequences=True))\n",
    "model.add(LSTM(32))\n",
    "\n",
    "'''\n",
    "model.add(Conv1D(num_filters, 7, activation='relu', padding='same'))\n",
    "model.add(Dropout(0.6))\n",
    "model.add(MaxPooling1D(2))\n",
    "model.add(Conv1D(num_filters, 7, activation='relu', padding='same'))\n",
    "model.add(Dropout(0.5))\n",
    "model.add(MaxPooling1D(2))\n",
    "model.add(Conv1D(num_filters, 7, activation='relu', padding='same'))\n",
    "model.add(Dropout(0.6))\n",
    "model.add(GlobalMaxPooling1D())\n",
    "#model.add(Dropout(0.5))\n",
    "#model.add(Flatten())\n",
    "model.add(Dense(64, activation = 'relu'))\n",
    "model.add(BatchNormalization())\n",
    "model.add(Dropout(0.5))\n",
    "#model.add(Dense(64, activation = 'relu'))\n",
    "#model.add(Dropout(0.5))\n",
    "#model.add(BatchNormalization())\n",
    "model.add(Dense(3, activation = 'softmax'))\n",
    "#model.layers[0].set_weights([embedding_matrix])\n",
    "#model.layers[0].trainable = True\n",
    "model.summary()\n",
    "model_name = \"CodeMixed-Emb-UnTrained-CNN_64x7x3_DO-Dense_64x1-{}\".format(int(time.time()))\n"
   ]
  },
  {
   "cell_type": "code",
   "execution_count": 95,
   "metadata": {},
   "outputs": [],
   "source": [
    "optimizer = Adam(learning_rate=0.01)\n",
    "model.compile(optimizer=optimizer, loss = 'categorical_crossentropy', metrics=['acc'])"
   ]
  },
  {
   "cell_type": "code",
   "execution_count": null,
   "metadata": {},
   "outputs": [
    {
     "name": "stderr",
     "output_type": "stream",
     "text": [
      "C:\\Users\\vigupta\\AppData\\Local\\Continuum\\anaconda3\\lib\\site-packages\\keras\\callbacks\\tensorboard_v2.py:102: UserWarning:\n",
      "\n",
      "The TensorBoard callback does not support embeddings display when using TensorFlow 2.0. Embeddings-related arguments are ignored.\n",
      "\n",
      "C:\\Users\\vigupta\\AppData\\Local\\Continuum\\anaconda3\\lib\\site-packages\\tensorflow_core\\python\\framework\\indexed_slices.py:424: UserWarning:\n",
      "\n",
      "Converting sparse IndexedSlices to a dense Tensor of unknown shape. This may consume a large amount of memory.\n",
      "\n"
     ]
    },
    {
     "name": "stdout",
     "output_type": "stream",
     "text": [
      "Train on 2520 samples, validate on 280 samples\n",
      "Epoch 1/40\n",
      "2520/2520 [==============================] - 118s 47ms/step - loss: 1.4143 - acc: 0.3433 - val_loss: 1.6398 - val_acc: 0.5500\n",
      "Epoch 2/40\n",
      "2520/2520 [==============================] - 107s 42ms/step - loss: 1.0683 - acc: 0.4849 - val_loss: 0.9778 - val_acc: 0.3607\n",
      "Epoch 3/40\n",
      "2520/2520 [==============================] - 121s 48ms/step - loss: 0.9707 - acc: 0.5266 - val_loss: 1.1866 - val_acc: 0.3607\n",
      "Epoch 4/40\n",
      "2520/2520 [==============================] - 108s 43ms/step - loss: 0.9489 - acc: 0.5270 - val_loss: 1.0102 - val_acc: 0.5500\n",
      "Epoch 5/40\n",
      "2520/2520 [==============================] - 100s 40ms/step - loss: 0.9392 - acc: 0.5282 - val_loss: 0.9324 - val_acc: 0.5500\n",
      "Epoch 6/40\n",
      "2520/2520 [==============================] - 119s 47ms/step - loss: 0.9334 - acc: 0.5282 - val_loss: 0.9239 - val_acc: 0.5500\n",
      "Epoch 7/40\n",
      "2520/2520 [==============================] - 107s 43ms/step - loss: 0.9282 - acc: 0.5421 - val_loss: 0.9155 - val_acc: 0.5500\n",
      "Epoch 8/40\n",
      "2520/2520 [==============================] - 102s 40ms/step - loss: 0.9346 - acc: 0.5401 - val_loss: 0.9236 - val_acc: 0.5500\n",
      "Epoch 9/40\n",
      "2520/2520 [==============================] - 108s 43ms/step - loss: 0.9309 - acc: 0.5440 - val_loss: 0.9222 - val_acc: 0.5500\n",
      "Epoch 10/40\n",
      "2520/2520 [==============================] - 93s 37ms/step - loss: 0.9256 - acc: 0.5417 - val_loss: 0.9752 - val_acc: 0.5500\n",
      "Epoch 11/40\n",
      "2520/2520 [==============================] - 87s 35ms/step - loss: 0.9258 - acc: 0.5448 - val_loss: 0.9453 - val_acc: 0.5500\n",
      "Epoch 12/40\n",
      "2520/2520 [==============================] - 90s 36ms/step - loss: 0.9253 - acc: 0.5464 - val_loss: 0.9280 - val_acc: 0.5500\n",
      "Epoch 13/40\n",
      "2520/2520 [==============================] - 92s 36ms/step - loss: 0.9271 - acc: 0.5421 - val_loss: 0.9354 - val_acc: 0.3607\n",
      "Epoch 14/40\n",
      "2520/2520 [==============================] - 88s 35ms/step - loss: 0.9289 - acc: 0.5421 - val_loss: 1.2169 - val_acc: 0.3607\n",
      "Epoch 15/40\n",
      "2520/2520 [==============================] - 89s 35ms/step - loss: 0.9225 - acc: 0.5381 - val_loss: 0.9477 - val_acc: 0.4036\n",
      "Epoch 16/40\n",
      "2520/2520 [==============================] - 94s 37ms/step - loss: 0.9180 - acc: 0.5460 - val_loss: 1.0362 - val_acc: 0.3643\n",
      "Epoch 17/40\n",
      "2520/2520 [==============================] - 87s 35ms/step - loss: 0.9166 - acc: 0.5472 - val_loss: 1.4559 - val_acc: 0.3643\n",
      "Epoch 18/40\n",
      "2520/2520 [==============================] - 87s 34ms/step - loss: 0.9083 - acc: 0.5492 - val_loss: 2.4728 - val_acc: 0.3607\n",
      "Epoch 19/40\n",
      "2520/2520 [==============================] - 93s 37ms/step - loss: 0.8946 - acc: 0.5421 - val_loss: 3.3389 - val_acc: 0.3607\n",
      "Epoch 20/40\n",
      "2520/2520 [==============================] - 100s 40ms/step - loss: 0.8724 - acc: 0.5544 - val_loss: 4.2119 - val_acc: 0.3607\n",
      "Epoch 21/40\n",
      "2520/2520 [==============================] - 86s 34ms/step - loss: 0.8117 - acc: 0.5837 - val_loss: 5.3850 - val_acc: 0.3607\n",
      "Epoch 22/40\n",
      "2048/2520 [=======================>......] - ETA: 15s - loss: 0.7433 - acc: 0.6372"
     ]
    }
   ],
   "source": [
    "\n",
    "tensorboard = TensorBoard(log_dir = tensorBoard_logs_dir + '{}'.format(model_name), \n",
    "                         histogram_freq=1,\n",
    "                         embeddings_freq=1)\n",
    "'''\n",
    "TensorBoard(batch_size=batch_size,\n",
    "                          embeddings_freq=1,\n",
    "                          embeddings_layer_names=['features'],\n",
    "                          embeddings_metadata='metadata.tsv',\n",
    "                          embeddings_data=x_test)\n",
    "\n",
    "'''\n",
    "\n",
    "history = model.fit(x_train, y_train, epochs = 40, batch_size = 512,validation_split=0.1, callbacks = [tensorboard])\n",
    "results = model.evaluate(x_test, y_test)\n",
    "#model.save_weights(model_dir + '{}'.format(model_name)+'.h5')\n",
    "save_model(\"CodeMixed-Emb-UnTrained-CNN_64x7x3_DO-Dense_64x1\", model, \".\\\\models\")"
   ]
  },
  {
   "cell_type": "code",
   "execution_count": 77,
   "metadata": {},
   "outputs": [
    {
     "data": {
      "text/plain": [
       "'C:\\\\Users\\\\vigupta\\\\source\\\\repos\\\\CodeMixed-Hinglish'"
      ]
     },
     "execution_count": 77,
     "metadata": {},
     "output_type": "execute_result"
    }
   ],
   "source": [
    "os.getcwd()"
   ]
  },
  {
   "cell_type": "code",
   "execution_count": 92,
   "metadata": {},
   "outputs": [
    {
     "data": {
      "image/png": "[encoded data removed]",
      "text/plain": [
       "<Figure size 432x288 with 1 Axes>"
      ]
     },
     "metadata": {
      "needs_background": "light"
     },
     "output_type": "display_data"
    },
    {
     "data": {
      "image/png": "[encoded data removed]",
      "text/plain": [
       "<Figure size 432x288 with 1 Axes>"
      ]
     },
     "metadata": {
      "needs_background": "light"
     },
     "output_type": "display_data"
    },
    {
     "data": {
      "text/plain": [
       "<Figure size 432x288 with 0 Axes>"
      ]
     },
     "metadata": {},
     "output_type": "display_data"
    }
   ],
   "source": [
    "acc = history.history['acc']\n",
    "val_acc = history.history['val_acc']\n",
    "loss = history.history['loss']\n",
    "val_loss = history.history['val_loss']\n",
    "\n",
    "epochs = range(1, len(acc)+1)\n",
    "\n",
    "plt.plot(epochs, acc, 'bo', label ='Training acc')\n",
    "plt.plot(epochs, val_acc, 'b', label ='Validation acc')\n",
    "plt.title(\"Training and validation accuracy\")\n",
    "plt.legend()\n",
    "plt.figure()\n",
    "\n",
    "plt.plot(epochs, loss, 'bo', label ='Training Loss')\n",
    "plt.plot(epochs, val_loss, 'b', label ='Validation Loss')\n",
    "plt.title(\"Training and validation Losses\")\n",
    "plt.legend()\n",
    "plt.figure()\n",
    "\n",
    "plt.show()"
   ]
  },
  {
   "cell_type": "code",
   "execution_count": 85,
   "metadata": {},
   "outputs": [
    {
     "name": "stdout",
     "output_type": "stream",
     "text": [
      "['loss', 'acc']\n"
     ]
    },
    {
     "data": {
      "text/plain": [
       "[1.4018997974395753, 0.7020000219345093]"
      ]
     },
     "execution_count": 85,
     "metadata": {},
     "output_type": "execute_result"
    }
   ],
   "source": [
    "print(model.metrics_names)\n",
    "results"
   ]
  },
  {
   "cell_type": "code",
   "execution_count": 100,
   "metadata": {},
   "outputs": [
    {
     "name": "stdout",
     "output_type": "stream",
     "text": [
      "(10000, 100)\n"
     ]
    },
    {
     "data": {
      "text/plain": [
       "array([[-1.82122029e-02, -2.39151075e-01,  7.34210074e-01,\n",
       "        -3.90493959e-01,  8.31238553e-02,  4.56140488e-02,\n",
       "        -4.11497027e-01,  3.16000700e-01, -5.57035387e-01,\n",
       "         8.30648467e-02],\n",
       "       [-5.24324477e-01,  3.84427816e-01,  1.01387620e+00,\n",
       "        -4.35156941e-01,  4.85406518e-01,  2.23095074e-01,\n",
       "        -8.91147628e-02,  5.04001856e-01,  9.76945907e-02,\n",
       "        -2.39136651e-01],\n",
       "       [-2.01886281e-01,  2.25495938e-02,  1.74574718e-01,\n",
       "        -3.45034897e-02, -9.92642641e-02,  2.00759768e-01,\n",
       "        -5.37198901e-01,  1.03052035e-01, -1.91663519e-01,\n",
       "         3.30347806e-01],\n",
       "       [-2.63797998e-01,  5.67945316e-02, -1.91955604e-02,\n",
       "        -1.47028804e-01,  6.66998565e-01,  6.85674965e-01,\n",
       "         3.61096859e-01,  4.76436287e-01, -3.06521654e-01,\n",
       "         5.21216869e-01],\n",
       "       [-5.00663877e-01,  7.62043059e-01,  8.82071733e-01,\n",
       "        -7.91352987e-01, -6.69420481e-01,  6.40109003e-01,\n",
       "        -4.06469733e-01,  3.82466167e-01,  3.49392503e-01,\n",
       "        -4.43005800e-01],\n",
       "       [-1.43221110e-01, -2.73357779e-01,  8.94753754e-01,\n",
       "         1.57745346e-01,  5.34420252e-01,  5.14160752e-01,\n",
       "        -5.95836043e-01, -1.93660751e-01, -1.35319829e+00,\n",
       "         4.01305676e-01],\n",
       "       [ 2.14310452e-01, -5.36461771e-01, -6.97521687e-01,\n",
       "        -1.89691722e-01,  7.21842229e-01, -6.94480538e-01,\n",
       "        -3.38172138e-01, -1.13245256e-01,  6.56606972e-01,\n",
       "         4.65922832e-01],\n",
       "       [-8.33657086e-02,  2.60348916e-01,  4.79465052e-02,\n",
       "        -4.89168018e-01,  3.47874433e-01,  1.73294589e-01,\n",
       "        -3.15917075e-01,  1.79990977e-01, -1.72023311e-01,\n",
       "         2.84426033e-01],\n",
       "       [-5.59674203e-01, -4.94175881e-01,  5.90865314e-01,\n",
       "         7.75168359e-01, -3.35335642e-01,  7.12487474e-02,\n",
       "        -1.55600742e-01,  6.12641573e-01,  6.24713421e-01,\n",
       "        -1.43085510e-01],\n",
       "       [-6.11972548e-02,  5.99965453e-01,  5.66575527e-01,\n",
       "        -4.49881017e-01, -1.17268169e+00,  4.17667806e-01,\n",
       "         6.01939075e-02,  2.75357515e-01,  1.33858770e-01,\n",
       "        -2.12346837e-01],\n",
       "       [ 9.32233334e-02, -2.05462739e-01,  1.64860740e-01,\n",
       "         1.40865684e-01,  3.70952427e-01,  3.49747598e-01,\n",
       "         1.92905422e-02,  2.54834414e-01, -4.41005319e-01,\n",
       "         5.28556705e-01],\n",
       "       [ 5.73042706e-02,  1.13484383e-01,  6.88425481e-01,\n",
       "        -4.35270518e-01, -5.72439611e-01,  7.29679108e-01,\n",
       "        -1.03616059e-01,  2.46116325e-01,  4.41740841e-01,\n",
       "        -6.69249475e-01],\n",
       "       [-1.65979132e-01, -9.65205491e-01,  1.54275358e-01,\n",
       "         5.65827668e-01,  1.19892947e-01, -1.85340084e-02,\n",
       "         1.55156657e-01,  3.46466035e-01,  6.11858428e-01,\n",
       "         3.91653657e-01],\n",
       "       [-3.05094540e-01, -2.36273557e-01, -7.45735690e-02,\n",
       "        -1.06804654e-01, -3.39944750e-01,  1.41501606e-01,\n",
       "         1.17117383e-01, -1.47416323e-01,  4.06660467e-01,\n",
       "        -4.75704372e-02],\n",
       "       [-5.02268851e-01,  8.17607641e-01,  2.49091148e-01,\n",
       "        -7.52001643e-01,  2.18720481e-01,  2.20923379e-01,\n",
       "        -4.25657660e-01,  6.40722156e-01, -3.38483989e-01,\n",
       "        -6.40480042e-01],\n",
       "       [-9.95987281e-02,  2.14668170e-01,  7.01234043e-01,\n",
       "        -4.14837301e-01, -2.23607004e-01, -1.52693197e-01,\n",
       "        -1.12488627e-01,  1.87270299e-01,  1.73353478e-01,\n",
       "        -1.44032631e-02],\n",
       "       [-4.23574038e-02,  3.41138303e-01,  5.60762703e-01,\n",
       "        -4.93076265e-01, -5.48073828e-01,  1.12328485e-01,\n",
       "        -1.22282058e-01,  2.64195621e-01,  6.27614200e-01,\n",
       "         4.85912785e-02],\n",
       "       [-1.84850127e-01,  2.04636961e-01,  3.50622326e-01,\n",
       "        -5.43002665e-01, -4.81016397e-01,  1.62571892e-01,\n",
       "        -1.36057064e-01,  2.18796194e-01,  3.40318501e-01,\n",
       "         1.10612944e-01],\n",
       "       [-5.96593380e-01,  6.51256144e-02,  8.61169338e-01,\n",
       "        -5.82080007e-01, -6.41637743e-01,  6.48618579e-01,\n",
       "        -8.62466931e-01,  2.28748113e-01, -1.35258329e-03,\n",
       "         2.14159563e-01]], dtype=float32)"
      ]
     },
     "execution_count": 100,
     "metadata": {},
     "output_type": "execute_result"
    }
   ],
   "source": [
    "e = model.layers[0]\n",
    "weights = e.get_weights()[0]\n",
    "print(weights.shape) # shape: (vocab_size, embedding_dim)\n",
    "\n",
    "weights[1:20, 0:10]"
   ]
  },
  {
   "cell_type": "code",
   "execution_count": 76,
   "metadata": {},
   "outputs": [],
   "source": [
    "## Plotting function\n",
    "def plot_words(data, start, stop, step):\n",
    "    trace = go.Scatter(\n",
    "        x = data[start:stop:step,0], \n",
    "        y = data[start:stop:step, 1],\n",
    "        mode = 'markers',\n",
    "        text= word_list[start:stop:step]\n",
    "    )\n",
    "    layout = dict(title= 't-SNE 1 vs t-SNE 2',\n",
    "                  yaxis = dict(title='t-SNE 2'),\n",
    "                  xaxis = dict(title='t-SNE 1'),\n",
    "                  hovermode= 'closest')\n",
    "    fig = dict(data = [trace], layout= layout)\n",
    "    py.iplot(fig)"
   ]
  },
  {
   "cell_type": "code",
   "execution_count": 51,
   "metadata": {},
   "outputs": [
    {
     "ename": "NameError",
     "evalue": "name 'word_list' is not defined",
     "output_type": "error",
     "traceback": [
      "\u001b[1;31m---------------------------------------------------------------------------\u001b[0m",
      "\u001b[1;31mNameError\u001b[0m                                 Traceback (most recent call last)",
      "\u001b[1;32m<ipython-input-51-9e106d02f85d>\u001b[0m in \u001b[0;36m<module>\u001b[1;34m\u001b[0m\n\u001b[0;32m      1\u001b[0m \u001b[0mtsne_embeddings\u001b[0m \u001b[1;33m=\u001b[0m \u001b[0mTSNE\u001b[0m\u001b[1;33m(\u001b[0m\u001b[0mn_components\u001b[0m\u001b[1;33m=\u001b[0m\u001b[1;36m2\u001b[0m\u001b[1;33m)\u001b[0m\u001b[1;33m.\u001b[0m\u001b[0mfit_transform\u001b[0m\u001b[1;33m(\u001b[0m\u001b[0mweights\u001b[0m\u001b[1;33m)\u001b[0m\u001b[1;33m\u001b[0m\u001b[1;33m\u001b[0m\u001b[0m\n\u001b[1;32m----> 2\u001b[1;33m \u001b[0mplot_words\u001b[0m\u001b[1;33m(\u001b[0m\u001b[0mtsne_embeddings\u001b[0m\u001b[1;33m,\u001b[0m \u001b[1;36m0\u001b[0m\u001b[1;33m,\u001b[0m \u001b[1;36m2\u001b[0m\u001b[1;33m,\u001b[0m \u001b[1;36m1\u001b[0m\u001b[1;33m)\u001b[0m\u001b[1;33m\u001b[0m\u001b[1;33m\u001b[0m\u001b[0m\n\u001b[0m",
      "\u001b[1;32m<ipython-input-50-6ad1d4105a79>\u001b[0m in \u001b[0;36mplot_words\u001b[1;34m(data, start, stop, step)\u001b[0m\n\u001b[0;32m      5\u001b[0m         \u001b[0my\u001b[0m \u001b[1;33m=\u001b[0m \u001b[0mdata\u001b[0m\u001b[1;33m[\u001b[0m\u001b[0mstart\u001b[0m\u001b[1;33m:\u001b[0m\u001b[0mstop\u001b[0m\u001b[1;33m:\u001b[0m\u001b[0mstep\u001b[0m\u001b[1;33m,\u001b[0m \u001b[1;36m1\u001b[0m\u001b[1;33m]\u001b[0m\u001b[1;33m,\u001b[0m\u001b[1;33m\u001b[0m\u001b[1;33m\u001b[0m\u001b[0m\n\u001b[0;32m      6\u001b[0m         \u001b[0mmode\u001b[0m \u001b[1;33m=\u001b[0m \u001b[1;34m'markers'\u001b[0m\u001b[1;33m,\u001b[0m\u001b[1;33m\u001b[0m\u001b[1;33m\u001b[0m\u001b[0m\n\u001b[1;32m----> 7\u001b[1;33m         \u001b[0mtext\u001b[0m\u001b[1;33m=\u001b[0m \u001b[0mword_list\u001b[0m\u001b[1;33m[\u001b[0m\u001b[0mstart\u001b[0m\u001b[1;33m:\u001b[0m\u001b[0mstop\u001b[0m\u001b[1;33m:\u001b[0m\u001b[0mstep\u001b[0m\u001b[1;33m]\u001b[0m\u001b[1;33m\u001b[0m\u001b[1;33m\u001b[0m\u001b[0m\n\u001b[0m\u001b[0;32m      8\u001b[0m     )\n\u001b[0;32m      9\u001b[0m     layout = dict(title= 't-SNE 1 vs t-SNE 2',\n",
      "\u001b[1;31mNameError\u001b[0m: name 'word_list' is not defined"
     ]
    }
   ],
   "source": [
    "tsne_embeddings = TSNE(n_components=2).fit_transform(weights)\n",
    "plot_words(tsne_embeddings, 0, 2, 1)"
   ]
  },
  {
   "cell_type": "code",
   "execution_count": null,
   "metadata": {},
   "outputs": [],
   "source": []
  }
 ],
 "metadata": {
  "kernelspec": {
   "display_name": "Python 3",
   "language": "python",
   "name": "python3"
  },
  "language_info": {
   "codemirror_mode": {
    "name": "ipython",
    "version": 3
   },
   "file_extension": ".py",
   "mimetype": "text/x-python",
   "name": "python",
   "nbconvert_exporter": "python",
   "pygments_lexer": "ipython3",
   "version": "3.7.4"
  }
 },
 "nbformat": 4,
 "nbformat_minor": 2
}
